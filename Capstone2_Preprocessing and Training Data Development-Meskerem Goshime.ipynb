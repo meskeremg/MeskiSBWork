{
 "cells": [
  {
   "cell_type": "markdown",
   "id": "5b9d6640",
   "metadata": {},
   "source": [
    "# Preprocessing and Training Data Development - LendingClub Loan Listings Data\n",
    "\n",
    "Meskerem Goshime\n",
    "\n",
    "Data Source: https://www.kaggle.com/datasets/husainsb/lendingclub-issued-loans\n",
    "\n",
    "“LendingClub is a US peer-to-peer lending company, headquartered in San Francisco, California.” The company “enables borrowers to create unsecured personal loans between 1,000𝑎𝑛𝑑 40,000. The standard loan period is three years. Investors can search and browse the loan listings on Lending Club website and select loans that they want to invest in based on the information supplied about the borrower, amount of loan, loan grade, and loan purpose. Investors make money from interest. Lending Club makes money by charging borrowers an origination fee and investors a service fee.” (source: https://www.kaggle.com/datasets/husainsb/lendingclub-issued-loans?select=lc_2016_2017.csv)​\n",
    "\n",
    "This study aims to help LendingClub in making informed lending decisions and investors make informed investment decisions"
   ]
  },
  {
   "cell_type": "code",
   "execution_count": 104,
   "id": "95e149f5",
   "metadata": {},
   "outputs": [],
   "source": [
    "#import packages\n",
    "import pandas as pd\n",
    "import numpy as np\n",
    "import matplotlib.pyplot as plt\n",
    "import seaborn as sns"
   ]
  },
  {
   "cell_type": "code",
   "execution_count": 105,
   "id": "4cdee3c6",
   "metadata": {},
   "outputs": [
    {
     "data": {
      "text/html": [
       "<div>\n",
       "<style scoped>\n",
       "    .dataframe tbody tr th:only-of-type {\n",
       "        vertical-align: middle;\n",
       "    }\n",
       "\n",
       "    .dataframe tbody tr th {\n",
       "        vertical-align: top;\n",
       "    }\n",
       "\n",
       "    .dataframe thead th {\n",
       "        text-align: right;\n",
       "    }\n",
       "</style>\n",
       "<table border=\"1\" class=\"dataframe\">\n",
       "  <thead>\n",
       "    <tr style=\"text-align: right;\">\n",
       "      <th></th>\n",
       "      <th>id</th>\n",
       "      <th>loan_amnt</th>\n",
       "      <th>funded_amnt</th>\n",
       "      <th>funded_amnt_inv</th>\n",
       "      <th>term</th>\n",
       "      <th>int_rate</th>\n",
       "      <th>installment</th>\n",
       "      <th>grade</th>\n",
       "      <th>sub_grade</th>\n",
       "      <th>emp_length</th>\n",
       "      <th>...</th>\n",
       "      <th>total_rec_int</th>\n",
       "      <th>total_rec_late_fee</th>\n",
       "      <th>recoveries</th>\n",
       "      <th>collection_recovery_fee</th>\n",
       "      <th>last_pymnt_d</th>\n",
       "      <th>last_pymnt_amnt</th>\n",
       "      <th>last_credit_pull_d</th>\n",
       "      <th>collections_12_mths_ex_med</th>\n",
       "      <th>application_type</th>\n",
       "      <th>acc_now_delinq</th>\n",
       "    </tr>\n",
       "  </thead>\n",
       "  <tbody>\n",
       "    <tr>\n",
       "      <th>0</th>\n",
       "      <td>1077501</td>\n",
       "      <td>5000.0</td>\n",
       "      <td>5000.0</td>\n",
       "      <td>4975.0</td>\n",
       "      <td>36</td>\n",
       "      <td>10.65</td>\n",
       "      <td>162.87</td>\n",
       "      <td>2</td>\n",
       "      <td>B2</td>\n",
       "      <td>10.0</td>\n",
       "      <td>...</td>\n",
       "      <td>861.07</td>\n",
       "      <td>0.00</td>\n",
       "      <td>0.00</td>\n",
       "      <td>0.00</td>\n",
       "      <td>Jan-2015</td>\n",
       "      <td>171.62</td>\n",
       "      <td>Jan-2016</td>\n",
       "      <td>0.0</td>\n",
       "      <td>INDIVIDUAL</td>\n",
       "      <td>0.0</td>\n",
       "    </tr>\n",
       "    <tr>\n",
       "      <th>1</th>\n",
       "      <td>1077430</td>\n",
       "      <td>2500.0</td>\n",
       "      <td>2500.0</td>\n",
       "      <td>2500.0</td>\n",
       "      <td>60</td>\n",
       "      <td>15.27</td>\n",
       "      <td>59.83</td>\n",
       "      <td>3</td>\n",
       "      <td>C4</td>\n",
       "      <td>0.0</td>\n",
       "      <td>...</td>\n",
       "      <td>435.17</td>\n",
       "      <td>0.00</td>\n",
       "      <td>117.08</td>\n",
       "      <td>1.11</td>\n",
       "      <td>Apr-2013</td>\n",
       "      <td>119.66</td>\n",
       "      <td>Sep-2013</td>\n",
       "      <td>0.0</td>\n",
       "      <td>INDIVIDUAL</td>\n",
       "      <td>0.0</td>\n",
       "    </tr>\n",
       "    <tr>\n",
       "      <th>2</th>\n",
       "      <td>1077175</td>\n",
       "      <td>2400.0</td>\n",
       "      <td>2400.0</td>\n",
       "      <td>2400.0</td>\n",
       "      <td>36</td>\n",
       "      <td>15.96</td>\n",
       "      <td>84.33</td>\n",
       "      <td>3</td>\n",
       "      <td>C5</td>\n",
       "      <td>10.0</td>\n",
       "      <td>...</td>\n",
       "      <td>603.65</td>\n",
       "      <td>0.00</td>\n",
       "      <td>0.00</td>\n",
       "      <td>0.00</td>\n",
       "      <td>Jun-2014</td>\n",
       "      <td>649.91</td>\n",
       "      <td>Jan-2016</td>\n",
       "      <td>0.0</td>\n",
       "      <td>INDIVIDUAL</td>\n",
       "      <td>0.0</td>\n",
       "    </tr>\n",
       "    <tr>\n",
       "      <th>3</th>\n",
       "      <td>1076863</td>\n",
       "      <td>10000.0</td>\n",
       "      <td>10000.0</td>\n",
       "      <td>10000.0</td>\n",
       "      <td>36</td>\n",
       "      <td>13.49</td>\n",
       "      <td>339.31</td>\n",
       "      <td>3</td>\n",
       "      <td>C1</td>\n",
       "      <td>10.0</td>\n",
       "      <td>...</td>\n",
       "      <td>2209.33</td>\n",
       "      <td>16.97</td>\n",
       "      <td>0.00</td>\n",
       "      <td>0.00</td>\n",
       "      <td>Jan-2015</td>\n",
       "      <td>357.48</td>\n",
       "      <td>Jan-2015</td>\n",
       "      <td>0.0</td>\n",
       "      <td>INDIVIDUAL</td>\n",
       "      <td>0.0</td>\n",
       "    </tr>\n",
       "    <tr>\n",
       "      <th>4</th>\n",
       "      <td>1075358</td>\n",
       "      <td>3000.0</td>\n",
       "      <td>3000.0</td>\n",
       "      <td>3000.0</td>\n",
       "      <td>60</td>\n",
       "      <td>12.69</td>\n",
       "      <td>67.79</td>\n",
       "      <td>2</td>\n",
       "      <td>B5</td>\n",
       "      <td>1.0</td>\n",
       "      <td>...</td>\n",
       "      <td>1009.07</td>\n",
       "      <td>0.00</td>\n",
       "      <td>0.00</td>\n",
       "      <td>0.00</td>\n",
       "      <td>Jan-2016</td>\n",
       "      <td>67.79</td>\n",
       "      <td>Jan-2016</td>\n",
       "      <td>0.0</td>\n",
       "      <td>INDIVIDUAL</td>\n",
       "      <td>0.0</td>\n",
       "    </tr>\n",
       "  </tbody>\n",
       "</table>\n",
       "<p>5 rows × 44 columns</p>\n",
       "</div>"
      ],
      "text/plain": [
       "        id  loan_amnt  funded_amnt  funded_amnt_inv  term  int_rate  \\\n",
       "0  1077501     5000.0       5000.0           4975.0    36     10.65   \n",
       "1  1077430     2500.0       2500.0           2500.0    60     15.27   \n",
       "2  1077175     2400.0       2400.0           2400.0    36     15.96   \n",
       "3  1076863    10000.0      10000.0          10000.0    36     13.49   \n",
       "4  1075358     3000.0       3000.0           3000.0    60     12.69   \n",
       "\n",
       "   installment  grade sub_grade  emp_length  ... total_rec_int  \\\n",
       "0       162.87      2        B2        10.0  ...        861.07   \n",
       "1        59.83      3        C4         0.0  ...        435.17   \n",
       "2        84.33      3        C5        10.0  ...        603.65   \n",
       "3       339.31      3        C1        10.0  ...       2209.33   \n",
       "4        67.79      2        B5         1.0  ...       1009.07   \n",
       "\n",
       "   total_rec_late_fee recoveries collection_recovery_fee last_pymnt_d  \\\n",
       "0                0.00       0.00                    0.00     Jan-2015   \n",
       "1                0.00     117.08                    1.11     Apr-2013   \n",
       "2                0.00       0.00                    0.00     Jun-2014   \n",
       "3               16.97       0.00                    0.00     Jan-2015   \n",
       "4                0.00       0.00                    0.00     Jan-2016   \n",
       "\n",
       "  last_pymnt_amnt last_credit_pull_d collections_12_mths_ex_med  \\\n",
       "0          171.62           Jan-2016                        0.0   \n",
       "1          119.66           Sep-2013                        0.0   \n",
       "2          649.91           Jan-2016                        0.0   \n",
       "3          357.48           Jan-2015                        0.0   \n",
       "4           67.79           Jan-2016                        0.0   \n",
       "\n",
       "  application_type  acc_now_delinq  \n",
       "0       INDIVIDUAL             0.0  \n",
       "1       INDIVIDUAL             0.0  \n",
       "2       INDIVIDUAL             0.0  \n",
       "3       INDIVIDUAL             0.0  \n",
       "4       INDIVIDUAL             0.0  \n",
       "\n",
       "[5 rows x 44 columns]"
      ]
     },
     "execution_count": 105,
     "metadata": {},
     "output_type": "execute_result"
    }
   ],
   "source": [
    "# loading the loan 2007-2015 data\n",
    "df = pd.read_csv('Loan_0715_after_eda.csv')\n",
    "df.head()"
   ]
  },
  {
   "cell_type": "code",
   "execution_count": 106,
   "id": "fa9bf58d",
   "metadata": {
    "scrolled": false
   },
   "outputs": [
    {
     "data": {
      "text/plain": [
       "MORTGAGE    414522\n",
       "RENT        333724\n",
       "OWN          77014\n",
       "OTHER          179\n",
       "NONE            43\n",
       "Name: home_ownership, dtype: int64"
      ]
     },
     "execution_count": 106,
     "metadata": {},
     "output_type": "execute_result"
    }
   ],
   "source": [
    "df['home_ownership'].value_counts()"
   ]
  },
  {
   "cell_type": "code",
   "execution_count": 107,
   "id": "24a579bd",
   "metadata": {},
   "outputs": [],
   "source": [
    "# Converting the sub_grade column to numerical values\n",
    "\n",
    "df['sub_grade'] = df['sub_grade'].replace(['A1', 'A2', 'A3', 'A4', 'A5'], [10, 12, 14, 16, 18])\n",
    "df['sub_grade'] = df['sub_grade'].replace(['B1', 'B2', 'B3', 'B4', 'B5'], [20, 22, 24, 26, 28])\n",
    "df['sub_grade'] = df['sub_grade'].replace(['C1', 'C2', 'C3', 'C4', 'C5'], [30, 32, 34, 36, 38])\n",
    "df['sub_grade'] = df['sub_grade'].replace(['D1', 'D2', 'D3', 'D4', 'D5'], [40, 42, 44, 46, 48])\n",
    "df['sub_grade'] = df['sub_grade'].replace(['E1', 'E2', 'E3', 'E4', 'E5'], [50, 52, 54, 56, 58])\n",
    "df['sub_grade'] = df['sub_grade'].replace(['F1', 'F2', 'F3', 'F4', 'F5'], [60, 62, 64, 66, 68])\n",
    "df['sub_grade'] = df['sub_grade'].replace(['G1', 'G2', 'G3', 'G4', 'G5'], [70, 72, 74, 76, 78])"
   ]
  },
  {
   "cell_type": "code",
   "execution_count": 108,
   "id": "017bc869",
   "metadata": {},
   "outputs": [
    {
     "data": {
      "text/plain": [
       "36    573166\n",
       "60    252316\n",
       "Name: term, dtype: int64"
      ]
     },
     "execution_count": 108,
     "metadata": {},
     "output_type": "execute_result"
    }
   ],
   "source": [
    "df['term'].value_counts()"
   ]
  },
  {
   "cell_type": "code",
   "execution_count": 109,
   "id": "b2f62212",
   "metadata": {},
   "outputs": [],
   "source": [
    "#combining mortgage and own categories\n",
    "df['home_ownership'] = df['home_ownership'].str.replace('MORTGAGE', 'OWN')"
   ]
  },
  {
   "cell_type": "code",
   "execution_count": 110,
   "id": "ca31e573",
   "metadata": {},
   "outputs": [
    {
     "data": {
      "text/plain": [
       "OWN      491536\n",
       "RENT     333724\n",
       "OTHER       179\n",
       "NONE         43\n",
       "Name: home_ownership, dtype: int64"
      ]
     },
     "execution_count": 110,
     "metadata": {},
     "output_type": "execute_result"
    }
   ],
   "source": [
    "df['home_ownership'].value_counts()"
   ]
  },
  {
   "cell_type": "code",
   "execution_count": 111,
   "id": "9970021c",
   "metadata": {},
   "outputs": [
    {
     "data": {
      "text/plain": [
       "Index(['id', 'loan_amnt', 'funded_amnt', 'funded_amnt_inv', 'term', 'int_rate',\n",
       "       'installment', 'grade', 'sub_grade', 'emp_length', 'home_ownership',\n",
       "       'annual_inc', 'verification_status', 'issue_d', 'loan_status',\n",
       "       'pymnt_plan', 'purpose', 'zip_code', 'addr_state', 'dti', 'delinq_2yrs',\n",
       "       'earliest_cr_line', 'inq_last_6mths', 'open_acc', 'pub_rec',\n",
       "       'revol_bal', 'revol_util', 'total_acc', 'initial_list_status',\n",
       "       'out_prncp', 'out_prncp_inv', 'total_pymnt', 'total_pymnt_inv',\n",
       "       'total_rec_prncp', 'total_rec_int', 'total_rec_late_fee', 'recoveries',\n",
       "       'collection_recovery_fee', 'last_pymnt_d', 'last_pymnt_amnt',\n",
       "       'last_credit_pull_d', 'collections_12_mths_ex_med', 'application_type',\n",
       "       'acc_now_delinq'],\n",
       "      dtype='object')"
      ]
     },
     "execution_count": 111,
     "metadata": {},
     "output_type": "execute_result"
    }
   ],
   "source": [
    "df.columns"
   ]
  },
  {
   "cell_type": "code",
   "execution_count": 112,
   "id": "4a127b91",
   "metadata": {},
   "outputs": [],
   "source": [
    "# Columns to drop - funded_amnt, pymnt_plan, installment, verification_status, issue_d, issue_d, earliest_cr_line, \n",
    "# pub_rec, revol_bal, revol_util, total_acc, initial_list_status, out_prncp,\n",
    "# out_prncp_inv, total_pymnt, total_pymnt_inv, total_rec_prncp, total_rec_int, total_rec_late_fee, recoveries,\n",
    "# collection_recovery_fee, last_pymnt_d, last_pymnt_amnt, last_credit_pull_d, \n",
    "\n",
    "\n",
    "# Columns to use - loan_amnt, int_rate, 'grade', 'sub_grade', annual_inc, zip_code, addr_state, dti, delinq_2yrs, \n",
    "# inq_last_6mths, open_acc, collections_12_mths_ex_med, acc_now_delinq\n",
    "# and the one-hot encoded columns\n",
    "\n",
    "df = df[['loan_amnt', 'int_rate', 'grade', 'sub_grade', 'annual_inc', 'dti', 'delinq_2yrs', \n",
    "       'inq_last_6mths', 'open_acc', 'collections_12_mths_ex_med', 'acc_now_delinq', \n",
    "       'term', 'emp_length', 'home_ownership', 'application_type', 'purpose', 'loan_status']]\n"
   ]
  },
  {
   "cell_type": "code",
   "execution_count": 113,
   "id": "db1ca7be",
   "metadata": {
    "scrolled": true
   },
   "outputs": [
    {
     "data": {
      "text/plain": [
       "0    768526\n",
       "1     56956\n",
       "Name: loan_status, dtype: int64"
      ]
     },
     "execution_count": 113,
     "metadata": {},
     "output_type": "execute_result"
    }
   ],
   "source": [
    "# Combining loan status values to 'good' or 'bad'\n",
    "\n",
    "df['loan_status'].value_counts() \n",
    "\n",
    "# Good loans will be 0 and bad loans will be 1\n",
    "df['loan_status']= df['loan_status'].replace(dict.fromkeys(['Current','Fully Paid','In Grace Period','Issued'], 0))\n",
    "df['loan_status']= df['loan_status'].replace(dict.fromkeys(['Charged Off','Late (31-120 days)','Late (16-30 days)','Default'], 1))\n",
    "df['loan_status'].value_counts()"
   ]
  },
  {
   "cell_type": "markdown",
   "id": "e47e2e11",
   "metadata": {},
   "source": [
    "# Any outliers?"
   ]
  },
  {
   "cell_type": "code",
   "execution_count": 114,
   "id": "e4f9e909",
   "metadata": {},
   "outputs": [
    {
     "data": {
      "text/plain": [
       "9500000.0"
      ]
     },
     "execution_count": 114,
     "metadata": {},
     "output_type": "execute_result"
    }
   ],
   "source": [
    "df['annual_inc'].max()"
   ]
  },
  {
   "cell_type": "code",
   "execution_count": 115,
   "id": "2e09a654",
   "metadata": {},
   "outputs": [
    {
     "data": {
      "text/plain": [
       "196071.44670046447"
      ]
     },
     "execution_count": 115,
     "metadata": {},
     "output_type": "execute_result"
    }
   ],
   "source": [
    "# removing extereme values in the annual income column\n",
    "inc_mean = df['annual_inc'].mean()\n",
    "inc_std = df['annual_inc'].std()\n",
    "Three_std = 3*inc_std\n",
    "Three_std"
   ]
  },
  {
   "cell_type": "code",
   "execution_count": 116,
   "id": "c44492d8",
   "metadata": {},
   "outputs": [
    {
     "data": {
      "text/plain": [
       "379557.0000000298"
      ]
     },
     "execution_count": 116,
     "metadata": {},
     "output_type": "execute_result"
    }
   ],
   "source": [
    "# 99.7 Quantile\n",
    "quantile_997 = df['annual_inc'].quantile(0.997)\n",
    "quantile_997"
   ]
  },
  {
   "cell_type": "code",
   "execution_count": 117,
   "id": "ebe03cdb",
   "metadata": {},
   "outputs": [
    {
     "name": "stdout",
     "output_type": "stream",
     "text": [
      "379000.0\n"
     ]
    }
   ],
   "source": [
    "# Removing the data that is above the 99.7 quantile. \n",
    "# I prefer the 99.7 quantile treshold than the 3 standard deviation because it removes less data.\n",
    "\n",
    "df = df[df['annual_inc'] <= quantile_997]\n",
    "print(df['annual_inc'].max())"
   ]
  },
  {
   "cell_type": "code",
   "execution_count": 118,
   "id": "20c275a9",
   "metadata": {},
   "outputs": [
    {
     "data": {
      "text/plain": [
       "array([[<AxesSubplot:title={'center':'loan_amnt'}>,\n",
       "        <AxesSubplot:title={'center':'int_rate'}>,\n",
       "        <AxesSubplot:title={'center':'grade'}>,\n",
       "        <AxesSubplot:title={'center':'sub_grade'}>],\n",
       "       [<AxesSubplot:title={'center':'annual_inc'}>,\n",
       "        <AxesSubplot:title={'center':'dti'}>,\n",
       "        <AxesSubplot:title={'center':'delinq_2yrs'}>,\n",
       "        <AxesSubplot:title={'center':'inq_last_6mths'}>],\n",
       "       [<AxesSubplot:title={'center':'open_acc'}>,\n",
       "        <AxesSubplot:title={'center':'collections_12_mths_ex_med'}>,\n",
       "        <AxesSubplot:title={'center':'acc_now_delinq'}>,\n",
       "        <AxesSubplot:title={'center':'term'}>],\n",
       "       [<AxesSubplot:title={'center':'emp_length'}>,\n",
       "        <AxesSubplot:title={'center':'loan_status'}>, <AxesSubplot:>,\n",
       "        <AxesSubplot:>]], dtype=object)"
      ]
     },
     "execution_count": 118,
     "metadata": {},
     "output_type": "execute_result"
    },
    {
     "data": {
      "image/png": "[encoded data removed]",
      "text/plain": [
       "<Figure size 720x720 with 16 Axes>"
      ]
     },
     "metadata": {
      "needs_background": "light"
     },
     "output_type": "display_data"
    }
   ],
   "source": [
    "df.hist(figsize=(10,10), bins=10)"
   ]
  },
  {
   "cell_type": "markdown",
   "id": "fa488a3b",
   "metadata": {},
   "source": [
    "# One-hot-encoding Categorical Columns"
   ]
  },
  {
   "cell_type": "code",
   "execution_count": 119,
   "id": "e2d26e80",
   "metadata": {},
   "outputs": [],
   "source": [
    "# df = pd.get_dummies(df, prefix=['term', 'emp', 'home', 'appl', 'purpose'], columns=['term', 'emp_length', 'home_ownership', 'application_type', 'purpose'])\n",
    "cat_cols = ['home_ownership', 'application_type', 'purpose']\n",
    "df = pd.get_dummies(df, prefix=['home', 'appl', 'purpose'], columns=cat_cols)"
   ]
  },
  {
   "cell_type": "code",
   "execution_count": 120,
   "id": "1a7eb995",
   "metadata": {},
   "outputs": [
    {
     "data": {
      "text/plain": [
       "Index(['loan_amnt', 'int_rate', 'grade', 'sub_grade', 'annual_inc', 'dti',\n",
       "       'delinq_2yrs', 'inq_last_6mths', 'open_acc',\n",
       "       'collections_12_mths_ex_med', 'acc_now_delinq', 'term', 'emp_length',\n",
       "       'loan_status', 'home_NONE', 'home_OTHER', 'home_OWN', 'home_RENT',\n",
       "       'appl_INDIVIDUAL', 'appl_JOINT', 'purpose_car', 'purpose_credit_card',\n",
       "       'purpose_debt_consolidation', 'purpose_educational',\n",
       "       'purpose_home_improvement', 'purpose_house', 'purpose_major_purchase',\n",
       "       'purpose_medical', 'purpose_moving', 'purpose_other',\n",
       "       'purpose_renewable_energy', 'purpose_small_business',\n",
       "       'purpose_vacation', 'purpose_wedding'],\n",
       "      dtype='object')"
      ]
     },
     "execution_count": 120,
     "metadata": {},
     "output_type": "execute_result"
    }
   ],
   "source": [
    "df.columns"
   ]
  },
  {
   "cell_type": "code",
   "execution_count": 121,
   "id": "c6e84480",
   "metadata": {},
   "outputs": [
    {
     "data": {
      "image/png": "[encoded data removed]",
      "text/plain": [
       "<Figure size 576x576 with 2 Axes>"
      ]
     },
     "metadata": {
      "needs_background": "light"
     },
     "output_type": "display_data"
    }
   ],
   "source": [
    "plt.figure(figsize=(8,8))\n",
    "heat_map = sns.heatmap(df.corr())\n",
    "plt.title( \"Loan data heatmap\" )\n",
    "plt.show()"
   ]
  },
  {
   "cell_type": "code",
   "execution_count": 127,
   "id": "0368170a",
   "metadata": {},
   "outputs": [],
   "source": [
    "# Dividing the data into X and y\n",
    "\n",
    "X = df.drop(['loan_status'], axis=1)\n",
    "y = df[['loan_status']]"
   ]
  },
  {
   "cell_type": "code",
   "execution_count": 128,
   "id": "d0ce7486",
   "metadata": {},
   "outputs": [],
   "source": [
    "# Splitting the data into training and testing set\n",
    "\n",
    "from sklearn.model_selection import train_test_split\n",
    "X_train, X_test, y_train, y_test = train_test_split(X, y, test_size = 0.2, random_state=42)"
   ]
  },
  {
   "cell_type": "markdown",
   "id": "8d95b774",
   "metadata": {},
   "source": [
    "# Standardize the numeric columns using StandardScaler"
   ]
  },
  {
   "cell_type": "code",
   "execution_count": 129,
   "id": "916cc179",
   "metadata": {},
   "outputs": [
    {
     "name": "stdout",
     "output_type": "stream",
     "text": [
      "Index(['loan_amnt', 'int_rate', 'grade', 'sub_grade', 'annual_inc', 'dti',\n",
      "       'delinq_2yrs', 'inq_last_6mths', 'open_acc',\n",
      "       'collections_12_mths_ex_med', 'acc_now_delinq', 'term', 'emp_length',\n",
      "       'loan_status', 'home_NONE', 'home_OTHER', 'home_OWN', 'home_RENT',\n",
      "       'appl_INDIVIDUAL', 'appl_JOINT', 'purpose_car', 'purpose_credit_card',\n",
      "       'purpose_debt_consolidation', 'purpose_educational',\n",
      "       'purpose_home_improvement', 'purpose_house', 'purpose_major_purchase',\n",
      "       'purpose_medical', 'purpose_moving', 'purpose_other',\n",
      "       'purpose_renewable_energy', 'purpose_small_business',\n",
      "       'purpose_vacation', 'purpose_wedding'],\n",
      "      dtype='object')\n"
     ]
    }
   ],
   "source": [
    "from sklearn.preprocessing import StandardScaler\n",
    "numeric_cols = df.select_dtypes(include='number')\n",
    "print(numeric_cols.columns)\n",
    "\n",
    "scaler = StandardScaler()\n",
    "to_standardize = ['loan_amnt', 'int_rate', 'grade', 'sub_grade', 'annual_inc', 'dti', 'delinq_2yrs',\n",
    "       'inq_last_6mths', 'open_acc', 'collections_12_mths_ex_med',\n",
    "       'acc_now_delinq', 'term', 'emp_length']\n",
    "\n",
    "scaler.fit(X_train[to_standardize])\n",
    "standardized_cols_train = scaler.transform(X_train[to_standardize])\n",
    "standardized_cols_train = pd.DataFrame(standardized_cols_train)\n",
    "standardized_cols_train.columns = to_standardize\n"
   ]
  },
  {
   "cell_type": "code",
   "execution_count": 130,
   "id": "de8f1fb1",
   "metadata": {},
   "outputs": [
    {
     "data": {
      "text/html": [
       "<div>\n",
       "<style scoped>\n",
       "    .dataframe tbody tr th:only-of-type {\n",
       "        vertical-align: middle;\n",
       "    }\n",
       "\n",
       "    .dataframe tbody tr th {\n",
       "        vertical-align: top;\n",
       "    }\n",
       "\n",
       "    .dataframe thead th {\n",
       "        text-align: right;\n",
       "    }\n",
       "</style>\n",
       "<table border=\"1\" class=\"dataframe\">\n",
       "  <thead>\n",
       "    <tr style=\"text-align: right;\">\n",
       "      <th></th>\n",
       "      <th>count</th>\n",
       "      <th>mean</th>\n",
       "      <th>std</th>\n",
       "      <th>min</th>\n",
       "      <th>25%</th>\n",
       "      <th>50%</th>\n",
       "      <th>75%</th>\n",
       "      <th>max</th>\n",
       "    </tr>\n",
       "  </thead>\n",
       "  <tbody>\n",
       "    <tr>\n",
       "      <th>loan_amnt</th>\n",
       "      <td>658404.0</td>\n",
       "      <td>-1.473256e-16</td>\n",
       "      <td>1.000001</td>\n",
       "      <td>-1.707768</td>\n",
       "      <td>-0.778188</td>\n",
       "      <td>-0.199056</td>\n",
       "      <td>0.608758</td>\n",
       "      <td>2.390701</td>\n",
       "    </tr>\n",
       "    <tr>\n",
       "      <th>int_rate</th>\n",
       "      <td>658404.0</td>\n",
       "      <td>7.276851e-16</td>\n",
       "      <td>1.000001</td>\n",
       "      <td>-1.810561</td>\n",
       "      <td>-0.745473</td>\n",
       "      <td>-0.061262</td>\n",
       "      <td>0.670843</td>\n",
       "      <td>3.587862</td>\n",
       "    </tr>\n",
       "    <tr>\n",
       "      <th>grade</th>\n",
       "      <td>658404.0</td>\n",
       "      <td>1.987189e-15</td>\n",
       "      <td>1.000001</td>\n",
       "      <td>-1.367034</td>\n",
       "      <td>-0.606370</td>\n",
       "      <td>0.154295</td>\n",
       "      <td>0.914959</td>\n",
       "      <td>3.196952</td>\n",
       "    </tr>\n",
       "    <tr>\n",
       "      <th>sub_grade</th>\n",
       "      <td>658404.0</td>\n",
       "      <td>2.567079e-15</td>\n",
       "      <td>1.000001</td>\n",
       "      <td>-1.685288</td>\n",
       "      <td>-0.762413</td>\n",
       "      <td>-0.147162</td>\n",
       "      <td>0.621901</td>\n",
       "      <td>3.544341</td>\n",
       "    </tr>\n",
       "    <tr>\n",
       "      <th>annual_inc</th>\n",
       "      <td>658404.0</td>\n",
       "      <td>-6.000994e-17</td>\n",
       "      <td>1.000001</td>\n",
       "      <td>-1.736304</td>\n",
       "      <td>-0.662009</td>\n",
       "      <td>-0.228770</td>\n",
       "      <td>0.368473</td>\n",
       "      <td>7.272592</td>\n",
       "    </tr>\n",
       "    <tr>\n",
       "      <th>dti</th>\n",
       "      <td>658404.0</td>\n",
       "      <td>-1.310494e-16</td>\n",
       "      <td>1.000001</td>\n",
       "      <td>-2.190530</td>\n",
       "      <td>-0.746666</td>\n",
       "      <td>-0.058072</td>\n",
       "      <td>0.697199</td>\n",
       "      <td>43.941606</td>\n",
       "    </tr>\n",
       "    <tr>\n",
       "      <th>delinq_2yrs</th>\n",
       "      <td>658404.0</td>\n",
       "      <td>5.677682e-15</td>\n",
       "      <td>1.000001</td>\n",
       "      <td>-0.365773</td>\n",
       "      <td>-0.365773</td>\n",
       "      <td>-0.365773</td>\n",
       "      <td>-0.365773</td>\n",
       "      <td>44.821761</td>\n",
       "    </tr>\n",
       "    <tr>\n",
       "      <th>inq_last_6mths</th>\n",
       "      <td>658404.0</td>\n",
       "      <td>-6.840983e-16</td>\n",
       "      <td>1.000001</td>\n",
       "      <td>-0.696905</td>\n",
       "      <td>-0.696905</td>\n",
       "      <td>-0.696905</td>\n",
       "      <td>0.304328</td>\n",
       "      <td>32.343777</td>\n",
       "    </tr>\n",
       "    <tr>\n",
       "      <th>open_acc</th>\n",
       "      <td>658404.0</td>\n",
       "      <td>9.238274e-16</td>\n",
       "      <td>1.000001</td>\n",
       "      <td>-1.994955</td>\n",
       "      <td>-0.678105</td>\n",
       "      <td>-0.113740</td>\n",
       "      <td>0.450624</td>\n",
       "      <td>14.747857</td>\n",
       "    </tr>\n",
       "    <tr>\n",
       "      <th>collections_12_mths_ex_med</th>\n",
       "      <td>658404.0</td>\n",
       "      <td>1.039170e-14</td>\n",
       "      <td>1.000001</td>\n",
       "      <td>-0.106433</td>\n",
       "      <td>-0.106433</td>\n",
       "      <td>-0.106433</td>\n",
       "      <td>-0.106433</td>\n",
       "      <td>149.086322</td>\n",
       "    </tr>\n",
       "    <tr>\n",
       "      <th>acc_now_delinq</th>\n",
       "      <td>658404.0</td>\n",
       "      <td>-4.205592e-15</td>\n",
       "      <td>1.000001</td>\n",
       "      <td>-0.064991</td>\n",
       "      <td>-0.064991</td>\n",
       "      <td>-0.064991</td>\n",
       "      <td>-0.064991</td>\n",
       "      <td>79.372754</td>\n",
       "    </tr>\n",
       "    <tr>\n",
       "      <th>term</th>\n",
       "      <td>658404.0</td>\n",
       "      <td>1.282500e-14</td>\n",
       "      <td>1.000001</td>\n",
       "      <td>-0.663171</td>\n",
       "      <td>-0.663171</td>\n",
       "      <td>-0.663171</td>\n",
       "      <td>1.507907</td>\n",
       "      <td>1.507907</td>\n",
       "    </tr>\n",
       "    <tr>\n",
       "      <th>emp_length</th>\n",
       "      <td>658404.0</td>\n",
       "      <td>-1.488929e-15</td>\n",
       "      <td>1.000001</td>\n",
       "      <td>-1.639359</td>\n",
       "      <td>-0.820720</td>\n",
       "      <td>-0.002081</td>\n",
       "      <td>1.089437</td>\n",
       "      <td>1.089437</td>\n",
       "    </tr>\n",
       "  </tbody>\n",
       "</table>\n",
       "</div>"
      ],
      "text/plain": [
       "                               count          mean       std       min  \\\n",
       "loan_amnt                   658404.0 -1.473256e-16  1.000001 -1.707768   \n",
       "int_rate                    658404.0  7.276851e-16  1.000001 -1.810561   \n",
       "grade                       658404.0  1.987189e-15  1.000001 -1.367034   \n",
       "sub_grade                   658404.0  2.567079e-15  1.000001 -1.685288   \n",
       "annual_inc                  658404.0 -6.000994e-17  1.000001 -1.736304   \n",
       "dti                         658404.0 -1.310494e-16  1.000001 -2.190530   \n",
       "delinq_2yrs                 658404.0  5.677682e-15  1.000001 -0.365773   \n",
       "inq_last_6mths              658404.0 -6.840983e-16  1.000001 -0.696905   \n",
       "open_acc                    658404.0  9.238274e-16  1.000001 -1.994955   \n",
       "collections_12_mths_ex_med  658404.0  1.039170e-14  1.000001 -0.106433   \n",
       "acc_now_delinq              658404.0 -4.205592e-15  1.000001 -0.064991   \n",
       "term                        658404.0  1.282500e-14  1.000001 -0.663171   \n",
       "emp_length                  658404.0 -1.488929e-15  1.000001 -1.639359   \n",
       "\n",
       "                                 25%       50%       75%         max  \n",
       "loan_amnt                  -0.778188 -0.199056  0.608758    2.390701  \n",
       "int_rate                   -0.745473 -0.061262  0.670843    3.587862  \n",
       "grade                      -0.606370  0.154295  0.914959    3.196952  \n",
       "sub_grade                  -0.762413 -0.147162  0.621901    3.544341  \n",
       "annual_inc                 -0.662009 -0.228770  0.368473    7.272592  \n",
       "dti                        -0.746666 -0.058072  0.697199   43.941606  \n",
       "delinq_2yrs                -0.365773 -0.365773 -0.365773   44.821761  \n",
       "inq_last_6mths             -0.696905 -0.696905  0.304328   32.343777  \n",
       "open_acc                   -0.678105 -0.113740  0.450624   14.747857  \n",
       "collections_12_mths_ex_med -0.106433 -0.106433 -0.106433  149.086322  \n",
       "acc_now_delinq             -0.064991 -0.064991 -0.064991   79.372754  \n",
       "term                       -0.663171 -0.663171  1.507907    1.507907  \n",
       "emp_length                 -0.820720 -0.002081  1.089437    1.089437  "
      ]
     },
     "execution_count": 130,
     "metadata": {},
     "output_type": "execute_result"
    }
   ],
   "source": [
    "standardized_cols_train.describe().T"
   ]
  },
  {
   "cell_type": "code",
   "execution_count": 132,
   "id": "3bb9b26e",
   "metadata": {},
   "outputs": [],
   "source": [
    "not_to_standardize = ['home_NONE', 'home_OTHER', 'home_OWN', \n",
    "       'home_RENT', 'appl_INDIVIDUAL', 'appl_JOINT',\n",
    "       'purpose_car', 'purpose_credit_card', 'purpose_debt_consolidation',\n",
    "       'purpose_educational', 'purpose_home_improvement', 'purpose_house',\n",
    "       'purpose_major_purchase', 'purpose_medical', 'purpose_moving',\n",
    "       'purpose_other', 'purpose_renewable_energy', 'purpose_small_business',\n",
    "       'purpose_vacation', 'purpose_wedding']\n",
    "\n",
    "X_train = X_train[not_to_standardize]\n",
    "\n",
    "# Combining the standardized columns and the categorical columns that don't need standardization.\n",
    "\n",
    "X_train.reset_index(drop=True, inplace=True)\n",
    "standardized_cols_train.reset_index(drop=True, inplace=True)\n",
    "X_train = pd.concat([standardized_cols_train, X_train], axis=1) "
   ]
  },
  {
   "cell_type": "code",
   "execution_count": 133,
   "id": "474eb760",
   "metadata": {},
   "outputs": [
    {
     "data": {
      "text/html": [
       "<div>\n",
       "<style scoped>\n",
       "    .dataframe tbody tr th:only-of-type {\n",
       "        vertical-align: middle;\n",
       "    }\n",
       "\n",
       "    .dataframe tbody tr th {\n",
       "        vertical-align: top;\n",
       "    }\n",
       "\n",
       "    .dataframe thead th {\n",
       "        text-align: right;\n",
       "    }\n",
       "</style>\n",
       "<table border=\"1\" class=\"dataframe\">\n",
       "  <thead>\n",
       "    <tr style=\"text-align: right;\">\n",
       "      <th></th>\n",
       "      <th>loan_amnt</th>\n",
       "      <th>int_rate</th>\n",
       "      <th>grade</th>\n",
       "      <th>sub_grade</th>\n",
       "      <th>annual_inc</th>\n",
       "      <th>dti</th>\n",
       "      <th>delinq_2yrs</th>\n",
       "      <th>inq_last_6mths</th>\n",
       "      <th>open_acc</th>\n",
       "      <th>collections_12_mths_ex_med</th>\n",
       "      <th>...</th>\n",
       "      <th>purpose_home_improvement</th>\n",
       "      <th>purpose_house</th>\n",
       "      <th>purpose_major_purchase</th>\n",
       "      <th>purpose_medical</th>\n",
       "      <th>purpose_moving</th>\n",
       "      <th>purpose_other</th>\n",
       "      <th>purpose_renewable_energy</th>\n",
       "      <th>purpose_small_business</th>\n",
       "      <th>purpose_vacation</th>\n",
       "      <th>purpose_wedding</th>\n",
       "    </tr>\n",
       "  </thead>\n",
       "  <tbody>\n",
       "    <tr>\n",
       "      <th>0</th>\n",
       "      <td>-0.448528</td>\n",
       "      <td>-0.809332</td>\n",
       "      <td>-0.606370</td>\n",
       "      <td>-0.916225</td>\n",
       "      <td>-1.017129</td>\n",
       "      <td>0.510503</td>\n",
       "      <td>-0.365773</td>\n",
       "      <td>0.304328</td>\n",
       "      <td>-0.678105</td>\n",
       "      <td>-0.106433</td>\n",
       "      <td>...</td>\n",
       "      <td>0</td>\n",
       "      <td>0</td>\n",
       "      <td>0</td>\n",
       "      <td>0</td>\n",
       "      <td>0</td>\n",
       "      <td>0</td>\n",
       "      <td>0</td>\n",
       "      <td>0</td>\n",
       "      <td>0</td>\n",
       "      <td>0</td>\n",
       "    </tr>\n",
       "    <tr>\n",
       "      <th>1</th>\n",
       "      <td>-1.113787</td>\n",
       "      <td>0.315054</td>\n",
       "      <td>0.154295</td>\n",
       "      <td>0.160463</td>\n",
       "      <td>-0.730453</td>\n",
       "      <td>-1.390404</td>\n",
       "      <td>0.792882</td>\n",
       "      <td>0.304328</td>\n",
       "      <td>-0.866226</td>\n",
       "      <td>-0.106433</td>\n",
       "      <td>...</td>\n",
       "      <td>0</td>\n",
       "      <td>0</td>\n",
       "      <td>0</td>\n",
       "      <td>0</td>\n",
       "      <td>0</td>\n",
       "      <td>1</td>\n",
       "      <td>0</td>\n",
       "      <td>0</td>\n",
       "      <td>0</td>\n",
       "      <td>0</td>\n",
       "    </tr>\n",
       "    <tr>\n",
       "      <th>2</th>\n",
       "      <td>1.796720</td>\n",
       "      <td>-0.289332</td>\n",
       "      <td>-0.606370</td>\n",
       "      <td>-0.300975</td>\n",
       "      <td>1.682406</td>\n",
       "      <td>-0.494505</td>\n",
       "      <td>-0.365773</td>\n",
       "      <td>-0.696905</td>\n",
       "      <td>-1.054348</td>\n",
       "      <td>-0.106433</td>\n",
       "      <td>...</td>\n",
       "      <td>0</td>\n",
       "      <td>0</td>\n",
       "      <td>0</td>\n",
       "      <td>0</td>\n",
       "      <td>0</td>\n",
       "      <td>0</td>\n",
       "      <td>0</td>\n",
       "      <td>0</td>\n",
       "      <td>0</td>\n",
       "      <td>0</td>\n",
       "    </tr>\n",
       "  </tbody>\n",
       "</table>\n",
       "<p>3 rows × 33 columns</p>\n",
       "</div>"
      ],
      "text/plain": [
       "   loan_amnt  int_rate     grade  sub_grade  annual_inc       dti  \\\n",
       "0  -0.448528 -0.809332 -0.606370  -0.916225   -1.017129  0.510503   \n",
       "1  -1.113787  0.315054  0.154295   0.160463   -0.730453 -1.390404   \n",
       "2   1.796720 -0.289332 -0.606370  -0.300975    1.682406 -0.494505   \n",
       "\n",
       "   delinq_2yrs  inq_last_6mths  open_acc  collections_12_mths_ex_med  ...  \\\n",
       "0    -0.365773        0.304328 -0.678105                   -0.106433  ...   \n",
       "1     0.792882        0.304328 -0.866226                   -0.106433  ...   \n",
       "2    -0.365773       -0.696905 -1.054348                   -0.106433  ...   \n",
       "\n",
       "   purpose_home_improvement  purpose_house  purpose_major_purchase  \\\n",
       "0                         0              0                       0   \n",
       "1                         0              0                       0   \n",
       "2                         0              0                       0   \n",
       "\n",
       "   purpose_medical  purpose_moving  purpose_other  purpose_renewable_energy  \\\n",
       "0                0               0              0                         0   \n",
       "1                0               0              1                         0   \n",
       "2                0               0              0                         0   \n",
       "\n",
       "   purpose_small_business  purpose_vacation  purpose_wedding  \n",
       "0                       0                 0                0  \n",
       "1                       0                 0                0  \n",
       "2                       0                 0                0  \n",
       "\n",
       "[3 rows x 33 columns]"
      ]
     },
     "execution_count": 133,
     "metadata": {},
     "output_type": "execute_result"
    }
   ],
   "source": [
    "X_train.head(3)"
   ]
  },
  {
   "cell_type": "code",
   "execution_count": 134,
   "id": "0e359221",
   "metadata": {},
   "outputs": [
    {
     "data": {
      "text/html": [
       "<div>\n",
       "<style scoped>\n",
       "    .dataframe tbody tr th:only-of-type {\n",
       "        vertical-align: middle;\n",
       "    }\n",
       "\n",
       "    .dataframe tbody tr th {\n",
       "        vertical-align: top;\n",
       "    }\n",
       "\n",
       "    .dataframe thead th {\n",
       "        text-align: right;\n",
       "    }\n",
       "</style>\n",
       "<table border=\"1\" class=\"dataframe\">\n",
       "  <thead>\n",
       "    <tr style=\"text-align: right;\">\n",
       "      <th></th>\n",
       "      <th>loan_amnt</th>\n",
       "      <th>int_rate</th>\n",
       "      <th>grade</th>\n",
       "      <th>sub_grade</th>\n",
       "      <th>annual_inc</th>\n",
       "      <th>dti</th>\n",
       "      <th>delinq_2yrs</th>\n",
       "      <th>inq_last_6mths</th>\n",
       "      <th>open_acc</th>\n",
       "      <th>collections_12_mths_ex_med</th>\n",
       "      <th>...</th>\n",
       "      <th>purpose_home_improvement</th>\n",
       "      <th>purpose_house</th>\n",
       "      <th>purpose_major_purchase</th>\n",
       "      <th>purpose_medical</th>\n",
       "      <th>purpose_moving</th>\n",
       "      <th>purpose_other</th>\n",
       "      <th>purpose_renewable_energy</th>\n",
       "      <th>purpose_small_business</th>\n",
       "      <th>purpose_vacation</th>\n",
       "      <th>purpose_wedding</th>\n",
       "    </tr>\n",
       "  </thead>\n",
       "  <tbody>\n",
       "    <tr>\n",
       "      <th>0</th>\n",
       "      <td>0.608758</td>\n",
       "      <td>-0.129683</td>\n",
       "      <td>-0.606370</td>\n",
       "      <td>-0.300975</td>\n",
       "      <td>-0.348218</td>\n",
       "      <td>-0.061709</td>\n",
       "      <td>-0.365773</td>\n",
       "      <td>0.304328</td>\n",
       "      <td>-0.866226</td>\n",
       "      <td>-0.106433</td>\n",
       "      <td>...</td>\n",
       "      <td>0</td>\n",
       "      <td>0</td>\n",
       "      <td>0</td>\n",
       "      <td>0</td>\n",
       "      <td>0</td>\n",
       "      <td>0</td>\n",
       "      <td>0</td>\n",
       "      <td>0</td>\n",
       "      <td>0</td>\n",
       "      <td>0</td>\n",
       "    </tr>\n",
       "    <tr>\n",
       "      <th>1</th>\n",
       "      <td>0.014777</td>\n",
       "      <td>1.049440</td>\n",
       "      <td>0.914959</td>\n",
       "      <td>1.237152</td>\n",
       "      <td>-0.652381</td>\n",
       "      <td>1.317903</td>\n",
       "      <td>-0.365773</td>\n",
       "      <td>-0.696905</td>\n",
       "      <td>0.074381</td>\n",
       "      <td>-0.106433</td>\n",
       "      <td>...</td>\n",
       "      <td>0</td>\n",
       "      <td>0</td>\n",
       "      <td>0</td>\n",
       "      <td>0</td>\n",
       "      <td>0</td>\n",
       "      <td>0</td>\n",
       "      <td>0</td>\n",
       "      <td>0</td>\n",
       "      <td>0</td>\n",
       "      <td>0</td>\n",
       "    </tr>\n",
       "    <tr>\n",
       "      <th>2</th>\n",
       "      <td>-0.104019</td>\n",
       "      <td>0.394878</td>\n",
       "      <td>0.154295</td>\n",
       "      <td>0.468088</td>\n",
       "      <td>-0.945460</td>\n",
       "      <td>-0.357513</td>\n",
       "      <td>-0.365773</td>\n",
       "      <td>-0.696905</td>\n",
       "      <td>-0.866226</td>\n",
       "      <td>-0.106433</td>\n",
       "      <td>...</td>\n",
       "      <td>0</td>\n",
       "      <td>0</td>\n",
       "      <td>0</td>\n",
       "      <td>0</td>\n",
       "      <td>0</td>\n",
       "      <td>0</td>\n",
       "      <td>0</td>\n",
       "      <td>0</td>\n",
       "      <td>0</td>\n",
       "      <td>0</td>\n",
       "    </tr>\n",
       "  </tbody>\n",
       "</table>\n",
       "<p>3 rows × 33 columns</p>\n",
       "</div>"
      ],
      "text/plain": [
       "   loan_amnt  int_rate     grade  sub_grade  annual_inc       dti  \\\n",
       "0   0.608758 -0.129683 -0.606370  -0.300975   -0.348218 -0.061709   \n",
       "1   0.014777  1.049440  0.914959   1.237152   -0.652381  1.317903   \n",
       "2  -0.104019  0.394878  0.154295   0.468088   -0.945460 -0.357513   \n",
       "\n",
       "   delinq_2yrs  inq_last_6mths  open_acc  collections_12_mths_ex_med  ...  \\\n",
       "0    -0.365773        0.304328 -0.866226                   -0.106433  ...   \n",
       "1    -0.365773       -0.696905  0.074381                   -0.106433  ...   \n",
       "2    -0.365773       -0.696905 -0.866226                   -0.106433  ...   \n",
       "\n",
       "   purpose_home_improvement  purpose_house  purpose_major_purchase  \\\n",
       "0                         0              0                       0   \n",
       "1                         0              0                       0   \n",
       "2                         0              0                       0   \n",
       "\n",
       "   purpose_medical  purpose_moving  purpose_other  purpose_renewable_energy  \\\n",
       "0                0               0              0                         0   \n",
       "1                0               0              0                         0   \n",
       "2                0               0              0                         0   \n",
       "\n",
       "   purpose_small_business  purpose_vacation  purpose_wedding  \n",
       "0                       0                 0                0  \n",
       "1                       0                 0                0  \n",
       "2                       0                 0                0  \n",
       "\n",
       "[3 rows x 33 columns]"
      ]
     },
     "execution_count": 134,
     "metadata": {},
     "output_type": "execute_result"
    }
   ],
   "source": [
    "# Standardizing the test data\n",
    "\n",
    "standardized_cols_test = scaler.transform(X_test[to_standardize])\n",
    "standardized_cols_test = pd.DataFrame(standardized_cols_test)\n",
    "standardized_cols_test.columns = to_standardize\n",
    "X_test = X_test[not_to_standardize]\n",
    "\n",
    "# Combining the standardized columns and the categorical columns that don't need standardization.\n",
    "\n",
    "X_test.reset_index(drop=True, inplace=True)\n",
    "standardized_cols_test.reset_index(drop=True, inplace=True)\n",
    "X_test = pd.concat([standardized_cols_test, X_test], axis=1)\n",
    "X_test.head(3)\n"
   ]
  },
  {
   "cell_type": "code",
   "execution_count": 135,
   "id": "28b2f6d9",
   "metadata": {},
   "outputs": [],
   "source": [
    "X_train.to_csv('X_train.csv', index=False)\n",
    "X_test.to_csv('X_test.csv', index=False)\n",
    "y_train.to_csv('y_train.csv', index=False)\n",
    "y_test.to_csv('y_test.csv', index=False)"
   ]
  },
  {
   "cell_type": "code",
   "execution_count": 136,
   "id": "c25700f6",
   "metadata": {},
   "outputs": [],
   "source": [
    "df.to_csv('df_before_split.csv', index=False)"
   ]
  },
  {
   "cell_type": "code",
   "execution_count": null,
   "id": "3a6fec24",
   "metadata": {},
   "outputs": [],
   "source": []
  }
 ],
 "metadata": {
  "kernelspec": {
   "display_name": "Python 3 (ipykernel)",
   "language": "python",
   "name": "python3"
  },
  "language_info": {
   "codemirror_mode": {
    "name": "ipython",
    "version": 3
   },
   "file_extension": ".py",
   "mimetype": "text/x-python",
   "name": "python",
   "nbconvert_exporter": "python",
   "pygments_lexer": "ipython3",
   "version": "3.9.7"
  }
 },
 "nbformat": 4,
 "nbformat_minor": 5
}
