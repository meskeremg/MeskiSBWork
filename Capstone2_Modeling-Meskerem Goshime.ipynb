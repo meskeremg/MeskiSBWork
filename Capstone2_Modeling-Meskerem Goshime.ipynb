{
 "cells": [
  {
   "cell_type": "code",
   "execution_count": 11,
   "id": "c804c271",
   "metadata": {},
   "outputs": [],
   "source": [
    "#import packages\n",
    "import pandas as pd\n",
    "import numpy as np\n",
    "import matplotlib.pyplot as plt\n",
    "import seaborn as sns\n",
    "from sklearn.neighbors import KNeighborsClassifier\n",
    "from sklearn.metrics import classification_report, confusion_matrix, accuracy_score\n",
    "from sklearn.model_selection import GridSearchCV\n",
    "from sklearn.ensemble import RandomForestClassifier"
   ]
  },
  {
   "cell_type": "code",
   "execution_count": 12,
   "id": "740f2d26",
   "metadata": {},
   "outputs": [],
   "source": [
    "X_train = pd.read_csv('X_train.csv')\n",
    "y_train = pd.read_csv('y_train.csv')\n",
    "X_test = pd.read_csv('X_test.csv')\n",
    "y_test = pd.read_csv('y_test.csv')"
   ]
  },
  {
   "cell_type": "code",
   "execution_count": 13,
   "id": "5b627226",
   "metadata": {},
   "outputs": [
    {
     "name": "stdout",
     "output_type": "stream",
     "text": [
      "(658404, 43) (658404, 1) (164601, 43) (164601, 1)\n"
     ]
    }
   ],
   "source": [
    "print(X_train.shape, y_train.shape, X_test.shape, y_test.shape)"
   ]
  },
  {
   "cell_type": "code",
   "execution_count": 53,
   "id": "8cf6e668",
   "metadata": {},
   "outputs": [
    {
     "name": "stderr",
     "output_type": "stream",
     "text": [
      "C:\\Users\\meske\\anaconda3\\lib\\site-packages\\sklearn\\neighbors\\_classification.py:179: DataConversionWarning: A column-vector y was passed when a 1d array was expected. Please change the shape of y to (n_samples,), for example using ravel().\n",
      "  return self._fit(X, y)\n"
     ]
    },
    {
     "data": {
      "text/plain": [
       "KNeighborsClassifier(n_neighbors=10)"
      ]
     },
     "execution_count": 53,
     "metadata": {},
     "output_type": "execute_result"
    }
   ],
   "source": [
    "# param_grid={'n_neighbors':np.arange(40, 50)}\n",
    "knn = KNeighborsClassifier(10)\n",
    "#knn_cv = GridSearchCV(knn, param_grid, cv=5)\n",
    "#knn_cv.fit(X_train, y_train)\n",
    "knn.fit(X_train, y_train)\n"
   ]
  },
  {
   "cell_type": "code",
   "execution_count": 54,
   "id": "a477f43b",
   "metadata": {},
   "outputs": [],
   "source": [
    "y_pred = knn.predict(X_test)"
   ]
  },
  {
   "cell_type": "code",
   "execution_count": null,
   "id": "297d9cbf",
   "metadata": {},
   "outputs": [],
   "source": [
    "#knn.best_score_\n",
    "#knn.best_params_"
   ]
  },
  {
   "cell_type": "code",
   "execution_count": 55,
   "id": "4786c83f",
   "metadata": {},
   "outputs": [
    {
     "data": {
      "text/plain": [
       "'              precision    recall  f1-score   support\\n\\n         bad       0.20      0.01      0.01     11670\\n        good       0.93      1.00      0.96    152931\\n\\n    accuracy                           0.93    164601\\n   macro avg       0.56      0.50      0.49    164601\\nweighted avg       0.88      0.93      0.90    164601\\n'"
      ]
     },
     "execution_count": 55,
     "metadata": {},
     "output_type": "execute_result"
    }
   ],
   "source": [
    "cl_report_knn = classification_report(y_test, y_pred)\n",
    "cl_report_knn"
   ]
  },
  {
   "cell_type": "code",
   "execution_count": 56,
   "id": "e3ade9b6",
   "metadata": {},
   "outputs": [
    {
     "name": "stdout",
     "output_type": "stream",
     "text": [
      "              precision    recall  f1-score   support\n",
      "\n",
      "         bad       0.20      0.01      0.01     11670\n",
      "        good       0.93      1.00      0.96    152931\n",
      "\n",
      "    accuracy                           0.93    164601\n",
      "   macro avg       0.56      0.50      0.49    164601\n",
      "weighted avg       0.88      0.93      0.90    164601\n",
      "\n"
     ]
    }
   ],
   "source": [
    "print(cl_report_knn)"
   ]
  },
  {
   "cell_type": "code",
   "execution_count": 57,
   "id": "4bc2b95a",
   "metadata": {},
   "outputs": [
    {
     "data": {
      "text/plain": [
       "array([[    79,  11591],\n",
       "       [   326, 152605]], dtype=int64)"
      ]
     },
     "execution_count": 57,
     "metadata": {},
     "output_type": "execute_result"
    }
   ],
   "source": [
    "cm_knn = confusion_matrix(y_test, y_pred)\n",
    "cm_knn"
   ]
  },
  {
   "cell_type": "code",
   "execution_count": 4,
   "id": "b00b5cac",
   "metadata": {},
   "outputs": [
    {
     "name": "stderr",
     "output_type": "stream",
     "text": [
      "C:\\Users\\meske\\AppData\\Local\\Temp/ipykernel_1740/1420609402.py:2: DataConversionWarning: A column-vector y was passed when a 1d array was expected. Please change the shape of y to (n_samples,), for example using ravel().\n",
      "  rf.fit(X_train, y_train)\n"
     ]
    },
    {
     "data": {
      "text/plain": [
       "RandomForestClassifier(n_jobs=-1, random_state=1)"
      ]
     },
     "execution_count": 4,
     "metadata": {},
     "output_type": "execute_result"
    }
   ],
   "source": [
    "rf = RandomForestClassifier(n_estimators=100, random_state=1, n_jobs=-1)\n",
    "rf.fit(X_train, y_train)"
   ]
  },
  {
   "cell_type": "code",
   "execution_count": 5,
   "id": "9c06f208",
   "metadata": {},
   "outputs": [],
   "source": [
    "y_pred = rf.predict(X_test)"
   ]
  },
  {
   "cell_type": "code",
   "execution_count": 6,
   "id": "92b353b9",
   "metadata": {},
   "outputs": [
    {
     "name": "stdout",
     "output_type": "stream",
     "text": [
      "              precision    recall  f1-score   support\n",
      "\n",
      "         bad       0.25      0.00      0.00     11670\n",
      "        good       0.93      1.00      0.96    152931\n",
      "\n",
      "    accuracy                           0.93    164601\n",
      "   macro avg       0.59      0.50      0.48    164601\n",
      "weighted avg       0.88      0.93      0.90    164601\n",
      "\n",
      "[[     9  11661]\n",
      " [    27 152904]]\n"
     ]
    }
   ],
   "source": [
    "cl_report_rf = classification_report(y_test, y_pred)\n",
    "print(cl_report_rf)\n",
    "cm_rf = confusion_matrix(y_test, y_pred)\n",
    "print(cm_rf)"
   ]
  },
  {
   "cell_type": "code",
   "execution_count": 66,
   "id": "60bcf0be",
   "metadata": {},
   "outputs": [
    {
     "name": "stderr",
     "output_type": "stream",
     "text": [
      "C:\\Users\\meske\\AppData\\Local\\Temp/ipykernel_6304/2830024118.py:4: DataConversionWarning: A column-vector y was passed when a 1d array was expected. Please change the shape of y to (n_samples,), for example using ravel().\n",
      "  rf.fit(X_train, y_train)\n"
     ]
    },
    {
     "name": "stdout",
     "output_type": "stream",
     "text": [
      "n_estimators =  50\n",
      "[[    17  11653]\n",
      " [    43 152888]]\n"
     ]
    },
    {
     "name": "stderr",
     "output_type": "stream",
     "text": [
      "C:\\Users\\meske\\AppData\\Local\\Temp/ipykernel_6304/2830024118.py:4: DataConversionWarning: A column-vector y was passed when a 1d array was expected. Please change the shape of y to (n_samples,), for example using ravel().\n",
      "  rf.fit(X_train, y_train)\n"
     ]
    },
    {
     "name": "stdout",
     "output_type": "stream",
     "text": [
      "n_estimators =  100\n",
      "[[     9  11661]\n",
      " [    27 152904]]\n"
     ]
    },
    {
     "name": "stderr",
     "output_type": "stream",
     "text": [
      "C:\\Users\\meske\\AppData\\Local\\Temp/ipykernel_6304/2830024118.py:4: DataConversionWarning: A column-vector y was passed when a 1d array was expected. Please change the shape of y to (n_samples,), for example using ravel().\n",
      "  rf.fit(X_train, y_train)\n"
     ]
    },
    {
     "name": "stdout",
     "output_type": "stream",
     "text": [
      "n_estimators =  200\n",
      "[[     8  11662]\n",
      " [    20 152911]]\n"
     ]
    },
    {
     "name": "stderr",
     "output_type": "stream",
     "text": [
      "C:\\Users\\meske\\AppData\\Local\\Temp/ipykernel_6304/2830024118.py:4: DataConversionWarning: A column-vector y was passed when a 1d array was expected. Please change the shape of y to (n_samples,), for example using ravel().\n",
      "  rf.fit(X_train, y_train)\n"
     ]
    },
    {
     "name": "stdout",
     "output_type": "stream",
     "text": [
      "n_estimators =  300\n",
      "[[    10  11660]\n",
      " [    17 152914]]\n"
     ]
    }
   ],
   "source": [
    "n = [50, 100, 200, 300]\n",
    "for i in n:\n",
    "    rf = RandomForestClassifier(n_estimators=i, random_state=1, n_jobs=-1)\n",
    "    rf.fit(X_train, y_train)\n",
    "    y_pred = rf.predict(X_test)\n",
    "    \n",
    "    cm_rf = confusion_matrix(y_test, y_pred)\n",
    "    print('n_estimators = ', i)\n",
    "    print(cm_rf)"
   ]
  },
  {
   "cell_type": "code",
   "execution_count": null,
   "id": "186a025e",
   "metadata": {},
   "outputs": [
    {
     "name": "stderr",
     "output_type": "stream",
     "text": [
      "C:\\Users\\meske\\AppData\\Local\\Temp/ipykernel_6304/2802223475.py:6: DataConversionWarning: A column-vector y was passed when a 1d array was expected. Please change the shape of y to (n_samples,), for example using ravel().\n",
      "  rf.fit(X_train, y_train)\n"
     ]
    },
    {
     "name": "stdout",
     "output_type": "stream",
     "text": [
      "n_estimators =  1000\n",
      "[[     9  11661]\n",
      " [    12 152919]]\n"
     ]
    },
    {
     "name": "stderr",
     "output_type": "stream",
     "text": [
      "C:\\Users\\meske\\AppData\\Local\\Temp/ipykernel_6304/2802223475.py:6: DataConversionWarning: A column-vector y was passed when a 1d array was expected. Please change the shape of y to (n_samples,), for example using ravel().\n",
      "  rf.fit(X_train, y_train)\n"
     ]
    }
   ],
   "source": [
    "# The False Negative rate is extermely high. \n",
    "\n",
    "n = [1000, 2000, 3000]\n",
    "for i in n:\n",
    "    rf = RandomForestClassifier(n_estimators=i, random_state=1, n_jobs=-1)\n",
    "    rf.fit(X_train, y_train)\n",
    "    y_pred = rf.predict(X_test)\n",
    "    \n",
    "    cm_rf = confusion_matrix(y_test, y_pred)\n",
    "    print('n_estimators = ', i)\n",
    "    print(cm_rf)"
   ]
  },
  {
   "cell_type": "code",
   "execution_count": 7,
   "id": "02064e02",
   "metadata": {},
   "outputs": [
    {
     "name": "stdout",
     "output_type": "stream",
     "text": [
      "Feature: 0, Score: 0.11105\n",
      "Feature: 1, Score: 0.11108\n",
      "Feature: 2, Score: 0.15987\n",
      "Feature: 3, Score: 0.14187\n",
      "Feature: 4, Score: 0.17100\n",
      "Feature: 5, Score: 0.02734\n",
      "Feature: 6, Score: 0.03191\n",
      "Feature: 7, Score: 0.10716\n",
      "Feature: 8, Score: 0.00279\n",
      "Feature: 9, Score: 0.00138\n",
      "Feature: 10, Score: 0.00304\n",
      "Feature: 11, Score: 0.00315\n",
      "Feature: 12, Score: 0.00807\n",
      "Feature: 13, Score: 0.00729\n",
      "Feature: 14, Score: 0.00846\n",
      "Feature: 15, Score: 0.00779\n",
      "Feature: 16, Score: 0.00705\n",
      "Feature: 17, Score: 0.00742\n",
      "Feature: 18, Score: 0.00592\n",
      "Feature: 19, Score: 0.00645\n",
      "Feature: 20, Score: 0.00604\n",
      "Feature: 21, Score: 0.00550\n",
      "Feature: 22, Score: 0.00973\n",
      "Feature: 23, Score: 0.00005\n",
      "Feature: 24, Score: 0.00018\n",
      "Feature: 25, Score: 0.00371\n",
      "Feature: 26, Score: 0.00374\n",
      "Feature: 27, Score: 0.00003\n",
      "Feature: 28, Score: 0.00003\n",
      "Feature: 29, Score: 0.00174\n",
      "Feature: 30, Score: 0.00635\n",
      "Feature: 31, Score: 0.00933\n",
      "Feature: 32, Score: 0.00041\n",
      "Feature: 33, Score: 0.00454\n",
      "Feature: 34, Score: 0.00152\n",
      "Feature: 35, Score: 0.00304\n",
      "Feature: 36, Score: 0.00216\n",
      "Feature: 37, Score: 0.00157\n",
      "Feature: 38, Score: 0.00458\n",
      "Feature: 39, Score: 0.00039\n",
      "Feature: 40, Score: 0.00284\n",
      "Feature: 41, Score: 0.00125\n",
      "Feature: 42, Score: 0.00115\n"
     ]
    },
    {
     "data": {
      "image/png": "[encoded data removed]",
      "text/plain": [
       "<Figure size 432x288 with 1 Axes>"
      ]
     },
     "metadata": {
      "needs_background": "light"
     },
     "output_type": "display_data"
    }
   ],
   "source": [
    "# get importance\n",
    "importance = rf.feature_importances_\n",
    "# summarize feature importance\n",
    "for i,v in enumerate(importance):\n",
    "\tprint('Feature: %0d, Score: %.5f' % (i,v))\n",
    "# plot feature importance\n",
    "plt.bar([x for x in range(len(importance))], importance)\n",
    "plt.show()"
   ]
  },
  {
   "cell_type": "code",
   "execution_count": 4,
   "id": "a5b70488",
   "metadata": {},
   "outputs": [
    {
     "data": {
      "text/html": [
       "<div>\n",
       "<style scoped>\n",
       "    .dataframe tbody tr th:only-of-type {\n",
       "        vertical-align: middle;\n",
       "    }\n",
       "\n",
       "    .dataframe tbody tr th {\n",
       "        vertical-align: top;\n",
       "    }\n",
       "\n",
       "    .dataframe thead th {\n",
       "        text-align: right;\n",
       "    }\n",
       "</style>\n",
       "<table border=\"1\" class=\"dataframe\">\n",
       "  <thead>\n",
       "    <tr style=\"text-align: right;\">\n",
       "      <th></th>\n",
       "      <th>loan_amnt</th>\n",
       "      <th>funded_amnt</th>\n",
       "      <th>int_rate</th>\n",
       "      <th>annual_inc</th>\n",
       "      <th>dti</th>\n",
       "      <th>open_acc</th>\n",
       "    </tr>\n",
       "  </thead>\n",
       "  <tbody>\n",
       "    <tr>\n",
       "      <th>0</th>\n",
       "      <td>0.608758</td>\n",
       "      <td>0.610845</td>\n",
       "      <td>-0.129683</td>\n",
       "      <td>-0.348218</td>\n",
       "      <td>-0.061709</td>\n",
       "      <td>-0.866226</td>\n",
       "    </tr>\n",
       "    <tr>\n",
       "      <th>1</th>\n",
       "      <td>0.014777</td>\n",
       "      <td>0.016456</td>\n",
       "      <td>1.049440</td>\n",
       "      <td>-0.652381</td>\n",
       "      <td>1.317903</td>\n",
       "      <td>0.074381</td>\n",
       "    </tr>\n",
       "    <tr>\n",
       "      <th>2</th>\n",
       "      <td>-0.104019</td>\n",
       "      <td>-0.102421</td>\n",
       "      <td>0.394878</td>\n",
       "      <td>-0.945460</td>\n",
       "      <td>-0.357513</td>\n",
       "      <td>-0.866226</td>\n",
       "    </tr>\n",
       "    <tr>\n",
       "      <th>3</th>\n",
       "      <td>-1.054389</td>\n",
       "      <td>-1.053442</td>\n",
       "      <td>-0.259683</td>\n",
       "      <td>-0.037652</td>\n",
       "      <td>-0.989128</td>\n",
       "      <td>0.826867</td>\n",
       "    </tr>\n",
       "    <tr>\n",
       "      <th>4</th>\n",
       "      <td>1.202739</td>\n",
       "      <td>1.205233</td>\n",
       "      <td>1.054001</td>\n",
       "      <td>0.308748</td>\n",
       "      <td>0.567481</td>\n",
       "      <td>0.638746</td>\n",
       "    </tr>\n",
       "  </tbody>\n",
       "</table>\n",
       "</div>"
      ],
      "text/plain": [
       "   loan_amnt  funded_amnt  int_rate  annual_inc       dti  open_acc\n",
       "0   0.608758     0.610845 -0.129683   -0.348218 -0.061709 -0.866226\n",
       "1   0.014777     0.016456  1.049440   -0.652381  1.317903  0.074381\n",
       "2  -0.104019    -0.102421  0.394878   -0.945460 -0.357513 -0.866226\n",
       "3  -1.054389    -1.053442 -0.259683   -0.037652 -0.989128  0.826867\n",
       "4   1.202739     1.205233  1.054001    0.308748  0.567481  0.638746"
      ]
     },
     "execution_count": 4,
     "metadata": {},
     "output_type": "execute_result"
    }
   ],
   "source": [
    "X_train.columns\n",
    "X_train = X_train[['loan_amnt', 'funded_amnt', 'int_rate', 'annual_inc', 'dti', 'open_acc']]\n",
    "X_train.head()\n",
    "X_test = X_test[['loan_amnt', 'funded_amnt', 'int_rate', 'annual_inc', 'dti', 'open_acc']]\n",
    "X_test.head()"
   ]
  },
  {
   "cell_type": "code",
   "execution_count": 8,
   "id": "1959fb12",
   "metadata": {},
   "outputs": [
    {
     "name": "stderr",
     "output_type": "stream",
     "text": [
      "C:\\Users\\meske\\AppData\\Local\\Temp/ipykernel_1900/388880135.py:4: DataConversionWarning: A column-vector y was passed when a 1d array was expected. Please change the shape of y to (n_samples,), for example using ravel().\n",
      "  rf.fit(X_train, y_train)\n"
     ]
    },
    {
     "name": "stdout",
     "output_type": "stream",
     "text": [
      "n_estimators =  1000\n",
      "[[    21  11649]\n",
      " [   122 152809]]\n"
     ]
    }
   ],
   "source": [
    "n = [1000]\n",
    "for i in n:\n",
    "    rf = RandomForestClassifier(n_estimators=i, random_state=1, n_jobs=-1)\n",
    "    rf.fit(X_train, y_train)\n",
    "    y_pred = rf.predict(X_test)\n",
    "    \n",
    "    cm_rf = confusion_matrix(y_test, y_pred)\n",
    "    print('n_estimators = ', i)\n",
    "    print(cm_rf)"
   ]
  },
  {
   "cell_type": "code",
   "execution_count": 6,
   "id": "46d61898",
   "metadata": {},
   "outputs": [
    {
     "data": {
      "text/plain": [
       "loan_status\n",
       "good           613204\n",
       "bad             45200\n",
       "dtype: int64"
      ]
     },
     "execution_count": 6,
     "metadata": {},
     "output_type": "execute_result"
    }
   ],
   "source": [
    "y_train.value_counts()"
   ]
  },
  {
   "cell_type": "code",
   "execution_count": 17,
   "id": "4af886c7",
   "metadata": {},
   "outputs": [
    {
     "data": {
      "text/html": [
       "<div>\n",
       "<style scoped>\n",
       "    .dataframe tbody tr th:only-of-type {\n",
       "        vertical-align: middle;\n",
       "    }\n",
       "\n",
       "    .dataframe tbody tr th {\n",
       "        vertical-align: top;\n",
       "    }\n",
       "\n",
       "    .dataframe thead th {\n",
       "        text-align: right;\n",
       "    }\n",
       "</style>\n",
       "<table border=\"1\" class=\"dataframe\">\n",
       "  <thead>\n",
       "    <tr style=\"text-align: right;\">\n",
       "      <th></th>\n",
       "      <th>loan_amnt</th>\n",
       "      <th>int_rate</th>\n",
       "      <th>annual_inc</th>\n",
       "      <th>dti</th>\n",
       "      <th>open_acc</th>\n",
       "    </tr>\n",
       "  </thead>\n",
       "  <tbody>\n",
       "    <tr>\n",
       "      <th>0</th>\n",
       "      <td>0.608758</td>\n",
       "      <td>-0.129683</td>\n",
       "      <td>-0.348218</td>\n",
       "      <td>-0.061709</td>\n",
       "      <td>-0.866226</td>\n",
       "    </tr>\n",
       "    <tr>\n",
       "      <th>1</th>\n",
       "      <td>0.014777</td>\n",
       "      <td>1.049440</td>\n",
       "      <td>-0.652381</td>\n",
       "      <td>1.317903</td>\n",
       "      <td>0.074381</td>\n",
       "    </tr>\n",
       "    <tr>\n",
       "      <th>2</th>\n",
       "      <td>-0.104019</td>\n",
       "      <td>0.394878</td>\n",
       "      <td>-0.945460</td>\n",
       "      <td>-0.357513</td>\n",
       "      <td>-0.866226</td>\n",
       "    </tr>\n",
       "    <tr>\n",
       "      <th>3</th>\n",
       "      <td>-1.054389</td>\n",
       "      <td>-0.259683</td>\n",
       "      <td>-0.037652</td>\n",
       "      <td>-0.989128</td>\n",
       "      <td>0.826867</td>\n",
       "    </tr>\n",
       "    <tr>\n",
       "      <th>4</th>\n",
       "      <td>1.202739</td>\n",
       "      <td>1.054001</td>\n",
       "      <td>0.308748</td>\n",
       "      <td>0.567481</td>\n",
       "      <td>0.638746</td>\n",
       "    </tr>\n",
       "  </tbody>\n",
       "</table>\n",
       "</div>"
      ],
      "text/plain": [
       "   loan_amnt  int_rate  annual_inc       dti  open_acc\n",
       "0   0.608758 -0.129683   -0.348218 -0.061709 -0.866226\n",
       "1   0.014777  1.049440   -0.652381  1.317903  0.074381\n",
       "2  -0.104019  0.394878   -0.945460 -0.357513 -0.866226\n",
       "3  -1.054389 -0.259683   -0.037652 -0.989128  0.826867\n",
       "4   1.202739  1.054001    0.308748  0.567481  0.638746"
      ]
     },
     "execution_count": 17,
     "metadata": {},
     "output_type": "execute_result"
    }
   ],
   "source": [
    "# Removed funded amount column since it is duplicated information. I Added the one-hot-encoded employment length columns.\n",
    "\n",
    "X_train.columns\n",
    "X_train = X_train[['loan_amnt', 'int_rate', 'annual_inc', 'dti', 'open_acc']]\n",
    "X_train.head()\n",
    "X_test = X_test[['loan_amnt', 'int_rate', 'annual_inc', 'dti', 'open_acc']]\n",
    "X_test.head()\n"
   ]
  },
  {
   "cell_type": "code",
   "execution_count": 18,
   "id": "0bb59ab5",
   "metadata": {},
   "outputs": [
    {
     "name": "stderr",
     "output_type": "stream",
     "text": [
      "C:\\Users\\meske\\AppData\\Local\\Temp/ipykernel_1900/3629789083.py:4: DataConversionWarning: A column-vector y was passed when a 1d array was expected. Please change the shape of y to (n_samples,), for example using ravel().\n",
      "  rf.fit(X_train, y_train)\n"
     ]
    },
    {
     "name": "stdout",
     "output_type": "stream",
     "text": [
      "n_estimators =  500\n",
      "[[    25  11645]\n",
      " [   122 152809]]\n"
     ]
    }
   ],
   "source": [
    "n = [500]\n",
    "for i in n:\n",
    "    rf = RandomForestClassifier(n_estimators=i, random_state=1, n_jobs=-1)\n",
    "    rf.fit(X_train, y_train)\n",
    "    y_pred = rf.predict(X_test)\n",
    "    \n",
    "    cm_rf = confusion_matrix(y_test, y_pred)\n",
    "    print('n_estimators = ', i)\n",
    "    print(cm_rf)"
   ]
  },
  {
   "cell_type": "code",
   "execution_count": null,
   "id": "10804236",
   "metadata": {},
   "outputs": [],
   "source": []
  },
  {
   "cell_type": "code",
   "execution_count": 20,
   "id": "7b6e1c77",
   "metadata": {},
   "outputs": [
    {
     "name": "stdout",
     "output_type": "stream",
     "text": [
      "loan_status\n",
      "good           152931\n",
      "bad             11670\n",
      "dtype: int64\n"
     ]
    },
    {
     "data": {
      "text/plain": [
       "0.0763089236322263"
      ]
     },
     "execution_count": 20,
     "metadata": {},
     "output_type": "execute_result"
    }
   ],
   "source": [
    "print(y_test.value_counts())\n",
    "\n",
    "# The model gets almost all of the bad outcomes wrong. 11645 out of 11670 total bad outcomes are predicted wrong.\n",
    "# But the prediction for the good outcomes is good. 152809 of the 152931 are predicted correctly.\n",
    "\n"
   ]
  },
  {
   "cell_type": "code",
   "execution_count": 21,
   "id": "8b716201",
   "metadata": {},
   "outputs": [
    {
     "data": {
      "text/plain": [
       "loan_status\n",
       "good           613204\n",
       "bad             45200\n",
       "dtype: int64"
      ]
     },
     "execution_count": 21,
     "metadata": {},
     "output_type": "execute_result"
    }
   ],
   "source": [
    "y_train.value_counts()"
   ]
  },
  {
   "cell_type": "code",
   "execution_count": 24,
   "id": "99fdeda8",
   "metadata": {},
   "outputs": [
    {
     "name": "stdout",
     "output_type": "stream",
     "text": [
      "0.06865085874326401\n",
      "0.931349141256736\n"
     ]
    }
   ],
   "source": [
    "print(45200/658404)\n",
    "print(613204/658404)"
   ]
  },
  {
   "cell_type": "markdown",
   "id": "66f168b4",
   "metadata": {},
   "source": [
    "The issue is the data is highly imbalanced. 7% belongs to the bad class and 93% belongs to the good class. \n",
    "Trying Undersampling the majority class. This option is chosen because the data is very large."
   ]
  },
  {
   "cell_type": "code",
   "execution_count": 41,
   "id": "68d81be3",
   "metadata": {},
   "outputs": [],
   "source": [
    "# Undersampling the majority class\n",
    "# reading the dataframe before the split\n",
    "\n",
    "df = pd.read_csv('df_before_split.csv')"
   ]
  },
  {
   "cell_type": "code",
   "execution_count": 42,
   "id": "16115590",
   "metadata": {},
   "outputs": [
    {
     "data": {
      "text/plain": [
       "Index(['loan_amnt', 'funded_amnt', 'int_rate', 'annual_inc', 'dti',\n",
       "       'delinq_2yrs', 'inq_last_6mths', 'open_acc',\n",
       "       'collections_12_mths_ex_med', 'acc_now_delinq', 'term', 'emp_length',\n",
       "       'home_ownership', 'application_type', 'purpose', 'loan_status'],\n",
       "      dtype='object')"
      ]
     },
     "execution_count": 42,
     "metadata": {},
     "output_type": "execute_result"
    }
   ],
   "source": [
    "df.columns"
   ]
  },
  {
   "cell_type": "code",
   "execution_count": 43,
   "id": "d36d6482",
   "metadata": {},
   "outputs": [
    {
     "data": {
      "text/html": [
       "<div>\n",
       "<style scoped>\n",
       "    .dataframe tbody tr th:only-of-type {\n",
       "        vertical-align: middle;\n",
       "    }\n",
       "\n",
       "    .dataframe tbody tr th {\n",
       "        vertical-align: top;\n",
       "    }\n",
       "\n",
       "    .dataframe thead th {\n",
       "        text-align: right;\n",
       "    }\n",
       "</style>\n",
       "<table border=\"1\" class=\"dataframe\">\n",
       "  <thead>\n",
       "    <tr style=\"text-align: right;\">\n",
       "      <th></th>\n",
       "      <th>loan_amnt</th>\n",
       "      <th>int_rate</th>\n",
       "      <th>annual_inc</th>\n",
       "      <th>dti</th>\n",
       "      <th>open_acc</th>\n",
       "      <th>loan_status</th>\n",
       "    </tr>\n",
       "  </thead>\n",
       "  <tbody>\n",
       "    <tr>\n",
       "      <th>0</th>\n",
       "      <td>5000.0</td>\n",
       "      <td>10.65</td>\n",
       "      <td>24000.0</td>\n",
       "      <td>27.65</td>\n",
       "      <td>3.0</td>\n",
       "      <td>good</td>\n",
       "    </tr>\n",
       "    <tr>\n",
       "      <th>1</th>\n",
       "      <td>2500.0</td>\n",
       "      <td>15.27</td>\n",
       "      <td>30000.0</td>\n",
       "      <td>1.00</td>\n",
       "      <td>3.0</td>\n",
       "      <td>bad</td>\n",
       "    </tr>\n",
       "    <tr>\n",
       "      <th>2</th>\n",
       "      <td>2400.0</td>\n",
       "      <td>15.96</td>\n",
       "      <td>12252.0</td>\n",
       "      <td>8.72</td>\n",
       "      <td>2.0</td>\n",
       "      <td>good</td>\n",
       "    </tr>\n",
       "    <tr>\n",
       "      <th>3</th>\n",
       "      <td>10000.0</td>\n",
       "      <td>13.49</td>\n",
       "      <td>49200.0</td>\n",
       "      <td>20.00</td>\n",
       "      <td>10.0</td>\n",
       "      <td>good</td>\n",
       "    </tr>\n",
       "    <tr>\n",
       "      <th>4</th>\n",
       "      <td>3000.0</td>\n",
       "      <td>12.69</td>\n",
       "      <td>80000.0</td>\n",
       "      <td>17.94</td>\n",
       "      <td>15.0</td>\n",
       "      <td>good</td>\n",
       "    </tr>\n",
       "  </tbody>\n",
       "</table>\n",
       "</div>"
      ],
      "text/plain": [
       "   loan_amnt  int_rate  annual_inc    dti  open_acc loan_status\n",
       "0     5000.0     10.65     24000.0  27.65       3.0        good\n",
       "1     2500.0     15.27     30000.0   1.00       3.0         bad\n",
       "2     2400.0     15.96     12252.0   8.72       2.0        good\n",
       "3    10000.0     13.49     49200.0  20.00      10.0        good\n",
       "4     3000.0     12.69     80000.0  17.94      15.0        good"
      ]
     },
     "execution_count": 43,
     "metadata": {},
     "output_type": "execute_result"
    }
   ],
   "source": [
    "# Selecting columns in light of the feature importance done above.\n",
    "\n",
    "df = df[['loan_amnt', 'int_rate', 'annual_inc', 'dti', 'open_acc', 'loan_status']]\n",
    "df.head()"
   ]
  },
  {
   "cell_type": "code",
   "execution_count": 44,
   "id": "fe3f2cf6",
   "metadata": {},
   "outputs": [],
   "source": [
    "df_good = df[df['loan_status'] == 'good']\n",
    "df_bad = df[df['loan_status'] == 'bad']"
   ]
  },
  {
   "cell_type": "code",
   "execution_count": 46,
   "id": "3a5fd8a6",
   "metadata": {},
   "outputs": [
    {
     "name": "stdout",
     "output_type": "stream",
     "text": [
      "good loan_status (766135, 6)\n",
      "bad loan_status (56870, 6)\n"
     ]
    }
   ],
   "source": [
    "print('good loan_status', df_good.shape)\n",
    "print('bad loan_status', df_bad.shape)"
   ]
  },
  {
   "cell_type": "code",
   "execution_count": 48,
   "id": "f0beddb0",
   "metadata": {},
   "outputs": [
    {
     "data": {
      "text/plain": [
       "(56870, 6)"
      ]
     },
     "execution_count": 48,
     "metadata": {},
     "output_type": "execute_result"
    }
   ],
   "source": [
    "df_good_under = df_good.sample(56870)\n",
    "df_good_under.shape"
   ]
  },
  {
   "cell_type": "code",
   "execution_count": 51,
   "id": "6d6251bd",
   "metadata": {},
   "outputs": [
    {
     "data": {
      "text/plain": [
       "(113740, 6)"
      ]
     },
     "execution_count": 51,
     "metadata": {},
     "output_type": "execute_result"
    }
   ],
   "source": [
    "# combine the undersampled good class and the bad class to form a balanced data set\n",
    "\n",
    "df_balanced = pd.concat([df_good_under, df_bad], axis=0)\n",
    "df_balanced.shape"
   ]
  },
  {
   "cell_type": "code",
   "execution_count": 56,
   "id": "40885438",
   "metadata": {},
   "outputs": [],
   "source": [
    "# Separate the data to X and y\n",
    "\n",
    "X = df_balanced[['loan_amnt', 'int_rate', 'annual_inc', 'dti', 'open_acc']]\n",
    "y = df_balanced['loan_status']"
   ]
  },
  {
   "cell_type": "code",
   "execution_count": 57,
   "id": "df092e96",
   "metadata": {},
   "outputs": [],
   "source": [
    "from sklearn.model_selection import train_test_split\n",
    "X_train, X_test, y_train, y_test = train_test_split(X, y, test_size=0.2, random_state=42, stratify=y)"
   ]
  },
  {
   "cell_type": "code",
   "execution_count": 62,
   "id": "0ce6a5ad",
   "metadata": {},
   "outputs": [
    {
     "data": {
      "text/plain": [
       "bad     45496\n",
       "good    45496\n",
       "Name: loan_status, dtype: int64"
      ]
     },
     "execution_count": 62,
     "metadata": {},
     "output_type": "execute_result"
    }
   ],
   "source": [
    "y_train.value_counts()"
   ]
  },
  {
   "cell_type": "code",
   "execution_count": 63,
   "id": "71daa9bb",
   "metadata": {},
   "outputs": [
    {
     "data": {
      "text/plain": [
       "bad     11374\n",
       "good    11374\n",
       "Name: loan_status, dtype: int64"
      ]
     },
     "execution_count": 63,
     "metadata": {},
     "output_type": "execute_result"
    }
   ],
   "source": [
    "y_test.value_counts()"
   ]
  },
  {
   "cell_type": "code",
   "execution_count": 65,
   "id": "b5a991f3",
   "metadata": {},
   "outputs": [
    {
     "name": "stdout",
     "output_type": "stream",
     "text": [
      "n_estimators =  50\n",
      "              precision    recall  f1-score   support\n",
      "\n",
      "         bad       0.64      0.69      0.66     11374\n",
      "        good       0.66      0.61      0.64     11374\n",
      "\n",
      "    accuracy                           0.65     22748\n",
      "   macro avg       0.65      0.65      0.65     22748\n",
      "weighted avg       0.65      0.65      0.65     22748\n",
      "\n",
      "n_estimators =  100\n",
      "              precision    recall  f1-score   support\n",
      "\n",
      "         bad       0.65      0.69      0.67     11374\n",
      "        good       0.67      0.62      0.64     11374\n",
      "\n",
      "    accuracy                           0.66     22748\n",
      "   macro avg       0.66      0.66      0.65     22748\n",
      "weighted avg       0.66      0.66      0.65     22748\n",
      "\n",
      "n_estimators =  300\n",
      "              precision    recall  f1-score   support\n",
      "\n",
      "         bad       0.65      0.69      0.67     11374\n",
      "        good       0.67      0.62      0.64     11374\n",
      "\n",
      "    accuracy                           0.66     22748\n",
      "   macro avg       0.66      0.66      0.66     22748\n",
      "weighted avg       0.66      0.66      0.66     22748\n",
      "\n",
      "n_estimators =  600\n",
      "              precision    recall  f1-score   support\n",
      "\n",
      "         bad       0.65      0.69      0.67     11374\n",
      "        good       0.67      0.63      0.65     11374\n",
      "\n",
      "    accuracy                           0.66     22748\n",
      "   macro avg       0.66      0.66      0.66     22748\n",
      "weighted avg       0.66      0.66      0.66     22748\n",
      "\n",
      "n_estimators =  900\n",
      "              precision    recall  f1-score   support\n",
      "\n",
      "         bad       0.65      0.69      0.67     11374\n",
      "        good       0.67      0.63      0.65     11374\n",
      "\n",
      "    accuracy                           0.66     22748\n",
      "   macro avg       0.66      0.66      0.66     22748\n",
      "weighted avg       0.66      0.66      0.66     22748\n",
      "\n"
     ]
    }
   ],
   "source": [
    "n = [50, 100, 300, 600, 900]\n",
    "for i in n:\n",
    "    rf = RandomForestClassifier(n_estimators=i, random_state=1, n_jobs=-1)\n",
    "    rf.fit(X_train, y_train)\n",
    "    y_pred = rf.predict(X_test)\n",
    "    \n",
    "    cl_report = classification_report(y_test, y_pred)\n",
    "    print('n_estimators = ', i)\n",
    "    print(cl_report)"
   ]
  },
  {
   "cell_type": "code",
   "execution_count": null,
   "id": "3ebabcb8",
   "metadata": {},
   "outputs": [],
   "source": [
    "# 600 n_estimators seems to give the best result with f1 score 67% for the 'bad' class and 65% f1 score for the 'good' class."
   ]
  },
  {
   "cell_type": "code",
   "execution_count": 70,
   "id": "91cc1466",
   "metadata": {},
   "outputs": [
    {
     "name": "stdout",
     "output_type": "stream",
     "text": [
      "0.6565741988833191\n",
      "{'n_estimators': 800}\n"
     ]
    }
   ],
   "source": [
    "# Trying Grid Search with Random Forest to find the best paramaters\n",
    "\n",
    "params = {'n_estimators':[50, 200, 400, 600, 800, 1000]}\n",
    "\n",
    "rf = RandomForestClassifier(random_state=42, n_jobs=-1)\n",
    "gs = GridSearchCV(estimator=rf, param_grid = params, n_jobs=-1)\n",
    "\n",
    "gs_rf = gs.fit(X_train, y_train)\n",
    "y_pred = gs_rf.predict(X_test)\n",
    "\n",
    "print(gs_rf.best_score_)\n",
    "print(gs_rf.best_params_)"
   ]
  },
  {
   "cell_type": "code",
   "execution_count": null,
   "id": "148eced7",
   "metadata": {},
   "outputs": [],
   "source": []
  }
 ],
 "metadata": {
  "kernelspec": {
   "display_name": "Python 3 (ipykernel)",
   "language": "python",
   "name": "python3"
  },
  "language_info": {
   "codemirror_mode": {
    "name": "ipython",
    "version": 3
   },
   "file_extension": ".py",
   "mimetype": "text/x-python",
   "name": "python",
   "nbconvert_exporter": "python",
   "pygments_lexer": "ipython3",
   "version": "3.9.7"
  }
 },
 "nbformat": 4,
 "nbformat_minor": 5
}
