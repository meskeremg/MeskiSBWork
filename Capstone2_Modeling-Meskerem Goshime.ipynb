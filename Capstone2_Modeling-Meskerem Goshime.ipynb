{
 "cells": [
  {
   "cell_type": "markdown",
   "id": "2167a86d",
   "metadata": {},
   "source": [
    "# Modeling - LendingClub Loan Listings Data\n",
    "\n",
    "Meskerem Goshime\n",
    "\n",
    "Data Source: https://www.kaggle.com/datasets/husainsb/lendingclub-issued-loans\n",
    "\n",
    "“LendingClub is a US peer-to-peer lending company, headquartered in San Francisco, California.” The company “enables borrowers to create unsecured personal loans between 1,000𝑎𝑛𝑑 40,000. The standard loan period is three years. Investors can search and browse the loan listings on Lending Club website and select loans that they want to invest in based on the information supplied about the borrower, amount of loan, loan grade, and loan purpose. Investors make money from interest. Lending Club makes money by charging borrowers an origination fee and investors a service fee.” (source: https://www.kaggle.com/datasets/husainsb/lendingclub-issued-loans?select=lc_2016_2017.csv)​\n",
    "\n",
    "This study aims to help LendingClub in making informed lending decisions and investors make informed investment decisions"
   ]
  },
  {
   "cell_type": "code",
   "execution_count": 3,
   "id": "c804c271",
   "metadata": {},
   "outputs": [],
   "source": [
    "#import packages\n",
    "import pandas as pd\n",
    "import numpy as np\n",
    "import matplotlib.pyplot as plt\n",
    "import seaborn as sns\n",
    "from sklearn.metrics import classification_report, confusion_matrix, accuracy_score\n",
    "from sklearn.model_selection import GridSearchCV\n",
    "from sklearn.ensemble import RandomForestClassifier"
   ]
  },
  {
   "cell_type": "code",
   "execution_count": 4,
   "id": "740f2d26",
   "metadata": {},
   "outputs": [],
   "source": [
    "X_train = pd.read_csv('X_train.csv')\n",
    "y_train = pd.read_csv('y_train.csv')\n",
    "X_test = pd.read_csv('X_test.csv')\n",
    "y_test = pd.read_csv('y_test.csv')"
   ]
  },
  {
   "cell_type": "code",
   "execution_count": 5,
   "id": "5fa8f25a",
   "metadata": {},
   "outputs": [],
   "source": [
    "# converting y_train and y_test to numpy arrays\n",
    "y_train = y_train['loan_status'].to_numpy()\n",
    "y_test = y_test['loan_status'].to_numpy()"
   ]
  },
  {
   "cell_type": "code",
   "execution_count": 6,
   "id": "5b627226",
   "metadata": {
    "scrolled": false
   },
   "outputs": [
    {
     "name": "stdout",
     "output_type": "stream",
     "text": [
      "(658404, 33) (658404,) (164601, 33) (164601,)\n"
     ]
    }
   ],
   "source": [
    "print(X_train.shape, y_train.shape, X_test.shape, y_test.shape)"
   ]
  },
  {
   "cell_type": "markdown",
   "id": "6f6c2625",
   "metadata": {},
   "source": [
    "# Random Forest"
   ]
  },
  {
   "cell_type": "code",
   "execution_count": null,
   "id": "96360a2a",
   "metadata": {},
   "outputs": [],
   "source": [
    "# Feature Importance"
   ]
  },
  {
   "cell_type": "code",
   "execution_count": 7,
   "id": "6f34d80f",
   "metadata": {},
   "outputs": [
    {
     "name": "stdout",
     "output_type": "stream",
     "text": [
      "[[152905     26]\n",
      " [ 11658     12]]\n"
     ]
    }
   ],
   "source": [
    "rf = RandomForestClassifier(n_estimators=800, random_state=1, n_jobs=-1)\n",
    "rf.fit(X_train, y_train)\n",
    "y_pred = rf.predict(X_test)  \n",
    "cm_rf = confusion_matrix(y_test, y_pred)\n",
    "print(cm_rf)"
   ]
  },
  {
   "cell_type": "code",
   "execution_count": 8,
   "id": "da1a1296",
   "metadata": {
    "scrolled": true
   },
   "outputs": [
    {
     "data": {
      "text/plain": [
       "array(['dti', 'annual_inc', 'loan_amnt', 'int_rate', 'open_acc',\n",
       "       'emp_length', 'sub_grade', 'inq_last_6mths', 'delinq_2yrs',\n",
       "       'grade'], dtype=object)"
      ]
     },
     "execution_count": 8,
     "metadata": {},
     "output_type": "execute_result"
    }
   ],
   "source": [
    "# Feature Importance\n",
    "\n",
    "importance = rf.feature_importances_\n",
    "columns = X_train.columns\n",
    "importance = pd.DataFrame({'column': columns, 'importance': importance})\n",
    "importance = importance.sort_values('importance', ascending=False)\n",
    "imp_features = importance.iloc[0:10, :]\n",
    "imp_features = imp_features['column'].to_numpy()\n",
    "imp_features\n",
    "\n",
    "# Taking the top 11 important features\n",
    "#imp_features = ['dti', 'annual_inc', 'loan_amnt', 'int_rate', 'open_acc', 'emp_length', 'sub_grade', 'inq_last_6mths', 'delinq_2yrs', 'grade']\n"
   ]
  },
  {
   "cell_type": "code",
   "execution_count": 9,
   "id": "791a7a8d",
   "metadata": {},
   "outputs": [
    {
     "data": {
      "text/html": [
       "<div>\n",
       "<style scoped>\n",
       "    .dataframe tbody tr th:only-of-type {\n",
       "        vertical-align: middle;\n",
       "    }\n",
       "\n",
       "    .dataframe tbody tr th {\n",
       "        vertical-align: top;\n",
       "    }\n",
       "\n",
       "    .dataframe thead th {\n",
       "        text-align: right;\n",
       "    }\n",
       "</style>\n",
       "<table border=\"1\" class=\"dataframe\">\n",
       "  <thead>\n",
       "    <tr style=\"text-align: right;\">\n",
       "      <th></th>\n",
       "      <th>dti</th>\n",
       "      <th>annual_inc</th>\n",
       "      <th>loan_amnt</th>\n",
       "      <th>int_rate</th>\n",
       "      <th>open_acc</th>\n",
       "      <th>emp_length</th>\n",
       "      <th>sub_grade</th>\n",
       "      <th>inq_last_6mths</th>\n",
       "      <th>delinq_2yrs</th>\n",
       "      <th>grade</th>\n",
       "    </tr>\n",
       "  </thead>\n",
       "  <tbody>\n",
       "    <tr>\n",
       "      <th>0</th>\n",
       "      <td>0.510503</td>\n",
       "      <td>-1.017129</td>\n",
       "      <td>-0.448528</td>\n",
       "      <td>-0.809332</td>\n",
       "      <td>-0.678105</td>\n",
       "      <td>-0.274961</td>\n",
       "      <td>-0.916225</td>\n",
       "      <td>0.304328</td>\n",
       "      <td>-0.365773</td>\n",
       "      <td>-0.606370</td>\n",
       "    </tr>\n",
       "    <tr>\n",
       "      <th>1</th>\n",
       "      <td>-1.390404</td>\n",
       "      <td>-0.730453</td>\n",
       "      <td>-1.113787</td>\n",
       "      <td>0.315054</td>\n",
       "      <td>-0.866226</td>\n",
       "      <td>1.089437</td>\n",
       "      <td>0.160463</td>\n",
       "      <td>0.304328</td>\n",
       "      <td>0.792882</td>\n",
       "      <td>0.154295</td>\n",
       "    </tr>\n",
       "    <tr>\n",
       "      <th>2</th>\n",
       "      <td>-0.494505</td>\n",
       "      <td>1.682406</td>\n",
       "      <td>1.796720</td>\n",
       "      <td>-0.289332</td>\n",
       "      <td>-1.054348</td>\n",
       "      <td>1.089437</td>\n",
       "      <td>-0.300975</td>\n",
       "      <td>-0.696905</td>\n",
       "      <td>-0.365773</td>\n",
       "      <td>-0.606370</td>\n",
       "    </tr>\n",
       "  </tbody>\n",
       "</table>\n",
       "</div>"
      ],
      "text/plain": [
       "        dti  annual_inc  loan_amnt  int_rate  open_acc  emp_length  sub_grade  \\\n",
       "0  0.510503   -1.017129  -0.448528 -0.809332 -0.678105   -0.274961  -0.916225   \n",
       "1 -1.390404   -0.730453  -1.113787  0.315054 -0.866226    1.089437   0.160463   \n",
       "2 -0.494505    1.682406   1.796720 -0.289332 -1.054348    1.089437  -0.300975   \n",
       "\n",
       "   inq_last_6mths  delinq_2yrs     grade  \n",
       "0        0.304328    -0.365773 -0.606370  \n",
       "1        0.304328     0.792882  0.154295  \n",
       "2       -0.696905    -0.365773 -0.606370  "
      ]
     },
     "execution_count": 9,
     "metadata": {},
     "output_type": "execute_result"
    }
   ],
   "source": [
    "X_train = X_train[imp_features]\n",
    "X_train.head(3)"
   ]
  },
  {
   "cell_type": "code",
   "execution_count": 10,
   "id": "62081204",
   "metadata": {},
   "outputs": [
    {
     "data": {
      "text/html": [
       "<div>\n",
       "<style scoped>\n",
       "    .dataframe tbody tr th:only-of-type {\n",
       "        vertical-align: middle;\n",
       "    }\n",
       "\n",
       "    .dataframe tbody tr th {\n",
       "        vertical-align: top;\n",
       "    }\n",
       "\n",
       "    .dataframe thead th {\n",
       "        text-align: right;\n",
       "    }\n",
       "</style>\n",
       "<table border=\"1\" class=\"dataframe\">\n",
       "  <thead>\n",
       "    <tr style=\"text-align: right;\">\n",
       "      <th></th>\n",
       "      <th>dti</th>\n",
       "      <th>annual_inc</th>\n",
       "      <th>loan_amnt</th>\n",
       "      <th>int_rate</th>\n",
       "      <th>open_acc</th>\n",
       "      <th>emp_length</th>\n",
       "      <th>sub_grade</th>\n",
       "      <th>inq_last_6mths</th>\n",
       "      <th>delinq_2yrs</th>\n",
       "      <th>grade</th>\n",
       "    </tr>\n",
       "  </thead>\n",
       "  <tbody>\n",
       "    <tr>\n",
       "      <th>0</th>\n",
       "      <td>-0.061709</td>\n",
       "      <td>-0.348218</td>\n",
       "      <td>0.608758</td>\n",
       "      <td>-0.129683</td>\n",
       "      <td>-0.866226</td>\n",
       "      <td>1.089437</td>\n",
       "      <td>-0.300975</td>\n",
       "      <td>0.304328</td>\n",
       "      <td>-0.365773</td>\n",
       "      <td>-0.606370</td>\n",
       "    </tr>\n",
       "    <tr>\n",
       "      <th>1</th>\n",
       "      <td>1.317903</td>\n",
       "      <td>-0.652381</td>\n",
       "      <td>0.014777</td>\n",
       "      <td>1.049440</td>\n",
       "      <td>0.074381</td>\n",
       "      <td>1.089437</td>\n",
       "      <td>1.237152</td>\n",
       "      <td>-0.696905</td>\n",
       "      <td>-0.365773</td>\n",
       "      <td>0.914959</td>\n",
       "    </tr>\n",
       "    <tr>\n",
       "      <th>2</th>\n",
       "      <td>-0.357513</td>\n",
       "      <td>-0.945460</td>\n",
       "      <td>-0.104019</td>\n",
       "      <td>0.394878</td>\n",
       "      <td>-0.866226</td>\n",
       "      <td>-0.274961</td>\n",
       "      <td>0.468088</td>\n",
       "      <td>-0.696905</td>\n",
       "      <td>-0.365773</td>\n",
       "      <td>0.154295</td>\n",
       "    </tr>\n",
       "  </tbody>\n",
       "</table>\n",
       "</div>"
      ],
      "text/plain": [
       "        dti  annual_inc  loan_amnt  int_rate  open_acc  emp_length  sub_grade  \\\n",
       "0 -0.061709   -0.348218   0.608758 -0.129683 -0.866226    1.089437  -0.300975   \n",
       "1  1.317903   -0.652381   0.014777  1.049440  0.074381    1.089437   1.237152   \n",
       "2 -0.357513   -0.945460  -0.104019  0.394878 -0.866226   -0.274961   0.468088   \n",
       "\n",
       "   inq_last_6mths  delinq_2yrs     grade  \n",
       "0        0.304328    -0.365773 -0.606370  \n",
       "1       -0.696905    -0.365773  0.914959  \n",
       "2       -0.696905    -0.365773  0.154295  "
      ]
     },
     "execution_count": 10,
     "metadata": {},
     "output_type": "execute_result"
    }
   ],
   "source": [
    "X_test = X_test[imp_features]\n",
    "X_test.head(3)"
   ]
  },
  {
   "cell_type": "code",
   "execution_count": null,
   "id": "25b07513",
   "metadata": {},
   "outputs": [],
   "source": [
    "# Hyperparameter Tuining"
   ]
  },
  {
   "cell_type": "code",
   "execution_count": null,
   "id": "e44e2f7c",
   "metadata": {},
   "outputs": [],
   "source": [
    "# Tuning Random Forest Hyperparameters with GridSearchCV\n",
    "\n",
    "from sklearn.model_selection import GridSearchCV\n",
    "\n",
    "params = {'n_estimators':[500, 1000]}\n",
    "rf = RandomForestClassifier(random_state=42, n_jobs=-1)\n",
    "\n",
    "gs = GridSearchCV(estimator=rf, param_grid = params, n_jobs=-1)\n",
    "\n",
    "gs_rf = gs.fit(X_train, y_train)\n",
    "y_pred = gs_rf.predict(X_test)\n",
    "\n",
    "print(gs_rf.best_score_)\n",
    "print(gs_rf.best_params_)\n"
   ]
  },
  {
   "cell_type": "code",
   "execution_count": 62,
   "id": "fdac9e95",
   "metadata": {},
   "outputs": [
    {
     "name": "stdout",
     "output_type": "stream",
     "text": [
      "n_estimators: 50 ROC/AUC Score: 0.7226864861239766\n",
      "[[152806    125]\n",
      " [ 11615     55]]\n",
      "n_estimators: 100 ROC/AUC Score: 0.7342533737386716\n",
      "[[152837     94]\n",
      " [ 11627     43]]\n",
      "n_estimators: 300 ROC/AUC Score: 0.7415968210809456\n",
      "[[152865     66]\n",
      " [ 11637     33]]\n",
      "n_estimators: 500 ROC/AUC Score: 0.7427608609462055\n",
      "[[152875     56]\n",
      " [ 11637     33]]\n",
      "n_estimators: 800 ROC/AUC Score: 0.7438037342725318\n",
      "[[152877     54]\n",
      " [ 11638     32]]\n"
     ]
    }
   ],
   "source": [
    "# Unfortunately, I was not able to run Grid Search, Random Search or cross validation \n",
    "# because of the size of the data and the amount of processing power it requires.\n",
    "# Therefore, I had to manually run the Random Forest model with varying parameters.\n",
    "# I am choosing 500 for the n_estimators value. The n_estimators value doesn't seem\n",
    "# to make much difference in the performance of the model.\n",
    "\n",
    "n = [50, 100, 300, 500, 800]\n",
    "for i in n:\n",
    "    rf = RandomForestClassifier(n_estimators=i, random_state=1, n_jobs=-1)\n",
    "    rf.fit(X_train, y_train)\n",
    "    y_pred_rf = rf.predict(X_test)  \n",
    "    y_pred_probs_rf = rf.predict_proba(X_test)[:,1]\n",
    "    fpr_rf, tpr_rf, thresholds_rf = roc_curve(y_test, y_pred_probs_rf)\n",
    "    print('n_estimators:', i, 'ROC/AUC Score:', roc_auc_score(y_test, y_pred_probs_rf))\n",
    "    cm_rf = confusion_matrix(y_test, y_pred_rf)\n",
    "    print(cm_rf)"
   ]
  },
  {
   "cell_type": "code",
   "execution_count": null,
   "id": "a9a5f1b8",
   "metadata": {},
   "outputs": [],
   "source": []
  },
  {
   "cell_type": "code",
   "execution_count": 21,
   "id": "8bd2252f",
   "metadata": {},
   "outputs": [
    {
     "data": {
      "text/plain": [
       "RandomForestClassifier(n_estimators=500, n_jobs=-1, random_state=1)"
      ]
     },
     "execution_count": 21,
     "metadata": {},
     "output_type": "execute_result"
    }
   ],
   "source": [
    "# Random Forest model with the chosen n_estimators value.\n",
    "\n",
    "rf = RandomForestClassifier(n_estimators=500, random_state=1, n_jobs=-1)\n",
    "rf.fit(X_train, y_train)\n",
    "\n",
    "# using the most important features made only a small difference."
   ]
  },
  {
   "cell_type": "code",
   "execution_count": 22,
   "id": "9b3a4181",
   "metadata": {},
   "outputs": [
    {
     "name": "stdout",
     "output_type": "stream",
     "text": [
      "[[152905     26]\n",
      " [ 11658     12]]\n",
      "ROC/AUC Score:  0.7427608609462055\n"
     ]
    },
    {
     "data": {
      "image/png": "[encoded data removed]",
      "text/plain": [
       "<Figure size 432x288 with 1 Axes>"
      ]
     },
     "metadata": {
      "needs_background": "light"
     },
     "output_type": "display_data"
    }
   ],
   "source": [
    "y_pred_rf = rf.predict(X_test)  \n",
    "cm_rf = confusion_matrix(y_test, y_pred)\n",
    "print(cm_rf)\n",
    "\n",
    "# ROC AUC Score\n",
    "\n",
    "y_pred_probs_rf = rf.predict_proba(X_test)[:,1]\n",
    "from sklearn.metrics import roc_auc_score\n",
    "print('ROC/AUC Score: ', roc_auc_score(y_test, y_pred_probs_rf))\n",
    "\n",
    "# ROC Curve\n",
    "from sklearn.metrics import roc_curve\n",
    "fpr_rf, tpr_rf, thresholds_rf = roc_curve(y_test, y_pred_probs_rf)\n",
    "plt.plot([0,1], [0,1], 'k--')\n",
    "plt.plot(fpr_rf, tpr_rf)\n",
    "plt.xlabel('False Positive Rate')\n",
    "plt.ylabel('True Positive Rate')\n",
    "plt.title('ROC Curve - Loan Data')\n",
    "plt.show()\n",
    "\n"
   ]
  },
  {
   "cell_type": "code",
   "execution_count": 23,
   "id": "e8734085",
   "metadata": {},
   "outputs": [
    {
     "data": {
      "text/html": [
       "<div>\n",
       "<style scoped>\n",
       "    .dataframe tbody tr th:only-of-type {\n",
       "        vertical-align: middle;\n",
       "    }\n",
       "\n",
       "    .dataframe tbody tr th {\n",
       "        vertical-align: top;\n",
       "    }\n",
       "\n",
       "    .dataframe thead th {\n",
       "        text-align: right;\n",
       "    }\n",
       "</style>\n",
       "<table border=\"1\" class=\"dataframe\">\n",
       "  <thead>\n",
       "    <tr style=\"text-align: right;\">\n",
       "      <th></th>\n",
       "      <th>tpr</th>\n",
       "      <th>fpr</th>\n",
       "      <th>thresholds</th>\n",
       "      <th>tpr-fpr</th>\n",
       "    </tr>\n",
       "  </thead>\n",
       "  <tbody>\n",
       "    <tr>\n",
       "      <th>255</th>\n",
       "      <td>0.769237</td>\n",
       "      <td>0.409211</td>\n",
       "      <td>0.062</td>\n",
       "      <td>0.360027</td>\n",
       "    </tr>\n",
       "    <tr>\n",
       "      <th>256</th>\n",
       "      <td>0.777978</td>\n",
       "      <td>0.418300</td>\n",
       "      <td>0.060</td>\n",
       "      <td>0.359678</td>\n",
       "    </tr>\n",
       "    <tr>\n",
       "      <th>253</th>\n",
       "      <td>0.750643</td>\n",
       "      <td>0.391104</td>\n",
       "      <td>0.066</td>\n",
       "      <td>0.359538</td>\n",
       "    </tr>\n",
       "    <tr>\n",
       "      <th>257</th>\n",
       "      <td>0.787746</td>\n",
       "      <td>0.428435</td>\n",
       "      <td>0.058</td>\n",
       "      <td>0.359311</td>\n",
       "    </tr>\n",
       "    <tr>\n",
       "      <th>254</th>\n",
       "      <td>0.759212</td>\n",
       "      <td>0.400403</td>\n",
       "      <td>0.064</td>\n",
       "      <td>0.358809</td>\n",
       "    </tr>\n",
       "    <tr>\n",
       "      <th>...</th>\n",
       "      <td>...</td>\n",
       "      <td>...</td>\n",
       "      <td>...</td>\n",
       "      <td>...</td>\n",
       "    </tr>\n",
       "    <tr>\n",
       "      <th>2</th>\n",
       "      <td>0.000171</td>\n",
       "      <td>0.000000</td>\n",
       "      <td>0.690</td>\n",
       "      <td>0.000171</td>\n",
       "    </tr>\n",
       "    <tr>\n",
       "      <th>3</th>\n",
       "      <td>0.000171</td>\n",
       "      <td>0.000020</td>\n",
       "      <td>0.634</td>\n",
       "      <td>0.000152</td>\n",
       "    </tr>\n",
       "    <tr>\n",
       "      <th>1</th>\n",
       "      <td>0.000086</td>\n",
       "      <td>0.000000</td>\n",
       "      <td>0.702</td>\n",
       "      <td>0.000086</td>\n",
       "    </tr>\n",
       "    <tr>\n",
       "      <th>0</th>\n",
       "      <td>0.000000</td>\n",
       "      <td>0.000000</td>\n",
       "      <td>1.702</td>\n",
       "      <td>0.000000</td>\n",
       "    </tr>\n",
       "    <tr>\n",
       "      <th>286</th>\n",
       "      <td>1.000000</td>\n",
       "      <td>1.000000</td>\n",
       "      <td>0.000</td>\n",
       "      <td>0.000000</td>\n",
       "    </tr>\n",
       "  </tbody>\n",
       "</table>\n",
       "<p>287 rows × 4 columns</p>\n",
       "</div>"
      ],
      "text/plain": [
       "          tpr       fpr  thresholds   tpr-fpr\n",
       "255  0.769237  0.409211       0.062  0.360027\n",
       "256  0.777978  0.418300       0.060  0.359678\n",
       "253  0.750643  0.391104       0.066  0.359538\n",
       "257  0.787746  0.428435       0.058  0.359311\n",
       "254  0.759212  0.400403       0.064  0.358809\n",
       "..        ...       ...         ...       ...\n",
       "2    0.000171  0.000000       0.690  0.000171\n",
       "3    0.000171  0.000020       0.634  0.000152\n",
       "1    0.000086  0.000000       0.702  0.000086\n",
       "0    0.000000  0.000000       1.702  0.000000\n",
       "286  1.000000  1.000000       0.000  0.000000\n",
       "\n",
       "[287 rows x 4 columns]"
      ]
     },
     "execution_count": 23,
     "metadata": {},
     "output_type": "execute_result"
    }
   ],
   "source": [
    "# Defining a function to find the optimal threshold value\n",
    "def optimal_thr(tpr, fpr, thresholds):\n",
    "    tpr_fpr_tres = pd.DataFrame({'tpr':tpr, 'fpr':fpr, 'thresholds':thresholds, 'tpr-fpr':tpr-fpr})\n",
    "    tpr_fpr_tres = tpr_fpr_tres.sort_values(by='tpr-fpr', ascending=False)\n",
    "    return tpr_fpr_tres\n",
    "\n",
    "optimal_thr(tpr_rf, fpr_rf, thresholds_rf)\n",
    "\n",
    "# Optimal threshold value seems to be 0.062"
   ]
  },
  {
   "cell_type": "code",
   "execution_count": 25,
   "id": "ad45333c",
   "metadata": {},
   "outputs": [
    {
     "name": "stdout",
     "output_type": "stream",
     "text": [
      "0    93043\n",
      "1    71558\n",
      "Name: class_new, dtype: int64\n",
      "   y_test  y_pred_proba  y_pred  class_new\n",
      "0       0         0.002       0          0\n",
      "1       0         0.036       0          0\n",
      "2       0         0.024       0          0\n",
      "3       0         0.008       0          0\n",
      "4       0         0.036       0          0\n"
     ]
    },
    {
     "name": "stderr",
     "output_type": "stream",
     "text": [
      "C:\\Users\\meske\\AppData\\Local\\Temp/ipykernel_7756/799756595.py:3: SettingWithCopyWarning: \n",
      "A value is trying to be set on a copy of a slice from a DataFrame.\n",
      "Try using .loc[row_indexer,col_indexer] = value instead\n",
      "\n",
      "See the caveats in the documentation: https://pandas.pydata.org/pandas-docs/stable/user_guide/indexing.html#returning-a-view-versus-a-copy\n",
      "  bad_loans['class_new']=1\n",
      "C:\\Users\\meske\\AppData\\Local\\Temp/ipykernel_7756/799756595.py:5: SettingWithCopyWarning: \n",
      "A value is trying to be set on a copy of a slice from a DataFrame.\n",
      "Try using .loc[row_indexer,col_indexer] = value instead\n",
      "\n",
      "See the caveats in the documentation: https://pandas.pydata.org/pandas-docs/stable/user_guide/indexing.html#returning-a-view-versus-a-copy\n",
      "  good_loans['class_new']=0\n"
     ]
    }
   ],
   "source": [
    "pred_new = pd.DataFrame({'y_test': y_test, 'y_pred_proba': y_pred_probs_rf, 'y_pred': y_pred_rf})\n",
    "bad_loans = pred_new[pred_new['y_pred_proba']>=0.062]\n",
    "bad_loans['class_new']=1\n",
    "good_loans = pred_new[pred_new['y_pred_proba']<0.062]\n",
    "good_loans['class_new']=0\n",
    "good_loans.reset_index(drop=True, inplace=True)\n",
    "bad_loans.reset_index(drop=True, inplace=True)\n",
    "pred_new = pd.concat([good_loans, bad_loans], axis=0)\n",
    "print(pred_new['class_new'].value_counts())\n",
    "print(pred_new.head())"
   ]
  },
  {
   "cell_type": "code",
   "execution_count": 26,
   "id": "79e34efc",
   "metadata": {},
   "outputs": [
    {
     "name": "stdout",
     "output_type": "stream",
     "text": [
      "[[90350 62581]\n",
      " [ 2693  8977]]\n"
     ]
    }
   ],
   "source": [
    "# Evaluating the confusion metrix with the new threshold value\n",
    "\n",
    "cm_rf = confusion_matrix(pred_new['y_test'], pred_new['class_new'])\n",
    "print(cm_rf)\n",
    "\n",
    "# We are now catching a lot more of the bad loans. \n",
    "# We are still missing 3248 bad loans, as predicting them as good loans.\n",
    "# With the default 0.5 threshold value, we were missing 11637 bad loans. \n",
    "# As a tradeoff, we are now misclassifing a lot more of the good loans as bad loans (59713)."
   ]
  },
  {
   "cell_type": "code",
   "execution_count": 27,
   "id": "62b417b1",
   "metadata": {},
   "outputs": [
    {
     "name": "stdout",
     "output_type": "stream",
     "text": [
      "              precision    recall  f1-score   support\n",
      "\n",
      "           0       0.97      0.59      0.73    152931\n",
      "           1       0.13      0.77      0.22     11670\n",
      "\n",
      "    accuracy                           0.60    164601\n",
      "   macro avg       0.55      0.68      0.48    164601\n",
      "weighted avg       0.91      0.60      0.70    164601\n",
      "\n"
     ]
    }
   ],
   "source": [
    "# Evaluating the classification report for the new threshold value\n",
    "\n",
    "cl_report = classification_report(pred_new['y_test'], pred_new['class_new'])\n",
    "print(cl_report)"
   ]
  },
  {
   "cell_type": "code",
   "execution_count": null,
   "id": "9cc62a67",
   "metadata": {},
   "outputs": [],
   "source": []
  },
  {
   "cell_type": "markdown",
   "id": "256eceff",
   "metadata": {},
   "source": [
    "# Logistic regression"
   ]
  },
  {
   "cell_type": "code",
   "execution_count": 15,
   "id": "538548ef",
   "metadata": {},
   "outputs": [],
   "source": [
    "from sklearn.linear_model import LogisticRegression\n",
    "lr = LogisticRegression()\n",
    "lr.fit(X_train, y_train)\n",
    "y_pred_lr = lr.predict(X_test)\n",
    "y_pred_probs_lr = lr.predict_proba(X_test)[:,1]\n"
   ]
  },
  {
   "cell_type": "code",
   "execution_count": 70,
   "id": "37afc53c",
   "metadata": {},
   "outputs": [
    {
     "data": {
      "image/png": "[encoded data removed]",
      "text/plain": [
       "<Figure size 432x288 with 1 Axes>"
      ]
     },
     "metadata": {
      "needs_background": "light"
     },
     "output_type": "display_data"
    }
   ],
   "source": [
    "fpr_lr, tpr_lr, thresholds_lr = roc_curve(y_test, y_pred_probs_lr)\n",
    "plt.plot([0,1], [0,1], 'k--')\n",
    "plt.plot(fpr_lr, tpr_lr)\n",
    "plt.xlabel('False Positive Rate')\n",
    "plt.ylabel('True Positive Rate')\n",
    "plt.title('Logistic Regression ROC Curve')\n",
    "plt.show()"
   ]
  },
  {
   "cell_type": "code",
   "execution_count": 71,
   "id": "f7f310fc",
   "metadata": {},
   "outputs": [
    {
     "name": "stdout",
     "output_type": "stream",
     "text": [
      "0.7233749672221697\n"
     ]
    }
   ],
   "source": [
    "# ROC/AUC Score\n",
    "\n",
    "print(roc_auc_score(y_test, y_pred_probs_lr))\n",
    "\n",
    "# The ROC/AUC Score is a little bit less than that of the RandomForest Model"
   ]
  },
  {
   "cell_type": "code",
   "execution_count": 62,
   "id": "8abae0cf",
   "metadata": {},
   "outputs": [
    {
     "data": {
      "text/html": [
       "<div>\n",
       "<style scoped>\n",
       "    .dataframe tbody tr th:only-of-type {\n",
       "        vertical-align: middle;\n",
       "    }\n",
       "\n",
       "    .dataframe tbody tr th {\n",
       "        vertical-align: top;\n",
       "    }\n",
       "\n",
       "    .dataframe thead th {\n",
       "        text-align: right;\n",
       "    }\n",
       "</style>\n",
       "<table border=\"1\" class=\"dataframe\">\n",
       "  <thead>\n",
       "    <tr style=\"text-align: right;\">\n",
       "      <th></th>\n",
       "      <th>tpr</th>\n",
       "      <th>fpr</th>\n",
       "      <th>thresholds</th>\n",
       "      <th>tpr-fpr</th>\n",
       "    </tr>\n",
       "  </thead>\n",
       "  <tbody>\n",
       "    <tr>\n",
       "      <th>13764</th>\n",
       "      <td>0.692374</td>\n",
       "      <td>0.356664</td>\n",
       "      <td>0.066120</td>\n",
       "      <td>0.335709</td>\n",
       "    </tr>\n",
       "    <tr>\n",
       "      <th>13762</th>\n",
       "      <td>0.692288</td>\n",
       "      <td>0.356658</td>\n",
       "      <td>0.066122</td>\n",
       "      <td>0.335630</td>\n",
       "    </tr>\n",
       "    <tr>\n",
       "      <th>13763</th>\n",
       "      <td>0.692288</td>\n",
       "      <td>0.356664</td>\n",
       "      <td>0.066122</td>\n",
       "      <td>0.335624</td>\n",
       "    </tr>\n",
       "    <tr>\n",
       "      <th>13760</th>\n",
       "      <td>0.692117</td>\n",
       "      <td>0.356586</td>\n",
       "      <td>0.066128</td>\n",
       "      <td>0.335531</td>\n",
       "    </tr>\n",
       "    <tr>\n",
       "      <th>13758</th>\n",
       "      <td>0.691945</td>\n",
       "      <td>0.356461</td>\n",
       "      <td>0.066146</td>\n",
       "      <td>0.335484</td>\n",
       "    </tr>\n",
       "    <tr>\n",
       "      <th>...</th>\n",
       "      <td>...</td>\n",
       "      <td>...</td>\n",
       "      <td>...</td>\n",
       "      <td>...</td>\n",
       "    </tr>\n",
       "    <tr>\n",
       "      <th>20615</th>\n",
       "      <td>0.999400</td>\n",
       "      <td>0.999699</td>\n",
       "      <td>0.004352</td>\n",
       "      <td>-0.000299</td>\n",
       "    </tr>\n",
       "    <tr>\n",
       "      <th>20612</th>\n",
       "      <td>0.999314</td>\n",
       "      <td>0.999614</td>\n",
       "      <td>0.004703</td>\n",
       "      <td>-0.000300</td>\n",
       "    </tr>\n",
       "    <tr>\n",
       "      <th>20619</th>\n",
       "      <td>0.999572</td>\n",
       "      <td>0.999876</td>\n",
       "      <td>0.003292</td>\n",
       "      <td>-0.000304</td>\n",
       "    </tr>\n",
       "    <tr>\n",
       "      <th>20613</th>\n",
       "      <td>0.999314</td>\n",
       "      <td>0.999627</td>\n",
       "      <td>0.004670</td>\n",
       "      <td>-0.000313</td>\n",
       "    </tr>\n",
       "    <tr>\n",
       "      <th>20611</th>\n",
       "      <td>0.999229</td>\n",
       "      <td>0.999614</td>\n",
       "      <td>0.004716</td>\n",
       "      <td>-0.000385</td>\n",
       "    </tr>\n",
       "  </tbody>\n",
       "</table>\n",
       "<p>20626 rows × 4 columns</p>\n",
       "</div>"
      ],
      "text/plain": [
       "            tpr       fpr  thresholds   tpr-fpr\n",
       "13764  0.692374  0.356664    0.066120  0.335709\n",
       "13762  0.692288  0.356658    0.066122  0.335630\n",
       "13763  0.692288  0.356664    0.066122  0.335624\n",
       "13760  0.692117  0.356586    0.066128  0.335531\n",
       "13758  0.691945  0.356461    0.066146  0.335484\n",
       "...         ...       ...         ...       ...\n",
       "20615  0.999400  0.999699    0.004352 -0.000299\n",
       "20612  0.999314  0.999614    0.004703 -0.000300\n",
       "20619  0.999572  0.999876    0.003292 -0.000304\n",
       "20613  0.999314  0.999627    0.004670 -0.000313\n",
       "20611  0.999229  0.999614    0.004716 -0.000385\n",
       "\n",
       "[20626 rows x 4 columns]"
      ]
     },
     "execution_count": 62,
     "metadata": {},
     "output_type": "execute_result"
    }
   ],
   "source": [
    "# Finding the optimal threshold value\n",
    "\n",
    "optimal_thr(tpr_lr, fpr_lr, thresholds_lr)\n",
    "\n",
    "# The optimal threshold is 0.066120"
   ]
  },
  {
   "cell_type": "code",
   "execution_count": 63,
   "id": "d046cbf0",
   "metadata": {},
   "outputs": [
    {
     "name": "stdout",
     "output_type": "stream",
     "text": [
      "0    97446\n",
      "1    67155\n",
      "Name: class_new, dtype: int64\n",
      "   y_test  y_pred_proba  y_pred  class_new\n",
      "0       0         0.002       0          0\n",
      "1       0         0.036       0          0\n",
      "2       0         0.024       0          0\n",
      "3       0         0.008       0          0\n",
      "4       0         0.036       0          0\n",
      "0    97446\n",
      "1    67155\n",
      "Name: class_new, dtype: int64\n"
     ]
    },
    {
     "name": "stderr",
     "output_type": "stream",
     "text": [
      "C:\\Users\\meske\\AppData\\Local\\Temp/ipykernel_12152/1869500244.py:4: SettingWithCopyWarning: \n",
      "A value is trying to be set on a copy of a slice from a DataFrame.\n",
      "Try using .loc[row_indexer,col_indexer] = value instead\n",
      "\n",
      "See the caveats in the documentation: https://pandas.pydata.org/pandas-docs/stable/user_guide/indexing.html#returning-a-view-versus-a-copy\n",
      "  bad_loans['class_new']=1\n",
      "C:\\Users\\meske\\AppData\\Local\\Temp/ipykernel_12152/1869500244.py:6: SettingWithCopyWarning: \n",
      "A value is trying to be set on a copy of a slice from a DataFrame.\n",
      "Try using .loc[row_indexer,col_indexer] = value instead\n",
      "\n",
      "See the caveats in the documentation: https://pandas.pydata.org/pandas-docs/stable/user_guide/indexing.html#returning-a-view-versus-a-copy\n",
      "  good_loans['class_new']=0\n"
     ]
    }
   ],
   "source": [
    "# Making predictions using the optimal threshold value (using Prediction_optimal function defined a while back).\n",
    "pred_new_lr = pd.DataFrame({'y_test': y_test, 'y_pred_proba': y_pred_probs_lr, 'y_pred': y_pred_lr})\n",
    "bad_loans = pred_new[pred_new['y_pred_proba']>=0.066120]\n",
    "bad_loans['class_new']=1\n",
    "good_loans = pred_new[pred_new['y_pred_proba']<0.066120]\n",
    "good_loans['class_new']=0\n",
    "good_loans.reset_index(drop=True, inplace=True)\n",
    "bad_loans.reset_index(drop=True, inplace=True)\n",
    "pred_new_lr = pd.concat([good_loans, bad_loans], axis=0)\n",
    "print(pred_new_lr['class_new'].value_counts())\n",
    "\n",
    "#prediction_optimal(y_test, y_pred_probs_lr, y_pred_lr, 0.066120)\n",
    "print(pred_new_lr.head())\n",
    "print(pred_new_lr['class_new'].value_counts())"
   ]
  },
  {
   "cell_type": "code",
   "execution_count": 65,
   "id": "1dce558a",
   "metadata": {},
   "outputs": [
    {
     "data": {
      "text/plain": [
       "array([[94423, 58508],\n",
       "       [ 3023,  8647]], dtype=int64)"
      ]
     },
     "execution_count": 65,
     "metadata": {},
     "output_type": "execute_result"
    }
   ],
   "source": [
    "cm_lr = confusion_matrix(pred_new_lr['y_test'], pred_new_lr['class_new'])\n",
    "cm_lr\n",
    "\n",
    "# When using the optimal threshold value, the true positive and true negative \n",
    "# values are higher in the logistic regression model when compared to the Random Forest model."
   ]
  },
  {
   "attachments": {
    "image.png": {
     "image/png": "[encoded data removed]"
    }
   },
   "cell_type": "markdown",
   "id": "5a7e5235",
   "metadata": {},
   "source": [
    "When using the optimal threshold value, the true positive and true negative \n",
    "values are higher in the logistic regression model when compared to the Random Forest model. \n",
    "However, the Random Forest Model misses only 2693 bad loans, while the logistic regression misses 3023.\n",
    "\n",
    "This was the confusion matrix for the Random Forest Model.\n",
    "\n",
    "![image.png](attachment:image.png)"
   ]
  },
  {
   "cell_type": "code",
   "execution_count": null,
   "id": "301649d6",
   "metadata": {},
   "outputs": [],
   "source": []
  },
  {
   "cell_type": "markdown",
   "id": "3d7af69f",
   "metadata": {},
   "source": [
    "# Gradient Boosting"
   ]
  },
  {
   "cell_type": "code",
   "execution_count": 55,
   "id": "29226da9",
   "metadata": {},
   "outputs": [],
   "source": [
    "from sklearn.ensemble import GradientBoostingClassifier"
   ]
  },
  {
   "cell_type": "code",
   "execution_count": 43,
   "id": "bfbdf40a",
   "metadata": {},
   "outputs": [
    {
     "name": "stdout",
     "output_type": "stream",
     "text": [
      "n_estimators: 50 ROC/AUC Score: 0.7367474206952447\n",
      "n_estimators: 100 ROC/AUC Score: 0.7467116757355896\n",
      "n_estimators: 200 ROC/AUC Score: 0.757402074125683\n",
      "n_estimators: 400 ROC/AUC Score: 0.7638670215466505\n",
      "n_estimators: 600 ROC/AUC Score: 0.7668860388040538\n"
     ]
    }
   ],
   "source": [
    "#Searching for the best paramaters.\n",
    "# Unfortunately, I was not able to run Grid Search, Random Search or cross validation \n",
    "# because of the size of the data and the amount of processing power it requires.\n",
    "# Therefore, I had to manually run the Gradient Boosting model with varying \n",
    "# n_estimator and max_depth values.\n",
    "\n",
    "n = [50, 100, 200, 400, 600]\n",
    "for i in n:\n",
    "    gb = GradientBoostingClassifier(\n",
    "    n_estimators=i,\n",
    "    learning_rate=0.1,\n",
    "    max_depth=3)\n",
    "    gb.fit(X_train, y_train)\n",
    "    y_pred_gb = gb.predict(X_test)\n",
    "    y_pred_probs_gb = gb.predict_proba(X_test)[:,1]\n",
    "    fpr_gb, tpr_gb, thresholds_gb = roc_curve(y_test, y_pred_probs_gb)\n",
    "    print('n_estimators:', i, 'ROC/AUC Score:', roc_auc_score(y_test, y_pred_probs_gb))"
   ]
  },
  {
   "cell_type": "code",
   "execution_count": 49,
   "id": "76a4720f",
   "metadata": {},
   "outputs": [],
   "source": [
    "# The performance of the model seems to increase with increasing n_estimators value.\n",
    "# However, going beyond 600 for n_estimators will make the processing time very long. \n",
    "\n",
    "# Reducing the max_depth to 1 and increasing n_estimators to 800.\n",
    "\n",
    "gb = GradientBoostingClassifier(\n",
    "    n_estimators=800,\n",
    "    learning_rate=0.1,\n",
    "    max_depth=1)\n",
    "gb.fit(X_train, y_train)\n",
    "y_pred_gb = gb.predict(X_test)\n",
    "y_pred_probs_gb = gb.predict_proba(X_test)[:,1]"
   ]
  },
  {
   "cell_type": "code",
   "execution_count": 54,
   "id": "60e7b3e3",
   "metadata": {},
   "outputs": [
    {
     "name": "stdout",
     "output_type": "stream",
     "text": [
      "n_estimators: 800 ROC/AUC Score: 0.7284909506349334\n"
     ]
    }
   ],
   "source": [
    "fpr_gb, tpr_gb, thresholds_gb = roc_curve(y_test, y_pred_probs_gb)\n",
    "print('n_estimators:', 800, 'ROC/AUC Score:', roc_auc_score(y_test, y_pred_probs_gb))"
   ]
  },
  {
   "cell_type": "code",
   "execution_count": null,
   "id": "b428402e",
   "metadata": {},
   "outputs": [],
   "source": [
    "# In the end, I am choosing 600 for n_estimators and 3 for max_depth."
   ]
  },
  {
   "cell_type": "code",
   "execution_count": 56,
   "id": "d65a838b",
   "metadata": {},
   "outputs": [],
   "source": [
    "# Running Gradient Boosting Classifier with chosen parameters.\n",
    "\n",
    "gb = GradientBoostingClassifier(\n",
    "    n_estimators=600,\n",
    "    learning_rate=0.1,\n",
    "    max_depth=3)\n",
    "gb.fit(X_train, y_train)\n",
    "y_pred_gb = gb.predict(X_test)\n",
    "y_pred_probs_gb = gb.predict_proba(X_test)[:,1]"
   ]
  },
  {
   "cell_type": "code",
   "execution_count": 57,
   "id": "1bf295ae",
   "metadata": {},
   "outputs": [
    {
     "data": {
      "image/png": "[encoded data removed]",
      "text/plain": [
       "<Figure size 432x288 with 1 Axes>"
      ]
     },
     "metadata": {
      "needs_background": "light"
     },
     "output_type": "display_data"
    },
    {
     "name": "stdout",
     "output_type": "stream",
     "text": [
      "0.7668261420627009\n"
     ]
    }
   ],
   "source": [
    "fpr_gb, tpr_gb, thresholds_gb = roc_curve(y_test, y_pred_probs_gb)\n",
    "plt.plot([0,1], [0,1], 'k--')\n",
    "plt.plot(fpr_gb, tpr_gb)\n",
    "plt.xlabel('False Positive Rate')\n",
    "plt.ylabel('True Positive Rate')\n",
    "plt.title('Gradient Boosting Classification ROC Curve')\n",
    "plt.show()\n",
    "\n",
    "# ROC/AUC Score\n",
    "\n",
    "print(roc_auc_score(y_test, y_pred_probs_gb))\n",
    "\n",
    "# The ROC/AUC Score is a little bit less than that of the RandomForest Model"
   ]
  },
  {
   "cell_type": "code",
   "execution_count": 58,
   "id": "8df1cdff",
   "metadata": {},
   "outputs": [
    {
     "data": {
      "text/html": [
       "<div>\n",
       "<style scoped>\n",
       "    .dataframe tbody tr th:only-of-type {\n",
       "        vertical-align: middle;\n",
       "    }\n",
       "\n",
       "    .dataframe tbody tr th {\n",
       "        vertical-align: top;\n",
       "    }\n",
       "\n",
       "    .dataframe thead th {\n",
       "        text-align: right;\n",
       "    }\n",
       "</style>\n",
       "<table border=\"1\" class=\"dataframe\">\n",
       "  <thead>\n",
       "    <tr style=\"text-align: right;\">\n",
       "      <th></th>\n",
       "      <th>tpr</th>\n",
       "      <th>fpr</th>\n",
       "      <th>thresholds</th>\n",
       "      <th>tpr-fpr</th>\n",
       "    </tr>\n",
       "  </thead>\n",
       "  <tbody>\n",
       "    <tr>\n",
       "      <th>14171</th>\n",
       "      <td>0.723736</td>\n",
       "      <td>0.323937</td>\n",
       "      <td>0.073607</td>\n",
       "      <td>0.399799</td>\n",
       "    </tr>\n",
       "    <tr>\n",
       "      <th>14097</th>\n",
       "      <td>0.720394</td>\n",
       "      <td>0.320674</td>\n",
       "      <td>0.074145</td>\n",
       "      <td>0.399720</td>\n",
       "    </tr>\n",
       "    <tr>\n",
       "      <th>14103</th>\n",
       "      <td>0.720823</td>\n",
       "      <td>0.321112</td>\n",
       "      <td>0.074073</td>\n",
       "      <td>0.399710</td>\n",
       "    </tr>\n",
       "    <tr>\n",
       "      <th>14165</th>\n",
       "      <td>0.723393</td>\n",
       "      <td>0.323702</td>\n",
       "      <td>0.073642</td>\n",
       "      <td>0.399692</td>\n",
       "    </tr>\n",
       "    <tr>\n",
       "      <th>14169</th>\n",
       "      <td>0.723565</td>\n",
       "      <td>0.323878</td>\n",
       "      <td>0.073616</td>\n",
       "      <td>0.399687</td>\n",
       "    </tr>\n",
       "    <tr>\n",
       "      <th>...</th>\n",
       "      <td>...</td>\n",
       "      <td>...</td>\n",
       "      <td>...</td>\n",
       "      <td>...</td>\n",
       "    </tr>\n",
       "    <tr>\n",
       "      <th>2</th>\n",
       "      <td>0.000171</td>\n",
       "      <td>0.000000</td>\n",
       "      <td>0.843965</td>\n",
       "      <td>0.000171</td>\n",
       "    </tr>\n",
       "    <tr>\n",
       "      <th>3</th>\n",
       "      <td>0.000171</td>\n",
       "      <td>0.000033</td>\n",
       "      <td>0.778123</td>\n",
       "      <td>0.000139</td>\n",
       "    </tr>\n",
       "    <tr>\n",
       "      <th>1</th>\n",
       "      <td>0.000086</td>\n",
       "      <td>0.000000</td>\n",
       "      <td>0.944293</td>\n",
       "      <td>0.000086</td>\n",
       "    </tr>\n",
       "    <tr>\n",
       "      <th>0</th>\n",
       "      <td>0.000000</td>\n",
       "      <td>0.000000</td>\n",
       "      <td>1.944293</td>\n",
       "      <td>0.000000</td>\n",
       "    </tr>\n",
       "    <tr>\n",
       "      <th>21755</th>\n",
       "      <td>1.000000</td>\n",
       "      <td>1.000000</td>\n",
       "      <td>0.001676</td>\n",
       "      <td>0.000000</td>\n",
       "    </tr>\n",
       "  </tbody>\n",
       "</table>\n",
       "<p>21756 rows × 4 columns</p>\n",
       "</div>"
      ],
      "text/plain": [
       "            tpr       fpr  thresholds   tpr-fpr\n",
       "14171  0.723736  0.323937    0.073607  0.399799\n",
       "14097  0.720394  0.320674    0.074145  0.399720\n",
       "14103  0.720823  0.321112    0.074073  0.399710\n",
       "14165  0.723393  0.323702    0.073642  0.399692\n",
       "14169  0.723565  0.323878    0.073616  0.399687\n",
       "...         ...       ...         ...       ...\n",
       "2      0.000171  0.000000    0.843965  0.000171\n",
       "3      0.000171  0.000033    0.778123  0.000139\n",
       "1      0.000086  0.000000    0.944293  0.000086\n",
       "0      0.000000  0.000000    1.944293  0.000000\n",
       "21755  1.000000  1.000000    0.001676  0.000000\n",
       "\n",
       "[21756 rows x 4 columns]"
      ]
     },
     "execution_count": 58,
     "metadata": {},
     "output_type": "execute_result"
    }
   ],
   "source": [
    "# Finding the optimal threshold value\n",
    "\n",
    "optimal_thr(tpr_gb, fpr_gb, thresholds_gb)\n",
    "\n",
    "# The optimal threshold is 0.073607"
   ]
  },
  {
   "cell_type": "code",
   "execution_count": 59,
   "id": "b2f78f16",
   "metadata": {},
   "outputs": [
    {
     "name": "stdout",
     "output_type": "stream",
     "text": [
      "0    106615\n",
      "1     57986\n",
      "Name: class_new, dtype: int64\n",
      "   y_test  y_pred_proba  y_pred  class_new\n",
      "0       0      0.069084       0          0\n",
      "1       0      0.050554       0          0\n",
      "2       0      0.020303       0          0\n",
      "3       0      0.026304       0          0\n",
      "4       0      0.026025       0          0\n"
     ]
    },
    {
     "name": "stderr",
     "output_type": "stream",
     "text": [
      "C:\\Users\\meske\\AppData\\Local\\Temp/ipykernel_7756/2309046938.py:4: SettingWithCopyWarning: \n",
      "A value is trying to be set on a copy of a slice from a DataFrame.\n",
      "Try using .loc[row_indexer,col_indexer] = value instead\n",
      "\n",
      "See the caveats in the documentation: https://pandas.pydata.org/pandas-docs/stable/user_guide/indexing.html#returning-a-view-versus-a-copy\n",
      "  bad_loans['class_new']=1\n",
      "C:\\Users\\meske\\AppData\\Local\\Temp/ipykernel_7756/2309046938.py:6: SettingWithCopyWarning: \n",
      "A value is trying to be set on a copy of a slice from a DataFrame.\n",
      "Try using .loc[row_indexer,col_indexer] = value instead\n",
      "\n",
      "See the caveats in the documentation: https://pandas.pydata.org/pandas-docs/stable/user_guide/indexing.html#returning-a-view-versus-a-copy\n",
      "  good_loans['class_new']=0\n"
     ]
    }
   ],
   "source": [
    "# Making predictions using the optimal threshold value (using Prediction_optimal function defined a while back).\n",
    "pred_new_gb = pd.DataFrame({'y_test': y_test, 'y_pred_proba': y_pred_probs_gb, 'y_pred': y_pred_gb})\n",
    "bad_loans = pred_new_gb[pred_new_gb['y_pred_proba']>=0.073607]\n",
    "bad_loans['class_new']=1\n",
    "good_loans = pred_new_gb[pred_new_gb['y_pred_proba']<0.073607]\n",
    "good_loans['class_new']=0\n",
    "good_loans.reset_index(drop=True, inplace=True)\n",
    "bad_loans.reset_index(drop=True, inplace=True)\n",
    "pred_new_gb = pd.concat([good_loans, bad_loans], axis=0)\n",
    "print(pred_new_gb['class_new'].value_counts())\n",
    "print(pred_new_gb.head())"
   ]
  },
  {
   "cell_type": "code",
   "execution_count": 60,
   "id": "8e942546",
   "metadata": {},
   "outputs": [
    {
     "name": "stdout",
     "output_type": "stream",
     "text": [
      "Gradient Boosting Classification Confusion Matrix\n",
      "[[103391  49540]\n",
      " [  3224   8446]]\n"
     ]
    }
   ],
   "source": [
    "# Gradient Boosting Classification Confusion Matrix\n",
    "\n",
    "cm_gb = confusion_matrix(pred_new_gb['y_test'], pred_new_gb['class_new'])\n",
    "print('Gradient Boosting Classification Confusion Matrix')\n",
    "print(cm_gb)"
   ]
  },
  {
   "attachments": {
    "image-4.png": {
     "image/png": "[encoded data removed]"
    },
    "image-5.png": {
     "image/png": "[encoded data removed]"
    },
    "image-6.png": {
     "image/png": "[encoded data removed]"
    }
   },
   "cell_type": "markdown",
   "id": "b01d5928",
   "metadata": {},
   "source": [
    "For Comparison:\n",
    "\n",
    "Gradient Boosting ROC/AUC Score: ![image-5.png](attachment:image-5.png)\n",
    "\n",
    "Random Forest ROC/AUC Score: ![image-6.png](attachment:image-6.png)\n",
    "\n",
    "Logistic Regression ROC/AUC Score: ![image-4.png](attachment:image-4.png)\n"
   ]
  },
  {
   "cell_type": "markdown",
   "id": "ca50e309",
   "metadata": {},
   "source": [
    "# Choosing the optimal model"
   ]
  },
  {
   "cell_type": "markdown",
   "id": "2511dca3",
   "metadata": {},
   "source": [
    "The Logistic Regression model performs the best."
   ]
  },
  {
   "cell_type": "code",
   "execution_count": 66,
   "id": "649c74d1",
   "metadata": {},
   "outputs": [],
   "source": []
  }
 ],
 "metadata": {
  "kernelspec": {
   "display_name": "Python 3 (ipykernel)",
   "language": "python",
   "name": "python3"
  },
  "language_info": {
   "codemirror_mode": {
    "name": "ipython",
    "version": 3
   },
   "file_extension": ".py",
   "mimetype": "text/x-python",
   "name": "python",
   "nbconvert_exporter": "python",
   "pygments_lexer": "ipython3",
   "version": "3.9.7"
  }
 },
 "nbformat": 4,
 "nbformat_minor": 5
}
