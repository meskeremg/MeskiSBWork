{
 "cells": [
  {
   "cell_type": "markdown",
   "id": "b35aa7b9",
   "metadata": {},
   "source": [
    "# Exploratory Data Analysis - LendingClub Loan Listings Data\n",
    "\n",
    "Meskerem Goshime\n",
    "\n",
    "Data Source: https://www.kaggle.com/datasets/husainsb/lendingclub-issued-loans\n",
    "\n",
    "“LendingClub is a US peer-to-peer lending company, headquartered in San Francisco, California.” The company “enables borrowers to create unsecured personal loans between  1,000𝑎𝑛𝑑 40,000. The standard loan period is three years. Investors can search and browse the loan listings on Lending Club website and select loans that they want to invest in based on the information supplied about the borrower, amount of loan, loan grade, and loan purpose. Investors make money from interest. Lending Club makes money by charging borrowers an origination fee and investors a service fee.” (source: https://www.kaggle.com/datasets/husainsb/lendingclub-issued-loans?select=lc_2016_2017.csv)​\n",
    "\n",
    "This study aims to help LendingClub in making informed lending decisions and investors make informed investment decisions"
   ]
  },
  {
   "cell_type": "code",
   "execution_count": 158,
   "id": "04d7b293",
   "metadata": {},
   "outputs": [],
   "source": [
    "#import packages\n",
    "import numpy as np\n",
    "import pandas as pd\n",
    "import matplotlib.pyplot as plt\n",
    "import seaborn as sns\n"
   ]
  },
  {
   "cell_type": "code",
   "execution_count": 159,
   "id": "39570a73",
   "metadata": {},
   "outputs": [],
   "source": [
    "#Load data\n",
    "df = pd.read_csv('../data/interim/Loan_cleaned.csv')"
   ]
  },
  {
   "cell_type": "code",
   "execution_count": 160,
   "id": "7adf228a",
   "metadata": {},
   "outputs": [
    {
     "data": {
      "text/html": [
       "<div>\n",
       "<style scoped>\n",
       "    .dataframe tbody tr th:only-of-type {\n",
       "        vertical-align: middle;\n",
       "    }\n",
       "\n",
       "    .dataframe tbody tr th {\n",
       "        vertical-align: top;\n",
       "    }\n",
       "\n",
       "    .dataframe thead th {\n",
       "        text-align: right;\n",
       "    }\n",
       "</style>\n",
       "<table border=\"1\" class=\"dataframe\">\n",
       "  <thead>\n",
       "    <tr style=\"text-align: right;\">\n",
       "      <th></th>\n",
       "      <th>id</th>\n",
       "      <th>loan_amnt</th>\n",
       "      <th>funded_amnt</th>\n",
       "      <th>funded_amnt_inv</th>\n",
       "      <th>term</th>\n",
       "      <th>int_rate</th>\n",
       "      <th>installment</th>\n",
       "      <th>grade</th>\n",
       "      <th>sub_grade</th>\n",
       "      <th>emp_length</th>\n",
       "      <th>...</th>\n",
       "      <th>total_rec_int</th>\n",
       "      <th>total_rec_late_fee</th>\n",
       "      <th>recoveries</th>\n",
       "      <th>collection_recovery_fee</th>\n",
       "      <th>last_pymnt_d</th>\n",
       "      <th>last_pymnt_amnt</th>\n",
       "      <th>last_credit_pull_d</th>\n",
       "      <th>collections_12_mths_ex_med</th>\n",
       "      <th>application_type</th>\n",
       "      <th>acc_now_delinq</th>\n",
       "    </tr>\n",
       "  </thead>\n",
       "  <tbody>\n",
       "    <tr>\n",
       "      <th>0</th>\n",
       "      <td>1077501</td>\n",
       "      <td>5000.0</td>\n",
       "      <td>5000.0</td>\n",
       "      <td>4975.0</td>\n",
       "      <td>36 months</td>\n",
       "      <td>10.65</td>\n",
       "      <td>162.87</td>\n",
       "      <td>B</td>\n",
       "      <td>B2</td>\n",
       "      <td>10+ years</td>\n",
       "      <td>...</td>\n",
       "      <td>861.07</td>\n",
       "      <td>0.0</td>\n",
       "      <td>0.00</td>\n",
       "      <td>0.00</td>\n",
       "      <td>Jan-2015</td>\n",
       "      <td>171.62</td>\n",
       "      <td>Jan-2016</td>\n",
       "      <td>0.0</td>\n",
       "      <td>INDIVIDUAL</td>\n",
       "      <td>0.0</td>\n",
       "    </tr>\n",
       "    <tr>\n",
       "      <th>1</th>\n",
       "      <td>1077430</td>\n",
       "      <td>2500.0</td>\n",
       "      <td>2500.0</td>\n",
       "      <td>2500.0</td>\n",
       "      <td>60 months</td>\n",
       "      <td>15.27</td>\n",
       "      <td>59.83</td>\n",
       "      <td>C</td>\n",
       "      <td>C4</td>\n",
       "      <td>&lt; 1 year</td>\n",
       "      <td>...</td>\n",
       "      <td>435.17</td>\n",
       "      <td>0.0</td>\n",
       "      <td>117.08</td>\n",
       "      <td>1.11</td>\n",
       "      <td>Apr-2013</td>\n",
       "      <td>119.66</td>\n",
       "      <td>Sep-2013</td>\n",
       "      <td>0.0</td>\n",
       "      <td>INDIVIDUAL</td>\n",
       "      <td>0.0</td>\n",
       "    </tr>\n",
       "    <tr>\n",
       "      <th>2</th>\n",
       "      <td>1077175</td>\n",
       "      <td>2400.0</td>\n",
       "      <td>2400.0</td>\n",
       "      <td>2400.0</td>\n",
       "      <td>36 months</td>\n",
       "      <td>15.96</td>\n",
       "      <td>84.33</td>\n",
       "      <td>C</td>\n",
       "      <td>C5</td>\n",
       "      <td>10+ years</td>\n",
       "      <td>...</td>\n",
       "      <td>603.65</td>\n",
       "      <td>0.0</td>\n",
       "      <td>0.00</td>\n",
       "      <td>0.00</td>\n",
       "      <td>Jun-2014</td>\n",
       "      <td>649.91</td>\n",
       "      <td>Jan-2016</td>\n",
       "      <td>0.0</td>\n",
       "      <td>INDIVIDUAL</td>\n",
       "      <td>0.0</td>\n",
       "    </tr>\n",
       "  </tbody>\n",
       "</table>\n",
       "<p>3 rows × 44 columns</p>\n",
       "</div>"
      ],
      "text/plain": [
       "        id  loan_amnt  funded_amnt  funded_amnt_inv        term  int_rate  \\\n",
       "0  1077501     5000.0       5000.0           4975.0   36 months     10.65   \n",
       "1  1077430     2500.0       2500.0           2500.0   60 months     15.27   \n",
       "2  1077175     2400.0       2400.0           2400.0   36 months     15.96   \n",
       "\n",
       "   installment grade sub_grade emp_length  ... total_rec_int  \\\n",
       "0       162.87     B        B2  10+ years  ...        861.07   \n",
       "1        59.83     C        C4   < 1 year  ...        435.17   \n",
       "2        84.33     C        C5  10+ years  ...        603.65   \n",
       "\n",
       "   total_rec_late_fee recoveries collection_recovery_fee last_pymnt_d  \\\n",
       "0                 0.0       0.00                    0.00     Jan-2015   \n",
       "1                 0.0     117.08                    1.11     Apr-2013   \n",
       "2                 0.0       0.00                    0.00     Jun-2014   \n",
       "\n",
       "  last_pymnt_amnt last_credit_pull_d collections_12_mths_ex_med  \\\n",
       "0          171.62           Jan-2016                        0.0   \n",
       "1          119.66           Sep-2013                        0.0   \n",
       "2          649.91           Jan-2016                        0.0   \n",
       "\n",
       "  application_type  acc_now_delinq  \n",
       "0       INDIVIDUAL             0.0  \n",
       "1       INDIVIDUAL             0.0  \n",
       "2       INDIVIDUAL             0.0  \n",
       "\n",
       "[3 rows x 44 columns]"
      ]
     },
     "execution_count": 160,
     "metadata": {},
     "output_type": "execute_result"
    }
   ],
   "source": [
    "# Continue data cleaning\n",
    "df.head(3)"
   ]
  },
  {
   "cell_type": "code",
   "execution_count": 161,
   "id": "e32b9a93",
   "metadata": {},
   "outputs": [
    {
     "data": {
      "text/plain": [
       "(887379, 44)"
      ]
     },
     "execution_count": 161,
     "metadata": {},
     "output_type": "execute_result"
    }
   ],
   "source": [
    "df.shape"
   ]
  },
  {
   "cell_type": "code",
   "execution_count": 162,
   "id": "de667f24",
   "metadata": {
    "scrolled": false
   },
   "outputs": [
    {
     "data": {
      "text/plain": [
       "Current               601779\n",
       "Fully Paid            209711\n",
       "Charged Off            46009\n",
       "Late (31-120 days)     11591\n",
       "Issued                  8460\n",
       "In Grace Period         6253\n",
       "Late (16-30 days)       2357\n",
       "Default                 1219\n",
       "Name: loan_status, dtype: int64"
      ]
     },
     "execution_count": 162,
     "metadata": {},
     "output_type": "execute_result"
    }
   ],
   "source": [
    "# This will be my target variable. I will leave it as is for now.\n",
    "df['loan_status'].value_counts()"
   ]
  },
  {
   "cell_type": "code",
   "execution_count": 163,
   "id": "e644a977",
   "metadata": {},
   "outputs": [
    {
     "data": {
      "text/plain": [
       "36    621125\n",
       "60    266254\n",
       "Name: term, dtype: int64"
      ]
     },
     "execution_count": 163,
     "metadata": {},
     "output_type": "execute_result"
    }
   ],
   "source": [
    "# converting the term column to numeric values.\n",
    "\n",
    "df['term'] = df['term'].replace(to_replace = \" 36 months\", value =36)\n",
    "df['term'] = df['term'].replace(to_replace = \" 60 months\", value =60)\n",
    "df['term'].value_counts()"
   ]
  },
  {
   "cell_type": "code",
   "execution_count": 164,
   "id": "ff88191b",
   "metadata": {},
   "outputs": [],
   "source": [
    "# Converting emp_length to numeric.\n",
    "df['emp_length'] = df['emp_length'].replace(['< 1 year', '1 year', '2 years', '3 years', '4 years', '5 years', '6 years', '7 years', '8 years', '9 years', '10+ years'],\n",
    "                                            [0, 1, 2, 3, 4, 5, 6, 7, 8, 9, 10])\n"
   ]
  },
  {
   "cell_type": "code",
   "execution_count": 165,
   "id": "c48b8a15",
   "metadata": {
    "scrolled": true
   },
   "outputs": [
    {
     "data": {
      "text/plain": [
       "2    254535\n",
       "3    245860\n",
       "1    148202\n",
       "4    139542\n",
       "5     70705\n",
       "6     23046\n",
       "7      5489\n",
       "Name: grade, dtype: int64"
      ]
     },
     "execution_count": 165,
     "metadata": {},
     "output_type": "execute_result"
    }
   ],
   "source": [
    "# Converting the grade column to numeric values.\n",
    "df['grade'] = df['grade'].replace(['A', 'B', 'C', 'D', 'E', 'F', 'G'], [1, 2, 3, 4, 5, 6, 7])\n",
    "df['grade'].value_counts()"
   ]
  },
  {
   "cell_type": "code",
   "execution_count": 166,
   "id": "182fe2e9",
   "metadata": {},
   "outputs": [
    {
     "data": {
      "text/plain": [
       "id                            0\n",
       "loan_amnt                     0\n",
       "funded_amnt                   0\n",
       "funded_amnt_inv               0\n",
       "term                          0\n",
       "int_rate                      0\n",
       "installment                   0\n",
       "grade                         0\n",
       "sub_grade                     0\n",
       "emp_length                    0\n",
       "home_ownership                0\n",
       "annual_inc                    0\n",
       "verification_status           0\n",
       "issue_d                       0\n",
       "loan_status                   0\n",
       "pymnt_plan                    0\n",
       "purpose                       0\n",
       "zip_code                      0\n",
       "addr_state                    0\n",
       "dti                           0\n",
       "delinq_2yrs                   0\n",
       "earliest_cr_line              0\n",
       "inq_last_6mths                0\n",
       "open_acc                      0\n",
       "pub_rec                       0\n",
       "revol_bal                     0\n",
       "revol_util                    0\n",
       "total_acc                     0\n",
       "initial_list_status           0\n",
       "out_prncp                     0\n",
       "out_prncp_inv                 0\n",
       "total_pymnt                   0\n",
       "total_pymnt_inv               0\n",
       "total_rec_prncp               0\n",
       "total_rec_int                 0\n",
       "total_rec_late_fee            0\n",
       "recoveries                    0\n",
       "collection_recovery_fee       0\n",
       "last_pymnt_d                  0\n",
       "last_pymnt_amnt               0\n",
       "last_credit_pull_d            0\n",
       "collections_12_mths_ex_med    0\n",
       "application_type              0\n",
       "acc_now_delinq                0\n",
       "dtype: int64"
      ]
     },
     "execution_count": 166,
     "metadata": {},
     "output_type": "execute_result"
    }
   ],
   "source": [
    "# Dropping rows with null values\n",
    "df = df.dropna()\n",
    "df.isna().sum()"
   ]
  },
  {
   "cell_type": "code",
   "execution_count": 167,
   "id": "1c069ea4",
   "metadata": {
    "scrolled": true
   },
   "outputs": [
    {
     "name": "stdout",
     "output_type": "stream",
     "text": [
      "<class 'pandas.core.frame.DataFrame'>\n",
      "Int64Index: 825482 entries, 0 to 887378\n",
      "Data columns (total 44 columns):\n",
      " #   Column                      Non-Null Count   Dtype  \n",
      "---  ------                      --------------   -----  \n",
      " 0   id                          825482 non-null  int64  \n",
      " 1   loan_amnt                   825482 non-null  float64\n",
      " 2   funded_amnt                 825482 non-null  float64\n",
      " 3   funded_amnt_inv             825482 non-null  float64\n",
      " 4   term                        825482 non-null  int64  \n",
      " 5   int_rate                    825482 non-null  float64\n",
      " 6   installment                 825482 non-null  float64\n",
      " 7   grade                       825482 non-null  int64  \n",
      " 8   sub_grade                   825482 non-null  object \n",
      " 9   emp_length                  825482 non-null  float64\n",
      " 10  home_ownership              825482 non-null  object \n",
      " 11  annual_inc                  825482 non-null  float64\n",
      " 12  verification_status         825482 non-null  object \n",
      " 13  issue_d                     825482 non-null  object \n",
      " 14  loan_status                 825482 non-null  object \n",
      " 15  pymnt_plan                  825482 non-null  object \n",
      " 16  purpose                     825482 non-null  object \n",
      " 17  zip_code                    825482 non-null  object \n",
      " 18  addr_state                  825482 non-null  object \n",
      " 19  dti                         825482 non-null  float64\n",
      " 20  delinq_2yrs                 825482 non-null  float64\n",
      " 21  earliest_cr_line            825482 non-null  object \n",
      " 22  inq_last_6mths              825482 non-null  float64\n",
      " 23  open_acc                    825482 non-null  float64\n",
      " 24  pub_rec                     825482 non-null  float64\n",
      " 25  revol_bal                   825482 non-null  float64\n",
      " 26  revol_util                  825482 non-null  float64\n",
      " 27  total_acc                   825482 non-null  float64\n",
      " 28  initial_list_status         825482 non-null  object \n",
      " 29  out_prncp                   825482 non-null  float64\n",
      " 30  out_prncp_inv               825482 non-null  float64\n",
      " 31  total_pymnt                 825482 non-null  float64\n",
      " 32  total_pymnt_inv             825482 non-null  float64\n",
      " 33  total_rec_prncp             825482 non-null  float64\n",
      " 34  total_rec_int               825482 non-null  float64\n",
      " 35  total_rec_late_fee          825482 non-null  float64\n",
      " 36  recoveries                  825482 non-null  float64\n",
      " 37  collection_recovery_fee     825482 non-null  float64\n",
      " 38  last_pymnt_d                825482 non-null  object \n",
      " 39  last_pymnt_amnt             825482 non-null  float64\n",
      " 40  last_credit_pull_d          825482 non-null  object \n",
      " 41  collections_12_mths_ex_med  825482 non-null  float64\n",
      " 42  application_type            825482 non-null  object \n",
      " 43  acc_now_delinq              825482 non-null  float64\n",
      "dtypes: float64(27), int64(3), object(14)\n",
      "memory usage: 283.4+ MB\n"
     ]
    }
   ],
   "source": [
    "df.info()"
   ]
  },
  {
   "cell_type": "code",
   "execution_count": 168,
   "id": "92b7d840",
   "metadata": {},
   "outputs": [
    {
     "data": {
      "text/html": [
       "<div>\n",
       "<style scoped>\n",
       "    .dataframe tbody tr th:only-of-type {\n",
       "        vertical-align: middle;\n",
       "    }\n",
       "\n",
       "    .dataframe tbody tr th {\n",
       "        vertical-align: top;\n",
       "    }\n",
       "\n",
       "    .dataframe thead th {\n",
       "        text-align: right;\n",
       "    }\n",
       "</style>\n",
       "<table border=\"1\" class=\"dataframe\">\n",
       "  <thead>\n",
       "    <tr style=\"text-align: right;\">\n",
       "      <th></th>\n",
       "      <th>loan_amnt</th>\n",
       "      <th>term</th>\n",
       "      <th>int_rate</th>\n",
       "      <th>installment</th>\n",
       "      <th>grade</th>\n",
       "      <th>emp_length</th>\n",
       "      <th>annual_inc</th>\n",
       "      <th>dti</th>\n",
       "      <th>delinq_2yrs</th>\n",
       "      <th>inq_last_6mths</th>\n",
       "      <th>...</th>\n",
       "      <th>total_pymnt</th>\n",
       "      <th>total_pymnt_inv</th>\n",
       "      <th>total_rec_prncp</th>\n",
       "      <th>total_rec_int</th>\n",
       "      <th>total_rec_late_fee</th>\n",
       "      <th>recoveries</th>\n",
       "      <th>collection_recovery_fee</th>\n",
       "      <th>last_pymnt_amnt</th>\n",
       "      <th>collections_12_mths_ex_med</th>\n",
       "      <th>acc_now_delinq</th>\n",
       "    </tr>\n",
       "  </thead>\n",
       "  <tbody>\n",
       "    <tr>\n",
       "      <th>loan_amnt</th>\n",
       "      <td>1.000000</td>\n",
       "      <td>0.408105</td>\n",
       "      <td>0.149709</td>\n",
       "      <td>0.944134</td>\n",
       "      <td>0.155832</td>\n",
       "      <td>0.106380</td>\n",
       "      <td>0.326205</td>\n",
       "      <td>0.046469</td>\n",
       "      <td>-0.001885</td>\n",
       "      <td>-0.035108</td>\n",
       "      <td>...</td>\n",
       "      <td>0.481388</td>\n",
       "      <td>0.482442</td>\n",
       "      <td>0.394501</td>\n",
       "      <td>0.541800</td>\n",
       "      <td>0.031466</td>\n",
       "      <td>0.073925</td>\n",
       "      <td>0.052267</td>\n",
       "      <td>0.230415</td>\n",
       "      <td>-0.016375</td>\n",
       "      <td>0.003156</td>\n",
       "    </tr>\n",
       "    <tr>\n",
       "      <th>term</th>\n",
       "      <td>0.408105</td>\n",
       "      <td>1.000000</td>\n",
       "      <td>0.433304</td>\n",
       "      <td>0.138958</td>\n",
       "      <td>0.448350</td>\n",
       "      <td>0.068953</td>\n",
       "      <td>0.051867</td>\n",
       "      <td>0.111411</td>\n",
       "      <td>-0.001617</td>\n",
       "      <td>-0.005322</td>\n",
       "      <td>...</td>\n",
       "      <td>0.080466</td>\n",
       "      <td>0.082209</td>\n",
       "      <td>-0.030768</td>\n",
       "      <td>0.387304</td>\n",
       "      <td>0.004381</td>\n",
       "      <td>0.058292</td>\n",
       "      <td>0.036316</td>\n",
       "      <td>0.070348</td>\n",
       "      <td>-0.005175</td>\n",
       "      <td>0.004784</td>\n",
       "    </tr>\n",
       "    <tr>\n",
       "      <th>int_rate</th>\n",
       "      <td>0.149709</td>\n",
       "      <td>0.433304</td>\n",
       "      <td>1.000000</td>\n",
       "      <td>0.136518</td>\n",
       "      <td>0.953967</td>\n",
       "      <td>0.010064</td>\n",
       "      <td>-0.072268</td>\n",
       "      <td>0.162611</td>\n",
       "      <td>0.055793</td>\n",
       "      <td>0.228113</td>\n",
       "      <td>...</td>\n",
       "      <td>0.173147</td>\n",
       "      <td>0.174134</td>\n",
       "      <td>0.054691</td>\n",
       "      <td>0.454418</td>\n",
       "      <td>0.057754</td>\n",
       "      <td>0.108739</td>\n",
       "      <td>0.071332</td>\n",
       "      <td>0.102689</td>\n",
       "      <td>0.013540</td>\n",
       "      <td>0.026804</td>\n",
       "    </tr>\n",
       "    <tr>\n",
       "      <th>installment</th>\n",
       "      <td>0.944134</td>\n",
       "      <td>0.138958</td>\n",
       "      <td>0.136518</td>\n",
       "      <td>1.000000</td>\n",
       "      <td>0.132519</td>\n",
       "      <td>0.090830</td>\n",
       "      <td>0.320606</td>\n",
       "      <td>0.031326</td>\n",
       "      <td>0.006412</td>\n",
       "      <td>-0.003946</td>\n",
       "      <td>...</td>\n",
       "      <td>0.522720</td>\n",
       "      <td>0.523592</td>\n",
       "      <td>0.455082</td>\n",
       "      <td>0.504912</td>\n",
       "      <td>0.042045</td>\n",
       "      <td>0.074988</td>\n",
       "      <td>0.054078</td>\n",
       "      <td>0.239808</td>\n",
       "      <td>-0.013769</td>\n",
       "      <td>0.005836</td>\n",
       "    </tr>\n",
       "    <tr>\n",
       "      <th>grade</th>\n",
       "      <td>0.155832</td>\n",
       "      <td>0.448350</td>\n",
       "      <td>0.953967</td>\n",
       "      <td>0.132519</td>\n",
       "      <td>1.000000</td>\n",
       "      <td>0.005267</td>\n",
       "      <td>-0.063571</td>\n",
       "      <td>0.169300</td>\n",
       "      <td>0.060265</td>\n",
       "      <td>0.216127</td>\n",
       "      <td>...</td>\n",
       "      <td>0.088412</td>\n",
       "      <td>0.086985</td>\n",
       "      <td>-0.023410</td>\n",
       "      <td>0.386923</td>\n",
       "      <td>0.053928</td>\n",
       "      <td>0.093130</td>\n",
       "      <td>0.064704</td>\n",
       "      <td>0.067576</td>\n",
       "      <td>0.019895</td>\n",
       "      <td>0.028240</td>\n",
       "    </tr>\n",
       "    <tr>\n",
       "      <th>emp_length</th>\n",
       "      <td>0.106380</td>\n",
       "      <td>0.068953</td>\n",
       "      <td>0.010064</td>\n",
       "      <td>0.090830</td>\n",
       "      <td>0.005267</td>\n",
       "      <td>1.000000</td>\n",
       "      <td>0.064145</td>\n",
       "      <td>0.044093</td>\n",
       "      <td>0.025486</td>\n",
       "      <td>-0.011210</td>\n",
       "      <td>...</td>\n",
       "      <td>0.050858</td>\n",
       "      <td>0.052950</td>\n",
       "      <td>0.037763</td>\n",
       "      <td>0.070302</td>\n",
       "      <td>-0.009514</td>\n",
       "      <td>0.004414</td>\n",
       "      <td>0.002959</td>\n",
       "      <td>0.028677</td>\n",
       "      <td>-0.003864</td>\n",
       "      <td>0.009118</td>\n",
       "    </tr>\n",
       "    <tr>\n",
       "      <th>annual_inc</th>\n",
       "      <td>0.326205</td>\n",
       "      <td>0.051867</td>\n",
       "      <td>-0.072268</td>\n",
       "      <td>0.320606</td>\n",
       "      <td>-0.063571</td>\n",
       "      <td>0.064145</td>\n",
       "      <td>1.000000</td>\n",
       "      <td>-0.177764</td>\n",
       "      <td>0.046268</td>\n",
       "      <td>0.035400</td>\n",
       "      <td>...</td>\n",
       "      <td>0.158891</td>\n",
       "      <td>0.158891</td>\n",
       "      <td>0.148058</td>\n",
       "      <td>0.125862</td>\n",
       "      <td>0.012949</td>\n",
       "      <td>0.006723</td>\n",
       "      <td>0.006048</td>\n",
       "      <td>0.088899</td>\n",
       "      <td>-0.003524</td>\n",
       "      <td>0.014737</td>\n",
       "    </tr>\n",
       "    <tr>\n",
       "      <th>dti</th>\n",
       "      <td>0.046469</td>\n",
       "      <td>0.111411</td>\n",
       "      <td>0.162611</td>\n",
       "      <td>0.031326</td>\n",
       "      <td>0.169300</td>\n",
       "      <td>0.044093</td>\n",
       "      <td>-0.177764</td>\n",
       "      <td>1.000000</td>\n",
       "      <td>-0.008409</td>\n",
       "      <td>-0.017492</td>\n",
       "      <td>...</td>\n",
       "      <td>-0.080545</td>\n",
       "      <td>-0.078066</td>\n",
       "      <td>-0.103489</td>\n",
       "      <td>0.024637</td>\n",
       "      <td>-0.010809</td>\n",
       "      <td>0.004025</td>\n",
       "      <td>0.005380</td>\n",
       "      <td>-0.057900</td>\n",
       "      <td>-0.000205</td>\n",
       "      <td>0.007177</td>\n",
       "    </tr>\n",
       "    <tr>\n",
       "      <th>delinq_2yrs</th>\n",
       "      <td>-0.001885</td>\n",
       "      <td>-0.001617</td>\n",
       "      <td>0.055793</td>\n",
       "      <td>0.006412</td>\n",
       "      <td>0.060265</td>\n",
       "      <td>0.025486</td>\n",
       "      <td>0.046268</td>\n",
       "      <td>-0.008409</td>\n",
       "      <td>1.000000</td>\n",
       "      <td>0.020329</td>\n",
       "      <td>...</td>\n",
       "      <td>-0.033950</td>\n",
       "      <td>-0.033477</td>\n",
       "      <td>-0.040346</td>\n",
       "      <td>0.000546</td>\n",
       "      <td>0.017106</td>\n",
       "      <td>-0.001155</td>\n",
       "      <td>0.000743</td>\n",
       "      <td>-0.020496</td>\n",
       "      <td>0.063029</td>\n",
       "      <td>0.130085</td>\n",
       "    </tr>\n",
       "    <tr>\n",
       "      <th>inq_last_6mths</th>\n",
       "      <td>-0.035108</td>\n",
       "      <td>-0.005322</td>\n",
       "      <td>0.228113</td>\n",
       "      <td>-0.003946</td>\n",
       "      <td>0.216127</td>\n",
       "      <td>-0.011210</td>\n",
       "      <td>0.035400</td>\n",
       "      <td>-0.017492</td>\n",
       "      <td>0.020329</td>\n",
       "      <td>1.000000</td>\n",
       "      <td>...</td>\n",
       "      <td>0.078355</td>\n",
       "      <td>0.074424</td>\n",
       "      <td>0.062678</td>\n",
       "      <td>0.086377</td>\n",
       "      <td>0.031270</td>\n",
       "      <td>0.045961</td>\n",
       "      <td>0.034102</td>\n",
       "      <td>0.060395</td>\n",
       "      <td>0.006177</td>\n",
       "      <td>-0.005661</td>\n",
       "    </tr>\n",
       "    <tr>\n",
       "      <th>open_acc</th>\n",
       "      <td>0.191973</td>\n",
       "      <td>0.081855</td>\n",
       "      <td>-0.007349</td>\n",
       "      <td>0.177509</td>\n",
       "      <td>0.003090</td>\n",
       "      <td>0.038963</td>\n",
       "      <td>0.132410</td>\n",
       "      <td>0.305586</td>\n",
       "      <td>0.050613</td>\n",
       "      <td>0.109801</td>\n",
       "      <td>...</td>\n",
       "      <td>0.039782</td>\n",
       "      <td>0.041088</td>\n",
       "      <td>0.028206</td>\n",
       "      <td>0.059628</td>\n",
       "      <td>-0.009964</td>\n",
       "      <td>0.001312</td>\n",
       "      <td>0.003085</td>\n",
       "      <td>0.026429</td>\n",
       "      <td>0.009869</td>\n",
       "      <td>0.017499</td>\n",
       "    </tr>\n",
       "    <tr>\n",
       "      <th>pub_rec</th>\n",
       "      <td>-0.075887</td>\n",
       "      <td>-0.021501</td>\n",
       "      <td>0.052925</td>\n",
       "      <td>-0.064926</td>\n",
       "      <td>0.060798</td>\n",
       "      <td>0.032395</td>\n",
       "      <td>-0.002771</td>\n",
       "      <td>-0.048538</td>\n",
       "      <td>-0.009342</td>\n",
       "      <td>0.057020</td>\n",
       "      <td>...</td>\n",
       "      <td>-0.085180</td>\n",
       "      <td>-0.084401</td>\n",
       "      <td>-0.082073</td>\n",
       "      <td>-0.056961</td>\n",
       "      <td>-0.011179</td>\n",
       "      <td>-0.013708</td>\n",
       "      <td>-0.008150</td>\n",
       "      <td>-0.032166</td>\n",
       "      <td>0.021814</td>\n",
       "      <td>-0.000256</td>\n",
       "    </tr>\n",
       "    <tr>\n",
       "      <th>revol_bal</th>\n",
       "      <td>0.330950</td>\n",
       "      <td>0.088328</td>\n",
       "      <td>-0.034261</td>\n",
       "      <td>0.314061</td>\n",
       "      <td>-0.028386</td>\n",
       "      <td>0.086933</td>\n",
       "      <td>0.293777</td>\n",
       "      <td>0.140344</td>\n",
       "      <td>-0.033686</td>\n",
       "      <td>-0.017261</td>\n",
       "      <td>...</td>\n",
       "      <td>0.138875</td>\n",
       "      <td>0.138296</td>\n",
       "      <td>0.120262</td>\n",
       "      <td>0.138077</td>\n",
       "      <td>0.002038</td>\n",
       "      <td>0.010271</td>\n",
       "      <td>0.007900</td>\n",
       "      <td>0.058229</td>\n",
       "      <td>-0.022322</td>\n",
       "      <td>-0.000896</td>\n",
       "    </tr>\n",
       "    <tr>\n",
       "      <th>revol_util</th>\n",
       "      <td>0.117280</td>\n",
       "      <td>0.084612</td>\n",
       "      <td>0.268269</td>\n",
       "      <td>0.129345</td>\n",
       "      <td>0.245165</td>\n",
       "      <td>0.035024</td>\n",
       "      <td>0.033416</td>\n",
       "      <td>0.179965</td>\n",
       "      <td>-0.017702</td>\n",
       "      <td>-0.088446</td>\n",
       "      <td>...</td>\n",
       "      <td>0.078468</td>\n",
       "      <td>0.079764</td>\n",
       "      <td>0.033375</td>\n",
       "      <td>0.182720</td>\n",
       "      <td>0.022062</td>\n",
       "      <td>0.029136</td>\n",
       "      <td>0.019013</td>\n",
       "      <td>-0.003686</td>\n",
       "      <td>-0.035715</td>\n",
       "      <td>-0.027113</td>\n",
       "    </tr>\n",
       "    <tr>\n",
       "      <th>total_acc</th>\n",
       "      <td>0.220120</td>\n",
       "      <td>0.100539</td>\n",
       "      <td>-0.035693</td>\n",
       "      <td>0.197736</td>\n",
       "      <td>-0.030890</td>\n",
       "      <td>0.102680</td>\n",
       "      <td>0.185036</td>\n",
       "      <td>0.229499</td>\n",
       "      <td>0.121688</td>\n",
       "      <td>0.134256</td>\n",
       "      <td>...</td>\n",
       "      <td>0.109186</td>\n",
       "      <td>0.110196</td>\n",
       "      <td>0.099752</td>\n",
       "      <td>0.091863</td>\n",
       "      <td>-0.005075</td>\n",
       "      <td>0.009473</td>\n",
       "      <td>0.010199</td>\n",
       "      <td>0.086465</td>\n",
       "      <td>0.009318</td>\n",
       "      <td>0.026359</td>\n",
       "    </tr>\n",
       "    <tr>\n",
       "      <th>out_prncp</th>\n",
       "      <td>0.640055</td>\n",
       "      <td>0.393800</td>\n",
       "      <td>0.045876</td>\n",
       "      <td>0.538921</td>\n",
       "      <td>0.120833</td>\n",
       "      <td>0.074782</td>\n",
       "      <td>0.205611</td>\n",
       "      <td>0.123122</td>\n",
       "      <td>0.031940</td>\n",
       "      <td>-0.108621</td>\n",
       "      <td>...</td>\n",
       "      <td>-0.286978</td>\n",
       "      <td>-0.283321</td>\n",
       "      <td>-0.372574</td>\n",
       "      <td>0.124452</td>\n",
       "      <td>-0.032689</td>\n",
       "      <td>-0.111481</td>\n",
       "      <td>-0.076385</td>\n",
       "      <td>-0.335123</td>\n",
       "      <td>0.016753</td>\n",
       "      <td>0.012334</td>\n",
       "    </tr>\n",
       "    <tr>\n",
       "      <th>out_prncp_inv</th>\n",
       "      <td>0.640056</td>\n",
       "      <td>0.393757</td>\n",
       "      <td>0.045741</td>\n",
       "      <td>0.538916</td>\n",
       "      <td>0.120692</td>\n",
       "      <td>0.074790</td>\n",
       "      <td>0.205650</td>\n",
       "      <td>0.123047</td>\n",
       "      <td>0.031931</td>\n",
       "      <td>-0.108640</td>\n",
       "      <td>...</td>\n",
       "      <td>-0.286971</td>\n",
       "      <td>-0.283307</td>\n",
       "      <td>-0.372568</td>\n",
       "      <td>0.124464</td>\n",
       "      <td>-0.032694</td>\n",
       "      <td>-0.111481</td>\n",
       "      <td>-0.076385</td>\n",
       "      <td>-0.335122</td>\n",
       "      <td>0.016736</td>\n",
       "      <td>0.012325</td>\n",
       "    </tr>\n",
       "    <tr>\n",
       "      <th>total_pymnt</th>\n",
       "      <td>0.481388</td>\n",
       "      <td>0.080466</td>\n",
       "      <td>0.173147</td>\n",
       "      <td>0.522720</td>\n",
       "      <td>0.088412</td>\n",
       "      <td>0.050858</td>\n",
       "      <td>0.158891</td>\n",
       "      <td>-0.080545</td>\n",
       "      <td>-0.033950</td>\n",
       "      <td>0.078355</td>\n",
       "      <td>...</td>\n",
       "      <td>1.000000</td>\n",
       "      <td>0.997524</td>\n",
       "      <td>0.969474</td>\n",
       "      <td>0.674291</td>\n",
       "      <td>0.054728</td>\n",
       "      <td>0.036590</td>\n",
       "      <td>0.035209</td>\n",
       "      <td>0.657837</td>\n",
       "      <td>-0.038941</td>\n",
       "      <td>-0.008902</td>\n",
       "    </tr>\n",
       "    <tr>\n",
       "      <th>total_pymnt_inv</th>\n",
       "      <td>0.482442</td>\n",
       "      <td>0.082209</td>\n",
       "      <td>0.174134</td>\n",
       "      <td>0.523592</td>\n",
       "      <td>0.086985</td>\n",
       "      <td>0.052950</td>\n",
       "      <td>0.158891</td>\n",
       "      <td>-0.078066</td>\n",
       "      <td>-0.033477</td>\n",
       "      <td>0.074424</td>\n",
       "      <td>...</td>\n",
       "      <td>0.997524</td>\n",
       "      <td>1.000000</td>\n",
       "      <td>0.966859</td>\n",
       "      <td>0.673569</td>\n",
       "      <td>0.051774</td>\n",
       "      <td>0.035151</td>\n",
       "      <td>0.032859</td>\n",
       "      <td>0.658397</td>\n",
       "      <td>-0.038568</td>\n",
       "      <td>-0.008648</td>\n",
       "    </tr>\n",
       "    <tr>\n",
       "      <th>total_rec_prncp</th>\n",
       "      <td>0.394501</td>\n",
       "      <td>-0.030768</td>\n",
       "      <td>0.054691</td>\n",
       "      <td>0.455082</td>\n",
       "      <td>-0.023410</td>\n",
       "      <td>0.037763</td>\n",
       "      <td>0.148058</td>\n",
       "      <td>-0.103489</td>\n",
       "      <td>-0.040346</td>\n",
       "      <td>0.062678</td>\n",
       "      <td>...</td>\n",
       "      <td>0.969474</td>\n",
       "      <td>0.966859</td>\n",
       "      <td>1.000000</td>\n",
       "      <td>0.478439</td>\n",
       "      <td>0.031316</td>\n",
       "      <td>-0.040050</td>\n",
       "      <td>-0.024355</td>\n",
       "      <td>0.741563</td>\n",
       "      <td>-0.038081</td>\n",
       "      <td>-0.011235</td>\n",
       "    </tr>\n",
       "    <tr>\n",
       "      <th>total_rec_int</th>\n",
       "      <td>0.541800</td>\n",
       "      <td>0.387304</td>\n",
       "      <td>0.454418</td>\n",
       "      <td>0.504912</td>\n",
       "      <td>0.386923</td>\n",
       "      <td>0.070302</td>\n",
       "      <td>0.125862</td>\n",
       "      <td>0.024637</td>\n",
       "      <td>0.000546</td>\n",
       "      <td>0.086377</td>\n",
       "      <td>...</td>\n",
       "      <td>0.674291</td>\n",
       "      <td>0.673569</td>\n",
       "      <td>0.478439</td>\n",
       "      <td>1.000000</td>\n",
       "      <td>0.089553</td>\n",
       "      <td>0.068628</td>\n",
       "      <td>0.052070</td>\n",
       "      <td>0.127764</td>\n",
       "      <td>-0.024553</td>\n",
       "      <td>0.002033</td>\n",
       "    </tr>\n",
       "    <tr>\n",
       "      <th>total_rec_late_fee</th>\n",
       "      <td>0.031466</td>\n",
       "      <td>0.004381</td>\n",
       "      <td>0.057754</td>\n",
       "      <td>0.042045</td>\n",
       "      <td>0.053928</td>\n",
       "      <td>-0.009514</td>\n",
       "      <td>0.012949</td>\n",
       "      <td>-0.010809</td>\n",
       "      <td>0.017106</td>\n",
       "      <td>0.031270</td>\n",
       "      <td>...</td>\n",
       "      <td>0.054728</td>\n",
       "      <td>0.051774</td>\n",
       "      <td>0.031316</td>\n",
       "      <td>0.089553</td>\n",
       "      <td>1.000000</td>\n",
       "      <td>0.074419</td>\n",
       "      <td>0.069174</td>\n",
       "      <td>-0.014795</td>\n",
       "      <td>-0.003092</td>\n",
       "      <td>0.003296</td>\n",
       "    </tr>\n",
       "    <tr>\n",
       "      <th>recoveries</th>\n",
       "      <td>0.073925</td>\n",
       "      <td>0.058292</td>\n",
       "      <td>0.108739</td>\n",
       "      <td>0.074988</td>\n",
       "      <td>0.093130</td>\n",
       "      <td>0.004414</td>\n",
       "      <td>0.006723</td>\n",
       "      <td>0.004025</td>\n",
       "      <td>-0.001155</td>\n",
       "      <td>0.045961</td>\n",
       "      <td>...</td>\n",
       "      <td>0.036590</td>\n",
       "      <td>0.035151</td>\n",
       "      <td>-0.040050</td>\n",
       "      <td>0.068628</td>\n",
       "      <td>0.074419</td>\n",
       "      <td>1.000000</td>\n",
       "      <td>0.803893</td>\n",
       "      <td>-0.038593</td>\n",
       "      <td>-0.004835</td>\n",
       "      <td>0.000638</td>\n",
       "    </tr>\n",
       "    <tr>\n",
       "      <th>collection_recovery_fee</th>\n",
       "      <td>0.052267</td>\n",
       "      <td>0.036316</td>\n",
       "      <td>0.071332</td>\n",
       "      <td>0.054078</td>\n",
       "      <td>0.064704</td>\n",
       "      <td>0.002959</td>\n",
       "      <td>0.006048</td>\n",
       "      <td>0.005380</td>\n",
       "      <td>0.000743</td>\n",
       "      <td>0.034102</td>\n",
       "      <td>...</td>\n",
       "      <td>0.035209</td>\n",
       "      <td>0.032859</td>\n",
       "      <td>-0.024355</td>\n",
       "      <td>0.052070</td>\n",
       "      <td>0.069174</td>\n",
       "      <td>0.803893</td>\n",
       "      <td>1.000000</td>\n",
       "      <td>-0.026304</td>\n",
       "      <td>-0.003189</td>\n",
       "      <td>0.000233</td>\n",
       "    </tr>\n",
       "    <tr>\n",
       "      <th>last_pymnt_amnt</th>\n",
       "      <td>0.230415</td>\n",
       "      <td>0.070348</td>\n",
       "      <td>0.102689</td>\n",
       "      <td>0.239808</td>\n",
       "      <td>0.067576</td>\n",
       "      <td>0.028677</td>\n",
       "      <td>0.088899</td>\n",
       "      <td>-0.057900</td>\n",
       "      <td>-0.020496</td>\n",
       "      <td>0.060395</td>\n",
       "      <td>...</td>\n",
       "      <td>0.657837</td>\n",
       "      <td>0.658397</td>\n",
       "      <td>0.741563</td>\n",
       "      <td>0.127764</td>\n",
       "      <td>-0.014795</td>\n",
       "      <td>-0.038593</td>\n",
       "      <td>-0.026304</td>\n",
       "      <td>1.000000</td>\n",
       "      <td>-0.017497</td>\n",
       "      <td>-0.003379</td>\n",
       "    </tr>\n",
       "    <tr>\n",
       "      <th>collections_12_mths_ex_med</th>\n",
       "      <td>-0.016375</td>\n",
       "      <td>-0.005175</td>\n",
       "      <td>0.013540</td>\n",
       "      <td>-0.013769</td>\n",
       "      <td>0.019895</td>\n",
       "      <td>-0.003864</td>\n",
       "      <td>-0.003524</td>\n",
       "      <td>-0.000205</td>\n",
       "      <td>0.063029</td>\n",
       "      <td>0.006177</td>\n",
       "      <td>...</td>\n",
       "      <td>-0.038941</td>\n",
       "      <td>-0.038568</td>\n",
       "      <td>-0.038081</td>\n",
       "      <td>-0.024553</td>\n",
       "      <td>-0.003092</td>\n",
       "      <td>-0.004835</td>\n",
       "      <td>-0.003189</td>\n",
       "      <td>-0.017497</td>\n",
       "      <td>1.000000</td>\n",
       "      <td>0.041013</td>\n",
       "    </tr>\n",
       "    <tr>\n",
       "      <th>acc_now_delinq</th>\n",
       "      <td>0.003156</td>\n",
       "      <td>0.004784</td>\n",
       "      <td>0.026804</td>\n",
       "      <td>0.005836</td>\n",
       "      <td>0.028240</td>\n",
       "      <td>0.009118</td>\n",
       "      <td>0.014737</td>\n",
       "      <td>0.007177</td>\n",
       "      <td>0.130085</td>\n",
       "      <td>-0.005661</td>\n",
       "      <td>...</td>\n",
       "      <td>-0.008902</td>\n",
       "      <td>-0.008648</td>\n",
       "      <td>-0.011235</td>\n",
       "      <td>0.002033</td>\n",
       "      <td>0.003296</td>\n",
       "      <td>0.000638</td>\n",
       "      <td>0.000233</td>\n",
       "      <td>-0.003379</td>\n",
       "      <td>0.041013</td>\n",
       "      <td>1.000000</td>\n",
       "    </tr>\n",
       "  </tbody>\n",
       "</table>\n",
       "<p>27 rows × 27 columns</p>\n",
       "</div>"
      ],
      "text/plain": [
       "                            loan_amnt      term  int_rate  installment  \\\n",
       "loan_amnt                    1.000000  0.408105  0.149709     0.944134   \n",
       "term                         0.408105  1.000000  0.433304     0.138958   \n",
       "int_rate                     0.149709  0.433304  1.000000     0.136518   \n",
       "installment                  0.944134  0.138958  0.136518     1.000000   \n",
       "grade                        0.155832  0.448350  0.953967     0.132519   \n",
       "emp_length                   0.106380  0.068953  0.010064     0.090830   \n",
       "annual_inc                   0.326205  0.051867 -0.072268     0.320606   \n",
       "dti                          0.046469  0.111411  0.162611     0.031326   \n",
       "delinq_2yrs                 -0.001885 -0.001617  0.055793     0.006412   \n",
       "inq_last_6mths              -0.035108 -0.005322  0.228113    -0.003946   \n",
       "open_acc                     0.191973  0.081855 -0.007349     0.177509   \n",
       "pub_rec                     -0.075887 -0.021501  0.052925    -0.064926   \n",
       "revol_bal                    0.330950  0.088328 -0.034261     0.314061   \n",
       "revol_util                   0.117280  0.084612  0.268269     0.129345   \n",
       "total_acc                    0.220120  0.100539 -0.035693     0.197736   \n",
       "out_prncp                    0.640055  0.393800  0.045876     0.538921   \n",
       "out_prncp_inv                0.640056  0.393757  0.045741     0.538916   \n",
       "total_pymnt                  0.481388  0.080466  0.173147     0.522720   \n",
       "total_pymnt_inv              0.482442  0.082209  0.174134     0.523592   \n",
       "total_rec_prncp              0.394501 -0.030768  0.054691     0.455082   \n",
       "total_rec_int                0.541800  0.387304  0.454418     0.504912   \n",
       "total_rec_late_fee           0.031466  0.004381  0.057754     0.042045   \n",
       "recoveries                   0.073925  0.058292  0.108739     0.074988   \n",
       "collection_recovery_fee      0.052267  0.036316  0.071332     0.054078   \n",
       "last_pymnt_amnt              0.230415  0.070348  0.102689     0.239808   \n",
       "collections_12_mths_ex_med  -0.016375 -0.005175  0.013540    -0.013769   \n",
       "acc_now_delinq               0.003156  0.004784  0.026804     0.005836   \n",
       "\n",
       "                               grade  emp_length  annual_inc       dti  \\\n",
       "loan_amnt                   0.155832    0.106380    0.326205  0.046469   \n",
       "term                        0.448350    0.068953    0.051867  0.111411   \n",
       "int_rate                    0.953967    0.010064   -0.072268  0.162611   \n",
       "installment                 0.132519    0.090830    0.320606  0.031326   \n",
       "grade                       1.000000    0.005267   -0.063571  0.169300   \n",
       "emp_length                  0.005267    1.000000    0.064145  0.044093   \n",
       "annual_inc                 -0.063571    0.064145    1.000000 -0.177764   \n",
       "dti                         0.169300    0.044093   -0.177764  1.000000   \n",
       "delinq_2yrs                 0.060265    0.025486    0.046268 -0.008409   \n",
       "inq_last_6mths              0.216127   -0.011210    0.035400 -0.017492   \n",
       "open_acc                    0.003090    0.038963    0.132410  0.305586   \n",
       "pub_rec                     0.060798    0.032395   -0.002771 -0.048538   \n",
       "revol_bal                  -0.028386    0.086933    0.293777  0.140344   \n",
       "revol_util                  0.245165    0.035024    0.033416  0.179965   \n",
       "total_acc                  -0.030890    0.102680    0.185036  0.229499   \n",
       "out_prncp                   0.120833    0.074782    0.205611  0.123122   \n",
       "out_prncp_inv               0.120692    0.074790    0.205650  0.123047   \n",
       "total_pymnt                 0.088412    0.050858    0.158891 -0.080545   \n",
       "total_pymnt_inv             0.086985    0.052950    0.158891 -0.078066   \n",
       "total_rec_prncp            -0.023410    0.037763    0.148058 -0.103489   \n",
       "total_rec_int               0.386923    0.070302    0.125862  0.024637   \n",
       "total_rec_late_fee          0.053928   -0.009514    0.012949 -0.010809   \n",
       "recoveries                  0.093130    0.004414    0.006723  0.004025   \n",
       "collection_recovery_fee     0.064704    0.002959    0.006048  0.005380   \n",
       "last_pymnt_amnt             0.067576    0.028677    0.088899 -0.057900   \n",
       "collections_12_mths_ex_med  0.019895   -0.003864   -0.003524 -0.000205   \n",
       "acc_now_delinq              0.028240    0.009118    0.014737  0.007177   \n",
       "\n",
       "                            delinq_2yrs  inq_last_6mths  ...  total_pymnt  \\\n",
       "loan_amnt                     -0.001885       -0.035108  ...     0.481388   \n",
       "term                          -0.001617       -0.005322  ...     0.080466   \n",
       "int_rate                       0.055793        0.228113  ...     0.173147   \n",
       "installment                    0.006412       -0.003946  ...     0.522720   \n",
       "grade                          0.060265        0.216127  ...     0.088412   \n",
       "emp_length                     0.025486       -0.011210  ...     0.050858   \n",
       "annual_inc                     0.046268        0.035400  ...     0.158891   \n",
       "dti                           -0.008409       -0.017492  ...    -0.080545   \n",
       "delinq_2yrs                    1.000000        0.020329  ...    -0.033950   \n",
       "inq_last_6mths                 0.020329        1.000000  ...     0.078355   \n",
       "open_acc                       0.050613        0.109801  ...     0.039782   \n",
       "pub_rec                       -0.009342        0.057020  ...    -0.085180   \n",
       "revol_bal                     -0.033686       -0.017261  ...     0.138875   \n",
       "revol_util                    -0.017702       -0.088446  ...     0.078468   \n",
       "total_acc                      0.121688        0.134256  ...     0.109186   \n",
       "out_prncp                      0.031940       -0.108621  ...    -0.286978   \n",
       "out_prncp_inv                  0.031931       -0.108640  ...    -0.286971   \n",
       "total_pymnt                   -0.033950        0.078355  ...     1.000000   \n",
       "total_pymnt_inv               -0.033477        0.074424  ...     0.997524   \n",
       "total_rec_prncp               -0.040346        0.062678  ...     0.969474   \n",
       "total_rec_int                  0.000546        0.086377  ...     0.674291   \n",
       "total_rec_late_fee             0.017106        0.031270  ...     0.054728   \n",
       "recoveries                    -0.001155        0.045961  ...     0.036590   \n",
       "collection_recovery_fee        0.000743        0.034102  ...     0.035209   \n",
       "last_pymnt_amnt               -0.020496        0.060395  ...     0.657837   \n",
       "collections_12_mths_ex_med     0.063029        0.006177  ...    -0.038941   \n",
       "acc_now_delinq                 0.130085       -0.005661  ...    -0.008902   \n",
       "\n",
       "                            total_pymnt_inv  total_rec_prncp  total_rec_int  \\\n",
       "loan_amnt                          0.482442         0.394501       0.541800   \n",
       "term                               0.082209        -0.030768       0.387304   \n",
       "int_rate                           0.174134         0.054691       0.454418   \n",
       "installment                        0.523592         0.455082       0.504912   \n",
       "grade                              0.086985        -0.023410       0.386923   \n",
       "emp_length                         0.052950         0.037763       0.070302   \n",
       "annual_inc                         0.158891         0.148058       0.125862   \n",
       "dti                               -0.078066        -0.103489       0.024637   \n",
       "delinq_2yrs                       -0.033477        -0.040346       0.000546   \n",
       "inq_last_6mths                     0.074424         0.062678       0.086377   \n",
       "open_acc                           0.041088         0.028206       0.059628   \n",
       "pub_rec                           -0.084401        -0.082073      -0.056961   \n",
       "revol_bal                          0.138296         0.120262       0.138077   \n",
       "revol_util                         0.079764         0.033375       0.182720   \n",
       "total_acc                          0.110196         0.099752       0.091863   \n",
       "out_prncp                         -0.283321        -0.372574       0.124452   \n",
       "out_prncp_inv                     -0.283307        -0.372568       0.124464   \n",
       "total_pymnt                        0.997524         0.969474       0.674291   \n",
       "total_pymnt_inv                    1.000000         0.966859       0.673569   \n",
       "total_rec_prncp                    0.966859         1.000000       0.478439   \n",
       "total_rec_int                      0.673569         0.478439       1.000000   \n",
       "total_rec_late_fee                 0.051774         0.031316       0.089553   \n",
       "recoveries                         0.035151        -0.040050       0.068628   \n",
       "collection_recovery_fee            0.032859        -0.024355       0.052070   \n",
       "last_pymnt_amnt                    0.658397         0.741563       0.127764   \n",
       "collections_12_mths_ex_med        -0.038568        -0.038081      -0.024553   \n",
       "acc_now_delinq                    -0.008648        -0.011235       0.002033   \n",
       "\n",
       "                            total_rec_late_fee  recoveries  \\\n",
       "loan_amnt                             0.031466    0.073925   \n",
       "term                                  0.004381    0.058292   \n",
       "int_rate                              0.057754    0.108739   \n",
       "installment                           0.042045    0.074988   \n",
       "grade                                 0.053928    0.093130   \n",
       "emp_length                           -0.009514    0.004414   \n",
       "annual_inc                            0.012949    0.006723   \n",
       "dti                                  -0.010809    0.004025   \n",
       "delinq_2yrs                           0.017106   -0.001155   \n",
       "inq_last_6mths                        0.031270    0.045961   \n",
       "open_acc                             -0.009964    0.001312   \n",
       "pub_rec                              -0.011179   -0.013708   \n",
       "revol_bal                             0.002038    0.010271   \n",
       "revol_util                            0.022062    0.029136   \n",
       "total_acc                            -0.005075    0.009473   \n",
       "out_prncp                            -0.032689   -0.111481   \n",
       "out_prncp_inv                        -0.032694   -0.111481   \n",
       "total_pymnt                           0.054728    0.036590   \n",
       "total_pymnt_inv                       0.051774    0.035151   \n",
       "total_rec_prncp                       0.031316   -0.040050   \n",
       "total_rec_int                         0.089553    0.068628   \n",
       "total_rec_late_fee                    1.000000    0.074419   \n",
       "recoveries                            0.074419    1.000000   \n",
       "collection_recovery_fee               0.069174    0.803893   \n",
       "last_pymnt_amnt                      -0.014795   -0.038593   \n",
       "collections_12_mths_ex_med           -0.003092   -0.004835   \n",
       "acc_now_delinq                        0.003296    0.000638   \n",
       "\n",
       "                            collection_recovery_fee  last_pymnt_amnt  \\\n",
       "loan_amnt                                  0.052267         0.230415   \n",
       "term                                       0.036316         0.070348   \n",
       "int_rate                                   0.071332         0.102689   \n",
       "installment                                0.054078         0.239808   \n",
       "grade                                      0.064704         0.067576   \n",
       "emp_length                                 0.002959         0.028677   \n",
       "annual_inc                                 0.006048         0.088899   \n",
       "dti                                        0.005380        -0.057900   \n",
       "delinq_2yrs                                0.000743        -0.020496   \n",
       "inq_last_6mths                             0.034102         0.060395   \n",
       "open_acc                                   0.003085         0.026429   \n",
       "pub_rec                                   -0.008150        -0.032166   \n",
       "revol_bal                                  0.007900         0.058229   \n",
       "revol_util                                 0.019013        -0.003686   \n",
       "total_acc                                  0.010199         0.086465   \n",
       "out_prncp                                 -0.076385        -0.335123   \n",
       "out_prncp_inv                             -0.076385        -0.335122   \n",
       "total_pymnt                                0.035209         0.657837   \n",
       "total_pymnt_inv                            0.032859         0.658397   \n",
       "total_rec_prncp                           -0.024355         0.741563   \n",
       "total_rec_int                              0.052070         0.127764   \n",
       "total_rec_late_fee                         0.069174        -0.014795   \n",
       "recoveries                                 0.803893        -0.038593   \n",
       "collection_recovery_fee                    1.000000        -0.026304   \n",
       "last_pymnt_amnt                           -0.026304         1.000000   \n",
       "collections_12_mths_ex_med                -0.003189        -0.017497   \n",
       "acc_now_delinq                             0.000233        -0.003379   \n",
       "\n",
       "                            collections_12_mths_ex_med  acc_now_delinq  \n",
       "loan_amnt                                    -0.016375        0.003156  \n",
       "term                                         -0.005175        0.004784  \n",
       "int_rate                                      0.013540        0.026804  \n",
       "installment                                  -0.013769        0.005836  \n",
       "grade                                         0.019895        0.028240  \n",
       "emp_length                                   -0.003864        0.009118  \n",
       "annual_inc                                   -0.003524        0.014737  \n",
       "dti                                          -0.000205        0.007177  \n",
       "delinq_2yrs                                   0.063029        0.130085  \n",
       "inq_last_6mths                                0.006177       -0.005661  \n",
       "open_acc                                      0.009869        0.017499  \n",
       "pub_rec                                       0.021814       -0.000256  \n",
       "revol_bal                                    -0.022322       -0.000896  \n",
       "revol_util                                   -0.035715       -0.027113  \n",
       "total_acc                                     0.009318        0.026359  \n",
       "out_prncp                                     0.016753        0.012334  \n",
       "out_prncp_inv                                 0.016736        0.012325  \n",
       "total_pymnt                                  -0.038941       -0.008902  \n",
       "total_pymnt_inv                              -0.038568       -0.008648  \n",
       "total_rec_prncp                              -0.038081       -0.011235  \n",
       "total_rec_int                                -0.024553        0.002033  \n",
       "total_rec_late_fee                           -0.003092        0.003296  \n",
       "recoveries                                   -0.004835        0.000638  \n",
       "collection_recovery_fee                      -0.003189        0.000233  \n",
       "last_pymnt_amnt                              -0.017497       -0.003379  \n",
       "collections_12_mths_ex_med                    1.000000        0.041013  \n",
       "acc_now_delinq                                0.041013        1.000000  \n",
       "\n",
       "[27 rows x 27 columns]"
      ]
     },
     "execution_count": 168,
     "metadata": {},
     "output_type": "execute_result"
    }
   ],
   "source": [
    "# Choosing the numeric columns to check for correlations\n",
    "\n",
    "df[['loan_amnt', 'term', 'int_rate', 'installment', 'grade', 'emp_length', 'annual_inc', 'zip_code',\n",
    "        'dti', 'delinq_2yrs', 'inq_last_6mths', 'open_acc', 'pub_rec', 'revol_bal', 'revol_util', \n",
    "        'total_acc', 'out_prncp', 'out_prncp_inv', 'total_pymnt', 'total_pymnt_inv',\n",
    "       'total_rec_prncp', 'total_rec_int', 'total_rec_late_fee', 'recoveries',\n",
    "       'collection_recovery_fee', 'last_pymnt_amnt', 'collections_12_mths_ex_med',\n",
    "       'acc_now_delinq']].corr()"
   ]
  },
  {
   "cell_type": "code",
   "execution_count": 169,
   "id": "64225c94",
   "metadata": {},
   "outputs": [
    {
     "data": {
      "image/png": "[encoded data removed]",
      "text/plain": [
       "<Figure size 576x576 with 2 Axes>"
      ]
     },
     "metadata": {
      "needs_background": "light"
     },
     "output_type": "display_data"
    }
   ],
   "source": [
    "# Exploring correlations\n",
    "\n",
    "plt.figure(figsize=(8,8))\n",
    "heat_map = sns.heatmap(df[['loan_amnt', 'term', 'int_rate', 'installment', 'grade', 'emp_length', 'annual_inc', \n",
    "        'zip_code', 'dti', 'delinq_2yrs', 'inq_last_6mths', 'open_acc', 'pub_rec', 'revol_bal', 'revol_util', \n",
    "        'total_acc', 'out_prncp', 'out_prncp_inv', 'total_pymnt', 'total_pymnt_inv',\n",
    "       'total_rec_prncp', 'total_rec_int', 'total_rec_late_fee', 'recoveries',\n",
    "       'collection_recovery_fee', 'last_pymnt_amnt', 'collections_12_mths_ex_med',\n",
    "       'acc_now_delinq']].corr())\n",
    "plt.title( \"Loan data heatmap\" )\n",
    "plt.show()"
   ]
  },
  {
   "cell_type": "markdown",
   "id": "75578b5f",
   "metadata": {},
   "source": [
    "# Dealing with Outliers"
   ]
  },
  {
   "cell_type": "code",
   "execution_count": 170,
   "id": "dcf8ae0b",
   "metadata": {},
   "outputs": [],
   "source": [
    "# As you can see from the below charts, DTI and Annual Income columns have extereme values."
   ]
  },
  {
   "cell_type": "code",
   "execution_count": 171,
   "id": "399545f8",
   "metadata": {},
   "outputs": [
    {
     "data": {
      "image/png": "[encoded data removed]",
      "text/plain": [
       "<Figure size 432x288 with 1 Axes>"
      ]
     },
     "metadata": {
      "needs_background": "light"
     },
     "output_type": "display_data"
    }
   ],
   "source": [
    "plt.hist(df['dti'])\n",
    "plt.xlabel('Income to Debt Ratio(DTI)')\n",
    "plt.ylabel('Distribution')\n",
    "plt.show()"
   ]
  },
  {
   "cell_type": "code",
   "execution_count": 172,
   "id": "b197f47e",
   "metadata": {},
   "outputs": [
    {
     "data": {
      "image/png": "[encoded data removed]",
      "text/plain": [
       "<Figure size 432x288 with 1 Axes>"
      ]
     },
     "metadata": {
      "needs_background": "light"
     },
     "output_type": "display_data"
    }
   ],
   "source": [
    "plt.hist(df['annual_inc'])\n",
    "plt.xlabel('Annual Income')\n",
    "plt.ylabel('Distribution')\n",
    "plt.show()"
   ]
  },
  {
   "cell_type": "code",
   "execution_count": 173,
   "id": "275b468d",
   "metadata": {},
   "outputs": [
    {
     "data": {
      "text/plain": [
       "9500000.0"
      ]
     },
     "execution_count": 173,
     "metadata": {},
     "output_type": "execute_result"
    }
   ],
   "source": [
    "# Checking the annual_inc column\n",
    "df['annual_inc'].max()"
   ]
  },
  {
   "cell_type": "code",
   "execution_count": 174,
   "id": "10ee0d83",
   "metadata": {},
   "outputs": [
    {
     "data": {
      "text/plain": [
       "196071.44670046447"
      ]
     },
     "execution_count": 174,
     "metadata": {},
     "output_type": "execute_result"
    }
   ],
   "source": [
    "# removing extereme values in the annual income column\n",
    "inc_mean = df['annual_inc'].mean()\n",
    "inc_std = df['annual_inc'].std()\n",
    "Three_std = 3*inc_std\n",
    "Three_std"
   ]
  },
  {
   "cell_type": "code",
   "execution_count": 175,
   "id": "13ca8966",
   "metadata": {},
   "outputs": [
    {
     "data": {
      "text/plain": [
       "379557.0000000298"
      ]
     },
     "execution_count": 175,
     "metadata": {},
     "output_type": "execute_result"
    }
   ],
   "source": [
    "# 99.7 Quantile\n",
    "quantile_997 = df['annual_inc'].quantile(0.997)\n",
    "quantile_997"
   ]
  },
  {
   "cell_type": "code",
   "execution_count": 176,
   "id": "e48e527f",
   "metadata": {},
   "outputs": [
    {
     "name": "stdout",
     "output_type": "stream",
     "text": [
      "379000.0\n"
     ]
    }
   ],
   "source": [
    "# Removing the data that is above the 99.7 quantile of the annual income column. \n",
    "# I prefer the 99.7 quantile treshold than the 3 standard deviation because it removes less data.\n",
    "\n",
    "df = df[df['annual_inc'] <= quantile_997]\n",
    "print(df['annual_inc'].max())"
   ]
  },
  {
   "cell_type": "code",
   "execution_count": 177,
   "id": "1e48fd6d",
   "metadata": {},
   "outputs": [
    {
     "name": "stdout",
     "output_type": "stream",
     "text": [
      "max dti 380.53\n",
      "dti 99.7 percentile 379557.0000000298\n"
     ]
    }
   ],
   "source": [
    "# Checking the annual_inc column\n",
    "print('max dti', df['dti'].max())\n",
    "\n",
    "# 99.7 Quantile\n",
    "dti_997 = df['dti'].quantile(0.997)\n",
    "print('dti 99.7 percentile', quantile_997)"
   ]
  },
  {
   "cell_type": "code",
   "execution_count": 178,
   "id": "57785e12",
   "metadata": {},
   "outputs": [
    {
     "name": "stdout",
     "output_type": "stream",
     "text": [
      "39.06\n"
     ]
    }
   ],
   "source": [
    "# Removing the data that is above the 99.7 quantile. \n",
    "\n",
    "df = df[df['dti'] <= dti_997]\n",
    "print(df['dti'].max())"
   ]
  },
  {
   "cell_type": "markdown",
   "id": "a27dd60f",
   "metadata": {},
   "source": [
    "## DTI and Loan Status."
   ]
  },
  {
   "cell_type": "code",
   "execution_count": 179,
   "id": "aaf508e8",
   "metadata": {},
   "outputs": [],
   "source": [
    "# Exploring the correlation between the loan status column and dti.\n",
    "\n",
    "loan_status_dti = df.groupby('loan_status')['dti'].median()"
   ]
  },
  {
   "cell_type": "code",
   "execution_count": 180,
   "id": "88a8091b",
   "metadata": {
    "scrolled": true
   },
   "outputs": [
    {
     "data": {
      "text/plain": [
       "loan_status\n",
       "Fully Paid            15.730\n",
       "Issued                16.885\n",
       "Current               18.140\n",
       "Charged Off           18.260\n",
       "Late (16-30 days)     18.850\n",
       "In Grace Period       19.200\n",
       "Late (31-120 days)    19.440\n",
       "Default               19.690\n",
       "Name: dti, dtype: float64"
      ]
     },
     "execution_count": 180,
     "metadata": {},
     "output_type": "execute_result"
    }
   ],
   "source": [
    "# dti - Loan to income ratio. The smaller value the better.\n",
    "\n",
    "loan_status_dti.sort_values()"
   ]
  },
  {
   "cell_type": "markdown",
   "id": "48412e65",
   "metadata": {},
   "source": [
    "As expected, the data shows that the bad loan statuses correspond to higher media dti value \n",
    "and the good loan statuses correspond with low dti value."
   ]
  },
  {
   "cell_type": "code",
   "execution_count": 181,
   "id": "4be2f565",
   "metadata": {},
   "outputs": [
    {
     "data": {
      "image/png": "[encoded data removed]",
      "text/plain": [
       "<Figure size 432x288 with 1 Axes>"
      ]
     },
     "metadata": {
      "needs_background": "light"
     },
     "output_type": "display_data"
    }
   ],
   "source": [
    "# I will do this plot after excluding the extreme value in current.\n",
    "_ = sns.boxplot(x='loan_status', y='dti', data=outliers_removed)\n",
    "plt.xticks(rotation=90)\n",
    "plt.show()\n",
    "\n",
    "# With the exception of charged off, bad loan statuses correspond with higher dti value."
   ]
  },
  {
   "cell_type": "markdown",
   "id": "861affe6",
   "metadata": {},
   "source": [
    "# encoding the loan status column as good (value 0) and bad (value 1)"
   ]
  },
  {
   "cell_type": "code",
   "execution_count": 182,
   "id": "56a4f94c",
   "metadata": {},
   "outputs": [
    {
     "data": {
      "text/plain": [
       "0    763806\n",
       "1     56748\n",
       "Name: loan_status, dtype: int64"
      ]
     },
     "execution_count": 182,
     "metadata": {},
     "output_type": "execute_result"
    }
   ],
   "source": [
    "# loan_status will be my target variable.\n",
    "# charged off - substantially delinquent, loan unlikely to be collected.\n",
    "# in grace period - late fee is waived if the financial obligation is satisfied within that period. \n",
    "# I will consider 'in grace period' as a good status.\n",
    "# Combining loan status values to 'good', which will be 0 or 'bad', which will be 1.\n",
    "\n",
    "df['loan_status'].value_counts() \n",
    "\n",
    "# Good loans will be 0 and bad loans will be 1\n",
    "df['loan_status']= df['loan_status'].replace(dict.fromkeys(['Current','Fully Paid','In Grace Period','Issued'], 0))\n",
    "df['loan_status']= df['loan_status'].replace(dict.fromkeys(['Charged Off','Late (31-120 days)','Late (16-30 days)','Default'], 1))\n",
    "df['loan_status'].value_counts()"
   ]
  },
  {
   "cell_type": "markdown",
   "id": "7b442ca4",
   "metadata": {},
   "source": [
    "# Loan Status and dti"
   ]
  },
  {
   "cell_type": "code",
   "execution_count": 199,
   "id": "a29cd9f5",
   "metadata": {
    "scrolled": false
   },
   "outputs": [
    {
     "name": "stdout",
     "output_type": "stream",
     "text": [
      "median dti for those in bad loan status 18.52\n",
      "mean dti for those in bad loan status 18.617327130471686\n",
      "Standard deviation of dti for those in bad loan status 7.99269219480928\n",
      "5th, 25th, 50th, 75th, and 95th percentiles for those in bad loan status [ 5.52 12.73 18.52 24.34 32.13]\n",
      "median dti for those in good loan status 17.48\n",
      "mean dti for those in good loan status 17.95628050840123\n",
      "Standard deviation of dti for those in good loan status 8.177605621908466\n",
      "5th, 25th, 50th, 75th, and 95th percentiles for those in good loan status [ 5.21   11.82   17.48   23.7    32.3675]\n"
     ]
    }
   ],
   "source": [
    "\n",
    "print('median dti for those in bad loan status', df[df['loan_status'] == 1]['dti'].median())\n",
    "print('mean dti for those in bad loan status', df[df['loan_status'] == 1]['dti'].mean())\n",
    "print('Standard deviation of dti for those in bad loan status', df[df['loan_status'] == 1]['dti'].std())\n",
    "print('5th, 25th, 50th, 75th, and 95th percentiles for those in bad loan status', np.percentile(df[df['loan_status'] == 1]['dti'], (5, 25, 50, 75, 95)))\n",
    "\n",
    "print('median dti for those in good loan status', df[df['loan_status'] == 0]['dti'].median())\n",
    "print('mean dti for those in good loan status', df[df['loan_status'] == 0]['dti'].mean())\n",
    "print('Standard deviation of dti for those in good loan status', df[df['loan_status'] == 0]['dti'].std())\n",
    "print('5th, 25th, 50th, 75th, and 95th percentiles for those in good loan status', np.percentile(df[df['loan_status'] == 0]['dti'], (5, 25, 50, 75, 95)))\n"
   ]
  },
  {
   "cell_type": "code",
   "execution_count": 184,
   "id": "3bfe4a94",
   "metadata": {},
   "outputs": [
    {
     "data": {
      "image/png": "[encoded data removed]",
      "text/plain": [
       "<Figure size 432x288 with 1 Axes>"
      ]
     },
     "metadata": {
      "needs_background": "light"
     },
     "output_type": "display_data"
    }
   ],
   "source": [
    "\n",
    "_ = plt.hist(df[df['loan_status'] == 0]['dti'], histtype='step', density = True, color='green', label='Good loan status')\n",
    "_ = plt.hist(df[df['loan_status'] == 1]['dti'], histtype='step', density = True, color='red', label='Bad loan status')\n",
    "_ = plt.xlabel('DTI')\n",
    "_ = plt.ylabel('Percentage distribution')\n",
    "plt.legend()\n",
    "\n",
    "plt.show()"
   ]
  },
  {
   "cell_type": "code",
   "execution_count": 185,
   "id": "fd996f8c",
   "metadata": {},
   "outputs": [],
   "source": [
    "# Those customers with loan's in bad status have a little bit higher dti on average than the dti for those in good status."
   ]
  },
  {
   "cell_type": "markdown",
   "id": "f118aaf9",
   "metadata": {},
   "source": [
    "# Loan Status and Interest Rate"
   ]
  },
  {
   "cell_type": "code",
   "execution_count": 186,
   "id": "e317b571",
   "metadata": {
    "scrolled": false
   },
   "outputs": [
    {
     "data": {
      "image/png": "[encoded data removed]",
      "text/plain": [
       "<Figure size 432x288 with 1 Axes>"
      ]
     },
     "metadata": {
      "needs_background": "light"
     },
     "output_type": "display_data"
    }
   ],
   "source": [
    "\n",
    "_ = sns.boxplot(x='loan_status', y='int_rate', data=df)\n",
    "plt.xticks(rotation=90)\n",
    "plt.xlabel('Loan Status')\n",
    "plt.ylabel('Interest Rate')\n",
    "plt.legend(labels=['0=good', '1=bad'])\n",
    "plt.show()"
   ]
  },
  {
   "cell_type": "code",
   "execution_count": 187,
   "id": "27f537cc",
   "metadata": {},
   "outputs": [
    {
     "data": {
      "image/png": "[encoded data removed]",
      "text/plain": [
       "<Figure size 432x288 with 1 Axes>"
      ]
     },
     "metadata": {
      "needs_background": "light"
     },
     "output_type": "display_data"
    }
   ],
   "source": [
    "# Comparing interest rate distribution for bad status borrowers versus those in good status.\n",
    "\n",
    "_ = plt.hist(df[df['loan_status'] == 0]['int_rate'], histtype='step', density = True, color='green', label='Good loan status')\n",
    "_ = plt.hist(df[df['loan_status'] == 1]['int_rate'], histtype='step', density = True, color='red', label='Bad loan status')\n",
    "_ = plt.xlabel('Interest rate')\n",
    "_ = plt.ylabel('Percentage distribution')\n",
    "_ = plt.title('Interest rate distribution')\n",
    "plt.legend()\n",
    "\n",
    "plt.show()"
   ]
  },
  {
   "cell_type": "markdown",
   "id": "ade408ce",
   "metadata": {},
   "source": [
    "# Employment Length and Loan Status"
   ]
  },
  {
   "cell_type": "code",
   "execution_count": 188,
   "id": "6114d21f",
   "metadata": {},
   "outputs": [
    {
     "name": "stdout",
     "output_type": "stream",
     "text": [
      "Employment length for borrowers in bad loan status\n",
      "Mean:  5.7962923803482065\n",
      "Median:  6.0\n",
      "Standard deviation:  3.634850344622045\n",
      "5th, 25th, 50th, 75th, and 95th percentiles:  [ 0.  2.  6. 10. 10.]\n"
     ]
    }
   ],
   "source": [
    "# Comparing the employment length of the borrowers who are in bad status versus the interest rate of all borrowers.\n",
    "\n",
    "print('Employment length for borrowers in bad loan status')\n",
    "print('Mean: ', df[df['loan_status'] == 1]['emp_length'].mean())\n",
    "print('Median: ', df[df['loan_status'] == 1]['emp_length'].median())\n",
    "print('Standard deviation: ', df[df['loan_status'] == 1]['emp_length'].std())\n",
    "print('5th, 25th, 50th, 75th, and 95th percentiles: ', np.percentile(df[df['loan_status'] == 1]['emp_length'], (5, 25, 50, 75, 95)))"
   ]
  },
  {
   "cell_type": "code",
   "execution_count": 189,
   "id": "19c48619",
   "metadata": {},
   "outputs": [
    {
     "name": "stdout",
     "output_type": "stream",
     "text": [
      "Employment length for borrowers in good loan status\n",
      "Mean:  6.024901611142096\n",
      "Median:  6.0\n",
      "Standard deviation:  3.66599683955587\n",
      "5th, 25th, 50th, 75th, and 95th percentiles:  [ 0.  3.  6. 10. 10.]\n"
     ]
    }
   ],
   "source": [
    "print('Employment length for borrowers in good loan status')\n",
    "print('Mean: ', df[df['loan_status'] == 0]['emp_length'].mean())\n",
    "print('Median: ', df[df['loan_status'] == 0]['emp_length'].median())\n",
    "print('Standard deviation: ', df[df['loan_status'] == 0]['emp_length'].std())\n",
    "print('5th, 25th, 50th, 75th, and 95th percentiles: ', np.percentile(df[df['loan_status'] == 0]['emp_length'], (5, 25, 50, 75, 95)))"
   ]
  },
  {
   "cell_type": "code",
   "execution_count": 190,
   "id": "eba60733",
   "metadata": {},
   "outputs": [
    {
     "data": {
      "image/png": "[encoded data removed]",
      "text/plain": [
       "<Figure size 432x288 with 1 Axes>"
      ]
     },
     "metadata": {
      "needs_background": "light"
     },
     "output_type": "display_data"
    }
   ],
   "source": [
    "_ = sns.boxplot(x='loan_status', y='emp_length', data=df)\n",
    "plt.xticks(rotation=90)\n",
    "plt.xlabel('Loan Status')\n",
    "plt.ylabel('Employment Length')\n",
    "plt.legend(labels=['0=good', '1=bad'])\n",
    "plt.show()"
   ]
  },
  {
   "cell_type": "code",
   "execution_count": 191,
   "id": "8c71b978",
   "metadata": {},
   "outputs": [],
   "source": [
    "# There is not a significant difference in employment length between those in bad loan status versus those in good status."
   ]
  },
  {
   "cell_type": "markdown",
   "id": "5602d093",
   "metadata": {},
   "source": [
    "# Annual Income and Loan Status"
   ]
  },
  {
   "cell_type": "code",
   "execution_count": 192,
   "id": "5884eb62",
   "metadata": {},
   "outputs": [
    {
     "name": "stdout",
     "output_type": "stream",
     "text": [
      "Annual income for borrowers in bad loan status\n",
      "Mean:  66837.39690332697\n",
      "Median:  59000.0\n",
      "Standard deviation:  37311.9168726578\n",
      "5th, 25th, 50th, 75th, and 95th percentiles:  [ 27000.  42000.  59000.  80000. 135000.]\n"
     ]
    }
   ],
   "source": [
    "# Comparing the annual income of the borrowers who are in bad status versus those in good loan status.\n",
    "\n",
    "print('Annual income for borrowers in bad loan status')\n",
    "print('Mean: ', df[df['loan_status'] == 1]['annual_inc'].mean())\n",
    "print('Median: ', df[df['loan_status'] == 1]['annual_inc'].median())\n",
    "print('Standard deviation: ', df[df['loan_status'] == 1]['annual_inc'].std())\n",
    "print('5th, 25th, 50th, 75th, and 95th percentiles: ', np.percentile(df[df['loan_status'] == 1]['annual_inc'], (5, 25, 50, 75, 95)))"
   ]
  },
  {
   "cell_type": "code",
   "execution_count": 193,
   "id": "c3a8a9f0",
   "metadata": {},
   "outputs": [
    {
     "name": "stdout",
     "output_type": "stream",
     "text": [
      "Annual income of borrowers in good loan status\n",
      "Mean:  75218.18032348534\n",
      "Median:  65000.0\n",
      "Standard deviation:  42145.359066450226\n",
      "5th, 25th, 50th, 75th, and 95th percentiles:  [ 30000.  47300.  65000.  91000. 150000.]\n"
     ]
    }
   ],
   "source": [
    "# Summary statistics of Annual income for those in good loan status.\n",
    "\n",
    "print('Annual income of borrowers in good loan status')\n",
    "print('Mean: ', df[df['loan_status'] == 0]['annual_inc'].mean())\n",
    "print('Median: ', df[df['loan_status'] == 0]['annual_inc'].median())\n",
    "print('Standard deviation: ', df[df['loan_status'] == 0]['annual_inc'].std())\n",
    "print('5th, 25th, 50th, 75th, and 95th percentiles: ', np.percentile(df[df['loan_status'] == 0]['annual_inc'], (5, 25, 50, 75, 95)))"
   ]
  },
  {
   "cell_type": "code",
   "execution_count": 194,
   "id": "71098526",
   "metadata": {
    "scrolled": true
   },
   "outputs": [
    {
     "data": {
      "image/png": "[encoded data removed]",
      "text/plain": [
       "<Figure size 432x288 with 1 Axes>"
      ]
     },
     "metadata": {
      "needs_background": "light"
     },
     "output_type": "display_data"
    }
   ],
   "source": [
    "\n",
    "_ = plt.hist(df[df['loan_status'] == 0]['annual_inc'], histtype='step', density = True, color='green', label='Good loan status')\n",
    "_ = plt.hist(df[df['loan_status'] == 1]['annual_inc'], histtype='step', density = True, color='red', label='Bad loan status')\n",
    "_ = plt.xlabel('Annual income')\n",
    "_ = plt.ylabel('Percentage distribution')\n",
    "plt.legend()\n",
    "\n",
    "plt.show()"
   ]
  },
  {
   "cell_type": "code",
   "execution_count": 195,
   "id": "dd89a95e",
   "metadata": {},
   "outputs": [
    {
     "data": {
      "image/png": "[encoded data removed]",
      "text/plain": [
       "<Figure size 432x288 with 1 Axes>"
      ]
     },
     "metadata": {
      "needs_background": "light"
     },
     "output_type": "display_data"
    }
   ],
   "source": [
    "_ = sns.boxplot(x='loan_status', y='annual_inc', data=df)\n",
    "plt.xticks(rotation=90)\n",
    "plt.xlabel('Loan Status')\n",
    "plt.ylabel('Annual Income')\n",
    "plt.legend(labels=['0=good', '1=bad'])\n",
    "plt.show()"
   ]
  },
  {
   "cell_type": "code",
   "execution_count": 196,
   "id": "dc687910",
   "metadata": {},
   "outputs": [],
   "source": [
    "# It looks like those in good loan status have higher income on average than those in bad loan status."
   ]
  },
  {
   "cell_type": "code",
   "execution_count": 197,
   "id": "69bfe4c2",
   "metadata": {},
   "outputs": [],
   "source": [
    "# The data likely needs more cleaning in the next steps."
   ]
  },
  {
   "cell_type": "code",
   "execution_count": 198,
   "id": "506e6e41",
   "metadata": {},
   "outputs": [],
   "source": [
    "# Save the data in a csv file.\n",
    "df.to_csv('../data/interim/Loan_0715_after_eda.csv',index=False)"
   ]
  },
  {
   "cell_type": "code",
   "execution_count": null,
   "id": "a0c2900b",
   "metadata": {},
   "outputs": [],
   "source": []
  }
 ],
 "metadata": {
  "kernelspec": {
   "display_name": "Python 3 (ipykernel)",
   "language": "python",
   "name": "python3"
  },
  "language_info": {
   "codemirror_mode": {
    "name": "ipython",
    "version": 3
   },
   "file_extension": ".py",
   "mimetype": "text/x-python",
   "name": "python",
   "nbconvert_exporter": "python",
   "pygments_lexer": "ipython3",
   "version": "3.9.7"
  }
 },
 "nbformat": 4,
 "nbformat_minor": 5
}
