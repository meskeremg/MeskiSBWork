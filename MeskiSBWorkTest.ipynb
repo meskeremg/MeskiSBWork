{
 "cells": [
  {
   "cell_type": "code",
   "execution_count": 1,
   "id": "aed9777d",
   "metadata": {},
   "outputs": [
    {
     "name": "stdout",
     "output_type": "stream",
     "text": [
      "hello this is a test\n"
     ]
    }
   ],
   "source": [
    "print('hello this is a test')"
   ]
  },
  {
   "cell_type": "code",
   "execution_count": 2,
   "id": "d3d7ce7b",
   "metadata": {},
   "outputs": [
    {
     "name": "stdout",
     "output_type": "stream",
     "text": [
      "hi again\n"
     ]
    }
   ],
   "source": [
    "print('hi again')"
   ]
  },
  {
   "cell_type": "code",
   "execution_count": null,
   "id": "ce198cea",
   "metadata": {},
   "outputs": [],
   "source": []
  }
 ],
 "metadata": {
  "kernelspec": {
   "display_name": "Python 3 (ipykernel)",
   "language": "python",
   "name": "python3"
  },
  "language_info": {
   "codemirror_mode": {
    "name": "ipython",
    "version": 3
   },
   "file_extension": ".py",
   "mimetype": "text/x-python",
   "name": "python",
   "nbconvert_exporter": "python",
   "pygments_lexer": "ipython3",
   "version": "3.9.7"
  }
 },
 "nbformat": 4,
 "nbformat_minor": 5
}
